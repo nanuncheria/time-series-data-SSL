{
 "cells": [
  {
   "cell_type": "markdown",
   "metadata": {},
   "source": [
    "avoid any additional training and directly print results \n",
    "- determine whether the models (T_CPC or TS_CPC or S_CPC) are already capable of generating meaningful representations after the initial unsupervised/self-supervised training."
   ]
  },
  {
   "cell_type": "code",
   "execution_count": 1,
   "metadata": {},
   "outputs": [],
   "source": [
    "import wandb\n",
    "from linearclassifier_all import test_extract, linearclassifier, Wearable\n",
    "import itertools\n",
    "import torch\n",
    "from torch.utils.data import DataLoader\n",
    "import numpy as np\n",
    "\n",
    "import csv\n",
    "import pandas as pd\n",
    "import matplotlib.pyplot as plt\n",
    "import matplotlib.colors as mcolors\n",
    "\n",
    "\n",
    "from T_CPC import T_CPC\n",
    "from TS_CPC import TS_CPC\n",
    "from S_CPC import S_CPC"
   ]
  },
  {
   "cell_type": "code",
   "execution_count": 2,
   "metadata": {},
   "outputs": [],
   "source": [
    "import os\n",
    "os.environ[\"CUDA_VISIBLE_DEVICES\"] = \"4,6\""
   ]
  },
  {
   "cell_type": "code",
   "execution_count": 3,
   "metadata": {},
   "outputs": [],
   "source": [
    "torch.backends.cudnn.deterministic = True\n"
   ]
  },
  {
   "cell_type": "code",
   "execution_count": 4,
   "metadata": {},
   "outputs": [],
   "source": [
    "def no_train(model, type, train_loader, test_loader, device):\n",
    "# def train(num_epochs, model, type, optimizer, train_loader, test_loader, device, test_every=1):\n",
    "\n",
    "    # Directly extract representations without training\n",
    "    train_c_t, train_label, _ = test_extract(model, train_loader, device)\n",
    "    test_c_t, test_label, _ = test_extract(model, test_loader, device)\n",
    "\n",
    "    # Evaluate linear classifier without updates\n",
    "    accuracy, roc_auc = linearclassifier(type, train_c_t, train_label, test_c_t, test_label, log_graph=False)    # AUC-ROC, precision, F1 score, etc are saved in wandb already by the linearclassifier function\n",
    "    print(f\"Initial Accuracy without Training: {accuracy * 100:.2f}%\")\n",
    "\n",
    "\n",
    "\n",
    "    # Log metrics directly\n",
    "    wandb.log({\"initial_accuracy\": accuracy})\n",
    "\n",
    "    return accuracy, roc_auc\n"
   ]
  },
  {
   "cell_type": "code",
   "execution_count": 5,
   "metadata": {},
   "outputs": [
    {
     "name": "stdout",
     "output_type": "stream",
     "text": [
      "Running with model: T_CPC, classification: ClassifierNN, batch size: 1024\n"
     ]
    },
    {
     "name": "stderr",
     "output_type": "stream",
     "text": [
      "Failed to detect the name of this notebook, you can set it manually with the WANDB_NOTEBOOK_NAME environment variable to enable code saving.\n",
      "\u001b[34m\u001b[1mwandb\u001b[0m: Currently logged in as: \u001b[33mriaxchoi\u001b[0m (\u001b[33mriaxchoi-heinrich-heine-university-d-sseldorf\u001b[0m). Use \u001b[1m`wandb login --relogin`\u001b[0m to force relogin\n"
     ]
    },
    {
     "data": {
      "text/html": [
       "wandb version 0.19.5 is available!  To upgrade, please run:\n",
       " $ pip install wandb --upgrade"
      ],
      "text/plain": [
       "<IPython.core.display.HTML object>"
      ]
     },
     "metadata": {},
     "output_type": "display_data"
    },
    {
     "data": {
      "text/html": [
       "Tracking run with wandb version 0.17.6"
      ],
      "text/plain": [
       "<IPython.core.display.HTML object>"
      ]
     },
     "metadata": {},
     "output_type": "display_data"
    },
    {
     "data": {
      "text/html": [
       "Run data is saved locally in <code>/home/ria/MMBSintern/bachelor/exercise/wandb/run-20250203_074011-x7610uap</code>"
      ],
      "text/plain": [
       "<IPython.core.display.HTML object>"
      ]
     },
     "metadata": {},
     "output_type": "display_data"
    },
    {
     "data": {
      "text/html": [
       "Syncing run <strong><a href='https://wandb.ai/riaxchoi-heinrich-heine-university-d-sseldorf/WITHOUT%20TRAINING/runs/x7610uap' target=\"_blank\">('T_CPC', 'ClassifierNN', 1024)</a></strong> to <a href='https://wandb.ai/riaxchoi-heinrich-heine-university-d-sseldorf/WITHOUT%20TRAINING' target=\"_blank\">Weights & Biases</a> (<a href='https://wandb.me/run' target=\"_blank\">docs</a>)<br/>"
      ],
      "text/plain": [
       "<IPython.core.display.HTML object>"
      ]
     },
     "metadata": {},
     "output_type": "display_data"
    },
    {
     "data": {
      "text/html": [
       " View project at <a href='https://wandb.ai/riaxchoi-heinrich-heine-university-d-sseldorf/WITHOUT%20TRAINING' target=\"_blank\">https://wandb.ai/riaxchoi-heinrich-heine-university-d-sseldorf/WITHOUT%20TRAINING</a>"
      ],
      "text/plain": [
       "<IPython.core.display.HTML object>"
      ]
     },
     "metadata": {},
     "output_type": "display_data"
    },
    {
     "data": {
      "text/html": [
       " View run at <a href='https://wandb.ai/riaxchoi-heinrich-heine-university-d-sseldorf/WITHOUT%20TRAINING/runs/x7610uap' target=\"_blank\">https://wandb.ai/riaxchoi-heinrich-heine-university-d-sseldorf/WITHOUT%20TRAINING/runs/x7610uap</a>"
      ],
      "text/plain": [
       "<IPython.core.display.HTML object>"
      ]
     },
     "metadata": {},
     "output_type": "display_data"
    },
    {
     "name": "stderr",
     "output_type": "stream",
     "text": [
      "/home/ria/miniconda3/envs/AILS/lib/python3.10/site-packages/torch/nn/modules/conv.py:306: UserWarning: Attempt to open cnn_infer failed: handle=0 error: libcudnn_cnn_infer.so.8: cannot open shared object file: No such file or directory (Triggered internally at ../aten/src/ATen/native/cudnn/Conv_v8.cpp:81.)\n",
      "  return F.conv1d(input, weight, bias, self.stride,\n"
     ]
    },
    {
     "name": "stdout",
     "output_type": "stream",
     "text": [
      "Initial Accuracy without Training: 57.62%\n"
     ]
    },
    {
     "data": {
      "application/vnd.jupyter.widget-view+json": {
       "model_id": "89989e8844664640b3953c1cfc6b30c8",
       "version_major": 2,
       "version_minor": 0
      },
      "text/plain": [
       "VBox(children=(Label(value='0.005 MB of 0.005 MB uploaded\\r'), FloatProgress(value=1.0, max=1.0)))"
      ]
     },
     "metadata": {},
     "output_type": "display_data"
    },
    {
     "data": {
      "text/html": [
       "<style>\n",
       "    table.wandb td:nth-child(1) { padding: 0 10px; text-align: left ; width: auto;} td:nth-child(2) {text-align: left ; width: 100%}\n",
       "    .wandb-row { display: flex; flex-direction: row; flex-wrap: wrap; justify-content: flex-start; width: 100% }\n",
       "    .wandb-col { display: flex; flex-direction: column; flex-basis: 100%; flex: 1; padding: 10px; }\n",
       "    </style>\n",
       "<div class=\"wandb-row\"><div class=\"wandb-col\"><h3>Run history:</h3><br/><table class=\"wandb\"><tr><td>ROC-AUC Score</td><td>▁</td></tr><tr><td>accuracy</td><td>▁</td></tr><tr><td>f1_AFib</td><td>▁</td></tr><tr><td>f1_non-AFib</td><td>▁</td></tr><tr><td>initial_accuracy</td><td>▁</td></tr><tr><td>precision_AFib</td><td>▁</td></tr><tr><td>precision_non-AFib</td><td>▁</td></tr><tr><td>recall_AFib</td><td>▁</td></tr><tr><td>recall_non-AFib</td><td>▁</td></tr></table><br/></div><div class=\"wandb-col\"><h3>Run summary:</h3><br/><table class=\"wandb\"><tr><td>ROC-AUC Score</td><td>0.61327</td></tr><tr><td>accuracy</td><td>0.57618</td></tr><tr><td>f1_AFib</td><td>0.33651</td></tr><tr><td>f1_non-AFib</td><td>0.68864</td></tr><tr><td>initial_accuracy</td><td>0.57618</td></tr><tr><td>precision_AFib</td><td>0.23515</td></tr><tr><td>precision_non-AFib</td><td>0.86327</td></tr><tr><td>recall_AFib</td><td>0.59146</td></tr><tr><td>recall_non-AFib</td><td>0.57278</td></tr></table><br/></div></div>"
      ],
      "text/plain": [
       "<IPython.core.display.HTML object>"
      ]
     },
     "metadata": {},
     "output_type": "display_data"
    },
    {
     "data": {
      "text/html": [
       " View run <strong style=\"color:#cdcd00\">('T_CPC', 'ClassifierNN', 1024)</strong> at: <a href='https://wandb.ai/riaxchoi-heinrich-heine-university-d-sseldorf/WITHOUT%20TRAINING/runs/x7610uap' target=\"_blank\">https://wandb.ai/riaxchoi-heinrich-heine-university-d-sseldorf/WITHOUT%20TRAINING/runs/x7610uap</a><br/> View project at: <a href='https://wandb.ai/riaxchoi-heinrich-heine-university-d-sseldorf/WITHOUT%20TRAINING' target=\"_blank\">https://wandb.ai/riaxchoi-heinrich-heine-university-d-sseldorf/WITHOUT%20TRAINING</a><br/>Synced 6 W&B file(s), 0 media file(s), 0 artifact file(s) and 0 other file(s)"
      ],
      "text/plain": [
       "<IPython.core.display.HTML object>"
      ]
     },
     "metadata": {},
     "output_type": "display_data"
    },
    {
     "data": {
      "text/html": [
       "Find logs at: <code>./wandb/run-20250203_074011-x7610uap/logs</code>"
      ],
      "text/plain": [
       "<IPython.core.display.HTML object>"
      ]
     },
     "metadata": {},
     "output_type": "display_data"
    },
    {
     "data": {
      "text/html": [
       "The new W&B backend becomes opt-out in version 0.18.0; try it out with `wandb.require(\"core\")`! See https://wandb.me/wandb-core for more information."
      ],
      "text/plain": [
       "<IPython.core.display.HTML object>"
      ]
     },
     "metadata": {},
     "output_type": "display_data"
    },
    {
     "name": "stdout",
     "output_type": "stream",
     "text": [
      "Running with model: T_CPC, classification: LogisticRegression, batch size: 1024\n"
     ]
    },
    {
     "data": {
      "application/vnd.jupyter.widget-view+json": {
       "model_id": "72cc3c84c8d74085959cb9ba12442ea9",
       "version_major": 2,
       "version_minor": 0
      },
      "text/plain": [
       "VBox(children=(Label(value='Waiting for wandb.init()...\\r'), FloatProgress(value=0.011113162299928566, max=1.0…"
      ]
     },
     "metadata": {},
     "output_type": "display_data"
    },
    {
     "data": {
      "text/html": [
       "wandb version 0.19.5 is available!  To upgrade, please run:\n",
       " $ pip install wandb --upgrade"
      ],
      "text/plain": [
       "<IPython.core.display.HTML object>"
      ]
     },
     "metadata": {},
     "output_type": "display_data"
    },
    {
     "data": {
      "text/html": [
       "Tracking run with wandb version 0.17.6"
      ],
      "text/plain": [
       "<IPython.core.display.HTML object>"
      ]
     },
     "metadata": {},
     "output_type": "display_data"
    },
    {
     "data": {
      "text/html": [
       "Run data is saved locally in <code>/home/ria/MMBSintern/bachelor/exercise/wandb/run-20250203_074050-5eia5zkg</code>"
      ],
      "text/plain": [
       "<IPython.core.display.HTML object>"
      ]
     },
     "metadata": {},
     "output_type": "display_data"
    },
    {
     "data": {
      "text/html": [
       "Syncing run <strong><a href='https://wandb.ai/riaxchoi-heinrich-heine-university-d-sseldorf/WITHOUT%20TRAINING/runs/5eia5zkg' target=\"_blank\">('T_CPC', 'LogisticRegression', 1024)</a></strong> to <a href='https://wandb.ai/riaxchoi-heinrich-heine-university-d-sseldorf/WITHOUT%20TRAINING' target=\"_blank\">Weights & Biases</a> (<a href='https://wandb.me/run' target=\"_blank\">docs</a>)<br/>"
      ],
      "text/plain": [
       "<IPython.core.display.HTML object>"
      ]
     },
     "metadata": {},
     "output_type": "display_data"
    },
    {
     "data": {
      "text/html": [
       " View project at <a href='https://wandb.ai/riaxchoi-heinrich-heine-university-d-sseldorf/WITHOUT%20TRAINING' target=\"_blank\">https://wandb.ai/riaxchoi-heinrich-heine-university-d-sseldorf/WITHOUT%20TRAINING</a>"
      ],
      "text/plain": [
       "<IPython.core.display.HTML object>"
      ]
     },
     "metadata": {},
     "output_type": "display_data"
    },
    {
     "data": {
      "text/html": [
       " View run at <a href='https://wandb.ai/riaxchoi-heinrich-heine-university-d-sseldorf/WITHOUT%20TRAINING/runs/5eia5zkg' target=\"_blank\">https://wandb.ai/riaxchoi-heinrich-heine-university-d-sseldorf/WITHOUT%20TRAINING/runs/5eia5zkg</a>"
      ],
      "text/plain": [
       "<IPython.core.display.HTML object>"
      ]
     },
     "metadata": {},
     "output_type": "display_data"
    },
    {
     "name": "stdout",
     "output_type": "stream",
     "text": [
      "Initial Accuracy without Training: 55.73%\n"
     ]
    },
    {
     "data": {
      "application/vnd.jupyter.widget-view+json": {
       "model_id": "6a244586d0144b7e8e9134f1241fc7c7",
       "version_major": 2,
       "version_minor": 0
      },
      "text/plain": [
       "VBox(children=(Label(value='0.005 MB of 0.005 MB uploaded\\r'), FloatProgress(value=1.0, max=1.0)))"
      ]
     },
     "metadata": {},
     "output_type": "display_data"
    },
    {
     "data": {
      "text/html": [
       "<style>\n",
       "    table.wandb td:nth-child(1) { padding: 0 10px; text-align: left ; width: auto;} td:nth-child(2) {text-align: left ; width: 100%}\n",
       "    .wandb-row { display: flex; flex-direction: row; flex-wrap: wrap; justify-content: flex-start; width: 100% }\n",
       "    .wandb-col { display: flex; flex-direction: column; flex-basis: 100%; flex: 1; padding: 10px; }\n",
       "    </style>\n",
       "<div class=\"wandb-row\"><div class=\"wandb-col\"><h3>Run history:</h3><br/><table class=\"wandb\"><tr><td>ROC-AUC Score</td><td>▁</td></tr><tr><td>accuracy</td><td>▁</td></tr><tr><td>f1_AFib</td><td>▁</td></tr><tr><td>f1_non-AFib</td><td>▁</td></tr><tr><td>initial_accuracy</td><td>▁</td></tr><tr><td>precision_AFib</td><td>▁</td></tr><tr><td>precision_non-AFib</td><td>▁</td></tr><tr><td>recall_AFib</td><td>▁</td></tr><tr><td>recall_non-AFib</td><td>▁</td></tr></table><br/></div><div class=\"wandb-col\"><h3>Run summary:</h3><br/><table class=\"wandb\"><tr><td>ROC-AUC Score</td><td>0.57584</td></tr><tr><td>accuracy</td><td>0.55734</td></tr><tr><td>f1_AFib</td><td>0.30582</td></tr><tr><td>f1_non-AFib</td><td>0.67507</td></tr><tr><td>initial_accuracy</td><td>0.55734</td></tr><tr><td>precision_AFib</td><td>0.21385</td></tr><tr><td>precision_non-AFib</td><td>0.84521</td></tr><tr><td>recall_AFib</td><td>0.53659</td></tr><tr><td>recall_non-AFib</td><td>0.56195</td></tr></table><br/></div></div>"
      ],
      "text/plain": [
       "<IPython.core.display.HTML object>"
      ]
     },
     "metadata": {},
     "output_type": "display_data"
    },
    {
     "data": {
      "text/html": [
       " View run <strong style=\"color:#cdcd00\">('T_CPC', 'LogisticRegression', 1024)</strong> at: <a href='https://wandb.ai/riaxchoi-heinrich-heine-university-d-sseldorf/WITHOUT%20TRAINING/runs/5eia5zkg' target=\"_blank\">https://wandb.ai/riaxchoi-heinrich-heine-university-d-sseldorf/WITHOUT%20TRAINING/runs/5eia5zkg</a><br/> View project at: <a href='https://wandb.ai/riaxchoi-heinrich-heine-university-d-sseldorf/WITHOUT%20TRAINING' target=\"_blank\">https://wandb.ai/riaxchoi-heinrich-heine-university-d-sseldorf/WITHOUT%20TRAINING</a><br/>Synced 6 W&B file(s), 0 media file(s), 0 artifact file(s) and 0 other file(s)"
      ],
      "text/plain": [
       "<IPython.core.display.HTML object>"
      ]
     },
     "metadata": {},
     "output_type": "display_data"
    },
    {
     "data": {
      "text/html": [
       "Find logs at: <code>./wandb/run-20250203_074050-5eia5zkg/logs</code>"
      ],
      "text/plain": [
       "<IPython.core.display.HTML object>"
      ]
     },
     "metadata": {},
     "output_type": "display_data"
    },
    {
     "data": {
      "text/html": [
       "The new W&B backend becomes opt-out in version 0.18.0; try it out with `wandb.require(\"core\")`! See https://wandb.me/wandb-core for more information."
      ],
      "text/plain": [
       "<IPython.core.display.HTML object>"
      ]
     },
     "metadata": {},
     "output_type": "display_data"
    },
    {
     "name": "stdout",
     "output_type": "stream",
     "text": [
      "Running with model: TS_CPC, classification: ClassifierNN, batch size: 1024\n"
     ]
    },
    {
     "data": {
      "application/vnd.jupyter.widget-view+json": {
       "model_id": "1ff075b12f4d4aefba5415ede9d48e30",
       "version_major": 2,
       "version_minor": 0
      },
      "text/plain": [
       "VBox(children=(Label(value='Waiting for wandb.init()...\\r'), FloatProgress(value=0.01111321764474269, max=1.0)…"
      ]
     },
     "metadata": {},
     "output_type": "display_data"
    },
    {
     "data": {
      "text/html": [
       "wandb version 0.19.5 is available!  To upgrade, please run:\n",
       " $ pip install wandb --upgrade"
      ],
      "text/plain": [
       "<IPython.core.display.HTML object>"
      ]
     },
     "metadata": {},
     "output_type": "display_data"
    },
    {
     "data": {
      "text/html": [
       "Tracking run with wandb version 0.17.6"
      ],
      "text/plain": [
       "<IPython.core.display.HTML object>"
      ]
     },
     "metadata": {},
     "output_type": "display_data"
    },
    {
     "data": {
      "text/html": [
       "Run data is saved locally in <code>/home/ria/MMBSintern/bachelor/exercise/wandb/run-20250203_074111-fwzv39hv</code>"
      ],
      "text/plain": [
       "<IPython.core.display.HTML object>"
      ]
     },
     "metadata": {},
     "output_type": "display_data"
    },
    {
     "data": {
      "text/html": [
       "Syncing run <strong><a href='https://wandb.ai/riaxchoi-heinrich-heine-university-d-sseldorf/WITHOUT%20TRAINING/runs/fwzv39hv' target=\"_blank\">('TS_CPC', 'ClassifierNN', 1024)</a></strong> to <a href='https://wandb.ai/riaxchoi-heinrich-heine-university-d-sseldorf/WITHOUT%20TRAINING' target=\"_blank\">Weights & Biases</a> (<a href='https://wandb.me/run' target=\"_blank\">docs</a>)<br/>"
      ],
      "text/plain": [
       "<IPython.core.display.HTML object>"
      ]
     },
     "metadata": {},
     "output_type": "display_data"
    },
    {
     "data": {
      "text/html": [
       " View project at <a href='https://wandb.ai/riaxchoi-heinrich-heine-university-d-sseldorf/WITHOUT%20TRAINING' target=\"_blank\">https://wandb.ai/riaxchoi-heinrich-heine-university-d-sseldorf/WITHOUT%20TRAINING</a>"
      ],
      "text/plain": [
       "<IPython.core.display.HTML object>"
      ]
     },
     "metadata": {},
     "output_type": "display_data"
    },
    {
     "data": {
      "text/html": [
       " View run at <a href='https://wandb.ai/riaxchoi-heinrich-heine-university-d-sseldorf/WITHOUT%20TRAINING/runs/fwzv39hv' target=\"_blank\">https://wandb.ai/riaxchoi-heinrich-heine-university-d-sseldorf/WITHOUT%20TRAINING/runs/fwzv39hv</a>"
      ],
      "text/plain": [
       "<IPython.core.display.HTML object>"
      ]
     },
     "metadata": {},
     "output_type": "display_data"
    },
    {
     "name": "stdout",
     "output_type": "stream",
     "text": [
      "Initial Accuracy without Training: 66.37%\n"
     ]
    },
    {
     "data": {
      "application/vnd.jupyter.widget-view+json": {
       "model_id": "50040f4ee0e843d4bbbc13b8597ee9c8",
       "version_major": 2,
       "version_minor": 0
      },
      "text/plain": [
       "VBox(children=(Label(value='0.005 MB of 0.005 MB uploaded\\r'), FloatProgress(value=1.0, max=1.0)))"
      ]
     },
     "metadata": {},
     "output_type": "display_data"
    },
    {
     "data": {
      "text/html": [
       "<style>\n",
       "    table.wandb td:nth-child(1) { padding: 0 10px; text-align: left ; width: auto;} td:nth-child(2) {text-align: left ; width: 100%}\n",
       "    .wandb-row { display: flex; flex-direction: row; flex-wrap: wrap; justify-content: flex-start; width: 100% }\n",
       "    .wandb-col { display: flex; flex-direction: column; flex-basis: 100%; flex: 1; padding: 10px; }\n",
       "    </style>\n",
       "<div class=\"wandb-row\"><div class=\"wandb-col\"><h3>Run history:</h3><br/><table class=\"wandb\"><tr><td>ROC-AUC Score</td><td>▁</td></tr><tr><td>accuracy</td><td>▁</td></tr><tr><td>f1_AFib</td><td>▁</td></tr><tr><td>f1_non-AFib</td><td>▁</td></tr><tr><td>initial_accuracy</td><td>▁</td></tr><tr><td>precision_AFib</td><td>▁</td></tr><tr><td>precision_non-AFib</td><td>▁</td></tr><tr><td>recall_AFib</td><td>▁</td></tr><tr><td>recall_non-AFib</td><td>▁</td></tr></table><br/></div><div class=\"wandb-col\"><h3>Run summary:</h3><br/><table class=\"wandb\"><tr><td>ROC-AUC Score</td><td>0.75069</td></tr><tr><td>accuracy</td><td>0.66371</td></tr><tr><td>f1_AFib</td><td>0.44667</td></tr><tr><td>f1_non-AFib</td><td>0.75846</td></tr><tr><td>initial_accuracy</td><td>0.66371</td></tr><tr><td>precision_AFib</td><td>0.3186</td></tr><tr><td>precision_non-AFib</td><td>0.91988</td></tr><tr><td>recall_AFib</td><td>0.74695</td></tr><tr><td>recall_non-AFib</td><td>0.64523</td></tr></table><br/></div></div>"
      ],
      "text/plain": [
       "<IPython.core.display.HTML object>"
      ]
     },
     "metadata": {},
     "output_type": "display_data"
    },
    {
     "data": {
      "text/html": [
       " View run <strong style=\"color:#cdcd00\">('TS_CPC', 'ClassifierNN', 1024)</strong> at: <a href='https://wandb.ai/riaxchoi-heinrich-heine-university-d-sseldorf/WITHOUT%20TRAINING/runs/fwzv39hv' target=\"_blank\">https://wandb.ai/riaxchoi-heinrich-heine-university-d-sseldorf/WITHOUT%20TRAINING/runs/fwzv39hv</a><br/> View project at: <a href='https://wandb.ai/riaxchoi-heinrich-heine-university-d-sseldorf/WITHOUT%20TRAINING' target=\"_blank\">https://wandb.ai/riaxchoi-heinrich-heine-university-d-sseldorf/WITHOUT%20TRAINING</a><br/>Synced 6 W&B file(s), 0 media file(s), 0 artifact file(s) and 0 other file(s)"
      ],
      "text/plain": [
       "<IPython.core.display.HTML object>"
      ]
     },
     "metadata": {},
     "output_type": "display_data"
    },
    {
     "data": {
      "text/html": [
       "Find logs at: <code>./wandb/run-20250203_074111-fwzv39hv/logs</code>"
      ],
      "text/plain": [
       "<IPython.core.display.HTML object>"
      ]
     },
     "metadata": {},
     "output_type": "display_data"
    },
    {
     "data": {
      "text/html": [
       "The new W&B backend becomes opt-out in version 0.18.0; try it out with `wandb.require(\"core\")`! See https://wandb.me/wandb-core for more information."
      ],
      "text/plain": [
       "<IPython.core.display.HTML object>"
      ]
     },
     "metadata": {},
     "output_type": "display_data"
    },
    {
     "name": "stdout",
     "output_type": "stream",
     "text": [
      "Running with model: TS_CPC, classification: LogisticRegression, batch size: 1024\n"
     ]
    },
    {
     "data": {
      "application/vnd.jupyter.widget-view+json": {
       "model_id": "927a36dcb9024f82ad9861565131ba65",
       "version_major": 2,
       "version_minor": 0
      },
      "text/plain": [
       "VBox(children=(Label(value='Waiting for wandb.init()...\\r'), FloatProgress(value=0.011113372066756711, max=1.0…"
      ]
     },
     "metadata": {},
     "output_type": "display_data"
    },
    {
     "data": {
      "text/html": [
       "wandb version 0.19.5 is available!  To upgrade, please run:\n",
       " $ pip install wandb --upgrade"
      ],
      "text/plain": [
       "<IPython.core.display.HTML object>"
      ]
     },
     "metadata": {},
     "output_type": "display_data"
    },
    {
     "data": {
      "text/html": [
       "Tracking run with wandb version 0.17.6"
      ],
      "text/plain": [
       "<IPython.core.display.HTML object>"
      ]
     },
     "metadata": {},
     "output_type": "display_data"
    },
    {
     "data": {
      "text/html": [
       "Run data is saved locally in <code>/home/ria/MMBSintern/bachelor/exercise/wandb/run-20250203_074151-jplpf5lt</code>"
      ],
      "text/plain": [
       "<IPython.core.display.HTML object>"
      ]
     },
     "metadata": {},
     "output_type": "display_data"
    },
    {
     "data": {
      "text/html": [
       "Syncing run <strong><a href='https://wandb.ai/riaxchoi-heinrich-heine-university-d-sseldorf/WITHOUT%20TRAINING/runs/jplpf5lt' target=\"_blank\">('TS_CPC', 'LogisticRegression', 1024)</a></strong> to <a href='https://wandb.ai/riaxchoi-heinrich-heine-university-d-sseldorf/WITHOUT%20TRAINING' target=\"_blank\">Weights & Biases</a> (<a href='https://wandb.me/run' target=\"_blank\">docs</a>)<br/>"
      ],
      "text/plain": [
       "<IPython.core.display.HTML object>"
      ]
     },
     "metadata": {},
     "output_type": "display_data"
    },
    {
     "data": {
      "text/html": [
       " View project at <a href='https://wandb.ai/riaxchoi-heinrich-heine-university-d-sseldorf/WITHOUT%20TRAINING' target=\"_blank\">https://wandb.ai/riaxchoi-heinrich-heine-university-d-sseldorf/WITHOUT%20TRAINING</a>"
      ],
      "text/plain": [
       "<IPython.core.display.HTML object>"
      ]
     },
     "metadata": {},
     "output_type": "display_data"
    },
    {
     "data": {
      "text/html": [
       " View run at <a href='https://wandb.ai/riaxchoi-heinrich-heine-university-d-sseldorf/WITHOUT%20TRAINING/runs/jplpf5lt' target=\"_blank\">https://wandb.ai/riaxchoi-heinrich-heine-university-d-sseldorf/WITHOUT%20TRAINING/runs/jplpf5lt</a>"
      ],
      "text/plain": [
       "<IPython.core.display.HTML object>"
      ]
     },
     "metadata": {},
     "output_type": "display_data"
    },
    {
     "name": "stdout",
     "output_type": "stream",
     "text": [
      "Initial Accuracy without Training: 67.04%\n"
     ]
    },
    {
     "data": {
      "application/vnd.jupyter.widget-view+json": {
       "model_id": "f2adfa08c8684f539e29a3ae163641a8",
       "version_major": 2,
       "version_minor": 0
      },
      "text/plain": [
       "VBox(children=(Label(value='0.005 MB of 0.005 MB uploaded\\r'), FloatProgress(value=1.0, max=1.0)))"
      ]
     },
     "metadata": {},
     "output_type": "display_data"
    },
    {
     "data": {
      "text/html": [
       "<style>\n",
       "    table.wandb td:nth-child(1) { padding: 0 10px; text-align: left ; width: auto;} td:nth-child(2) {text-align: left ; width: 100%}\n",
       "    .wandb-row { display: flex; flex-direction: row; flex-wrap: wrap; justify-content: flex-start; width: 100% }\n",
       "    .wandb-col { display: flex; flex-direction: column; flex-basis: 100%; flex: 1; padding: 10px; }\n",
       "    </style>\n",
       "<div class=\"wandb-row\"><div class=\"wandb-col\"><h3>Run history:</h3><br/><table class=\"wandb\"><tr><td>ROC-AUC Score</td><td>▁</td></tr><tr><td>accuracy</td><td>▁</td></tr><tr><td>f1_AFib</td><td>▁</td></tr><tr><td>f1_non-AFib</td><td>▁</td></tr><tr><td>initial_accuracy</td><td>▁</td></tr><tr><td>precision_AFib</td><td>▁</td></tr><tr><td>precision_non-AFib</td><td>▁</td></tr><tr><td>recall_AFib</td><td>▁</td></tr><tr><td>recall_non-AFib</td><td>▁</td></tr></table><br/></div><div class=\"wandb-col\"><h3>Run summary:</h3><br/><table class=\"wandb\"><tr><td>ROC-AUC Score</td><td>0.74084</td></tr><tr><td>accuracy</td><td>0.67036</td></tr><tr><td>f1_AFib</td><td>0.43602</td></tr><tr><td>f1_non-AFib</td><td>0.76712</td></tr><tr><td>initial_accuracy</td><td>0.67036</td></tr><tr><td>precision_AFib</td><td>0.31637</td></tr><tr><td>precision_non-AFib</td><td>0.90909</td></tr><tr><td>recall_AFib</td><td>0.70122</td></tr><tr><td>recall_non-AFib</td><td>0.66351</td></tr></table><br/></div></div>"
      ],
      "text/plain": [
       "<IPython.core.display.HTML object>"
      ]
     },
     "metadata": {},
     "output_type": "display_data"
    },
    {
     "data": {
      "text/html": [
       " View run <strong style=\"color:#cdcd00\">('TS_CPC', 'LogisticRegression', 1024)</strong> at: <a href='https://wandb.ai/riaxchoi-heinrich-heine-university-d-sseldorf/WITHOUT%20TRAINING/runs/jplpf5lt' target=\"_blank\">https://wandb.ai/riaxchoi-heinrich-heine-university-d-sseldorf/WITHOUT%20TRAINING/runs/jplpf5lt</a><br/> View project at: <a href='https://wandb.ai/riaxchoi-heinrich-heine-university-d-sseldorf/WITHOUT%20TRAINING' target=\"_blank\">https://wandb.ai/riaxchoi-heinrich-heine-university-d-sseldorf/WITHOUT%20TRAINING</a><br/>Synced 6 W&B file(s), 0 media file(s), 0 artifact file(s) and 0 other file(s)"
      ],
      "text/plain": [
       "<IPython.core.display.HTML object>"
      ]
     },
     "metadata": {},
     "output_type": "display_data"
    },
    {
     "data": {
      "text/html": [
       "Find logs at: <code>./wandb/run-20250203_074151-jplpf5lt/logs</code>"
      ],
      "text/plain": [
       "<IPython.core.display.HTML object>"
      ]
     },
     "metadata": {},
     "output_type": "display_data"
    },
    {
     "data": {
      "text/html": [
       "The new W&B backend becomes opt-out in version 0.18.0; try it out with `wandb.require(\"core\")`! See https://wandb.me/wandb-core for more information."
      ],
      "text/plain": [
       "<IPython.core.display.HTML object>"
      ]
     },
     "metadata": {},
     "output_type": "display_data"
    },
    {
     "name": "stdout",
     "output_type": "stream",
     "text": [
      "Running with model: S_CPC, classification: ClassifierNN, batch size: 1024\n"
     ]
    },
    {
     "data": {
      "application/vnd.jupyter.widget-view+json": {
       "model_id": "15dbe373bb4349479f51ccf3a2bc057d",
       "version_major": 2,
       "version_minor": 0
      },
      "text/plain": [
       "VBox(children=(Label(value='Waiting for wandb.init()...\\r'), FloatProgress(value=0.01111277214432549, max=1.0)…"
      ]
     },
     "metadata": {},
     "output_type": "display_data"
    },
    {
     "data": {
      "text/html": [
       "wandb version 0.19.5 is available!  To upgrade, please run:\n",
       " $ pip install wandb --upgrade"
      ],
      "text/plain": [
       "<IPython.core.display.HTML object>"
      ]
     },
     "metadata": {},
     "output_type": "display_data"
    },
    {
     "data": {
      "text/html": [
       "Tracking run with wandb version 0.17.6"
      ],
      "text/plain": [
       "<IPython.core.display.HTML object>"
      ]
     },
     "metadata": {},
     "output_type": "display_data"
    },
    {
     "data": {
      "text/html": [
       "Run data is saved locally in <code>/home/ria/MMBSintern/bachelor/exercise/wandb/run-20250203_074213-u63kd331</code>"
      ],
      "text/plain": [
       "<IPython.core.display.HTML object>"
      ]
     },
     "metadata": {},
     "output_type": "display_data"
    },
    {
     "data": {
      "text/html": [
       "Syncing run <strong><a href='https://wandb.ai/riaxchoi-heinrich-heine-university-d-sseldorf/WITHOUT%20TRAINING/runs/u63kd331' target=\"_blank\">('S_CPC', 'ClassifierNN', 1024)</a></strong> to <a href='https://wandb.ai/riaxchoi-heinrich-heine-university-d-sseldorf/WITHOUT%20TRAINING' target=\"_blank\">Weights & Biases</a> (<a href='https://wandb.me/run' target=\"_blank\">docs</a>)<br/>"
      ],
      "text/plain": [
       "<IPython.core.display.HTML object>"
      ]
     },
     "metadata": {},
     "output_type": "display_data"
    },
    {
     "data": {
      "text/html": [
       " View project at <a href='https://wandb.ai/riaxchoi-heinrich-heine-university-d-sseldorf/WITHOUT%20TRAINING' target=\"_blank\">https://wandb.ai/riaxchoi-heinrich-heine-university-d-sseldorf/WITHOUT%20TRAINING</a>"
      ],
      "text/plain": [
       "<IPython.core.display.HTML object>"
      ]
     },
     "metadata": {},
     "output_type": "display_data"
    },
    {
     "data": {
      "text/html": [
       " View run at <a href='https://wandb.ai/riaxchoi-heinrich-heine-university-d-sseldorf/WITHOUT%20TRAINING/runs/u63kd331' target=\"_blank\">https://wandb.ai/riaxchoi-heinrich-heine-university-d-sseldorf/WITHOUT%20TRAINING/runs/u63kd331</a>"
      ],
      "text/plain": [
       "<IPython.core.display.HTML object>"
      ]
     },
     "metadata": {},
     "output_type": "display_data"
    },
    {
     "name": "stdout",
     "output_type": "stream",
     "text": [
      "Initial Accuracy without Training: 68.81%\n"
     ]
    },
    {
     "data": {
      "application/vnd.jupyter.widget-view+json": {
       "model_id": "154ef46a47fa4cad8e9b4a0e8f61619b",
       "version_major": 2,
       "version_minor": 0
      },
      "text/plain": [
       "VBox(children=(Label(value='0.005 MB of 0.005 MB uploaded\\r'), FloatProgress(value=1.0, max=1.0)))"
      ]
     },
     "metadata": {},
     "output_type": "display_data"
    },
    {
     "data": {
      "text/html": [
       "<style>\n",
       "    table.wandb td:nth-child(1) { padding: 0 10px; text-align: left ; width: auto;} td:nth-child(2) {text-align: left ; width: 100%}\n",
       "    .wandb-row { display: flex; flex-direction: row; flex-wrap: wrap; justify-content: flex-start; width: 100% }\n",
       "    .wandb-col { display: flex; flex-direction: column; flex-basis: 100%; flex: 1; padding: 10px; }\n",
       "    </style>\n",
       "<div class=\"wandb-row\"><div class=\"wandb-col\"><h3>Run history:</h3><br/><table class=\"wandb\"><tr><td>ROC-AUC Score</td><td>▁</td></tr><tr><td>accuracy</td><td>▁</td></tr><tr><td>f1_AFib</td><td>▁</td></tr><tr><td>f1_non-AFib</td><td>▁</td></tr><tr><td>initial_accuracy</td><td>▁</td></tr><tr><td>precision_AFib</td><td>▁</td></tr><tr><td>precision_non-AFib</td><td>▁</td></tr><tr><td>recall_AFib</td><td>▁</td></tr><tr><td>recall_non-AFib</td><td>▁</td></tr></table><br/></div><div class=\"wandb-col\"><h3>Run summary:</h3><br/><table class=\"wandb\"><tr><td>ROC-AUC Score</td><td>0.73833</td></tr><tr><td>accuracy</td><td>0.68809</td></tr><tr><td>f1_AFib</td><td>0.43303</td></tr><tr><td>f1_non-AFib</td><td>0.78487</td></tr><tr><td>initial_accuracy</td><td>0.68809</td></tr><tr><td>precision_AFib</td><td>0.32331</td></tr><tr><td>precision_non-AFib</td><td>0.90088</td></tr><tr><td>recall_AFib</td><td>0.65549</td></tr><tr><td>recall_non-AFib</td><td>0.69533</td></tr></table><br/></div></div>"
      ],
      "text/plain": [
       "<IPython.core.display.HTML object>"
      ]
     },
     "metadata": {},
     "output_type": "display_data"
    },
    {
     "data": {
      "text/html": [
       " View run <strong style=\"color:#cdcd00\">('S_CPC', 'ClassifierNN', 1024)</strong> at: <a href='https://wandb.ai/riaxchoi-heinrich-heine-university-d-sseldorf/WITHOUT%20TRAINING/runs/u63kd331' target=\"_blank\">https://wandb.ai/riaxchoi-heinrich-heine-university-d-sseldorf/WITHOUT%20TRAINING/runs/u63kd331</a><br/> View project at: <a href='https://wandb.ai/riaxchoi-heinrich-heine-university-d-sseldorf/WITHOUT%20TRAINING' target=\"_blank\">https://wandb.ai/riaxchoi-heinrich-heine-university-d-sseldorf/WITHOUT%20TRAINING</a><br/>Synced 6 W&B file(s), 0 media file(s), 0 artifact file(s) and 0 other file(s)"
      ],
      "text/plain": [
       "<IPython.core.display.HTML object>"
      ]
     },
     "metadata": {},
     "output_type": "display_data"
    },
    {
     "data": {
      "text/html": [
       "Find logs at: <code>./wandb/run-20250203_074213-u63kd331/logs</code>"
      ],
      "text/plain": [
       "<IPython.core.display.HTML object>"
      ]
     },
     "metadata": {},
     "output_type": "display_data"
    },
    {
     "data": {
      "text/html": [
       "The new W&B backend becomes opt-out in version 0.18.0; try it out with `wandb.require(\"core\")`! See https://wandb.me/wandb-core for more information."
      ],
      "text/plain": [
       "<IPython.core.display.HTML object>"
      ]
     },
     "metadata": {},
     "output_type": "display_data"
    },
    {
     "name": "stdout",
     "output_type": "stream",
     "text": [
      "Running with model: S_CPC, classification: LogisticRegression, batch size: 1024\n"
     ]
    },
    {
     "data": {
      "application/vnd.jupyter.widget-view+json": {
       "model_id": "8212e717ab6143b198083d53ad550b57",
       "version_major": 2,
       "version_minor": 0
      },
      "text/plain": [
       "VBox(children=(Label(value='Waiting for wandb.init()...\\r'), FloatProgress(value=0.011113168633245449, max=1.0…"
      ]
     },
     "metadata": {},
     "output_type": "display_data"
    },
    {
     "data": {
      "text/html": [
       "wandb version 0.19.5 is available!  To upgrade, please run:\n",
       " $ pip install wandb --upgrade"
      ],
      "text/plain": [
       "<IPython.core.display.HTML object>"
      ]
     },
     "metadata": {},
     "output_type": "display_data"
    },
    {
     "data": {
      "text/html": [
       "Tracking run with wandb version 0.17.6"
      ],
      "text/plain": [
       "<IPython.core.display.HTML object>"
      ]
     },
     "metadata": {},
     "output_type": "display_data"
    },
    {
     "data": {
      "text/html": [
       "Run data is saved locally in <code>/home/ria/MMBSintern/bachelor/exercise/wandb/run-20250203_074236-cmkot48w</code>"
      ],
      "text/plain": [
       "<IPython.core.display.HTML object>"
      ]
     },
     "metadata": {},
     "output_type": "display_data"
    },
    {
     "data": {
      "text/html": [
       "Syncing run <strong><a href='https://wandb.ai/riaxchoi-heinrich-heine-university-d-sseldorf/WITHOUT%20TRAINING/runs/cmkot48w' target=\"_blank\">('S_CPC', 'LogisticRegression', 1024)</a></strong> to <a href='https://wandb.ai/riaxchoi-heinrich-heine-university-d-sseldorf/WITHOUT%20TRAINING' target=\"_blank\">Weights & Biases</a> (<a href='https://wandb.me/run' target=\"_blank\">docs</a>)<br/>"
      ],
      "text/plain": [
       "<IPython.core.display.HTML object>"
      ]
     },
     "metadata": {},
     "output_type": "display_data"
    },
    {
     "data": {
      "text/html": [
       " View project at <a href='https://wandb.ai/riaxchoi-heinrich-heine-university-d-sseldorf/WITHOUT%20TRAINING' target=\"_blank\">https://wandb.ai/riaxchoi-heinrich-heine-university-d-sseldorf/WITHOUT%20TRAINING</a>"
      ],
      "text/plain": [
       "<IPython.core.display.HTML object>"
      ]
     },
     "metadata": {},
     "output_type": "display_data"
    },
    {
     "data": {
      "text/html": [
       " View run at <a href='https://wandb.ai/riaxchoi-heinrich-heine-university-d-sseldorf/WITHOUT%20TRAINING/runs/cmkot48w' target=\"_blank\">https://wandb.ai/riaxchoi-heinrich-heine-university-d-sseldorf/WITHOUT%20TRAINING/runs/cmkot48w</a>"
      ],
      "text/plain": [
       "<IPython.core.display.HTML object>"
      ]
     },
     "metadata": {},
     "output_type": "display_data"
    },
    {
     "name": "stdout",
     "output_type": "stream",
     "text": [
      "Initial Accuracy without Training: 69.20%\n"
     ]
    },
    {
     "data": {
      "application/vnd.jupyter.widget-view+json": {
       "model_id": "0291b249e0e14854a2dd48e0b1f41730",
       "version_major": 2,
       "version_minor": 0
      },
      "text/plain": [
       "VBox(children=(Label(value='0.005 MB of 0.005 MB uploaded\\r'), FloatProgress(value=1.0, max=1.0)))"
      ]
     },
     "metadata": {},
     "output_type": "display_data"
    },
    {
     "data": {
      "text/html": [
       "<style>\n",
       "    table.wandb td:nth-child(1) { padding: 0 10px; text-align: left ; width: auto;} td:nth-child(2) {text-align: left ; width: 100%}\n",
       "    .wandb-row { display: flex; flex-direction: row; flex-wrap: wrap; justify-content: flex-start; width: 100% }\n",
       "    .wandb-col { display: flex; flex-direction: column; flex-basis: 100%; flex: 1; padding: 10px; }\n",
       "    </style>\n",
       "<div class=\"wandb-row\"><div class=\"wandb-col\"><h3>Run history:</h3><br/><table class=\"wandb\"><tr><td>ROC-AUC Score</td><td>▁</td></tr><tr><td>accuracy</td><td>▁</td></tr><tr><td>f1_AFib</td><td>▁</td></tr><tr><td>f1_non-AFib</td><td>▁</td></tr><tr><td>initial_accuracy</td><td>▁</td></tr><tr><td>precision_AFib</td><td>▁</td></tr><tr><td>precision_non-AFib</td><td>▁</td></tr><tr><td>recall_AFib</td><td>▁</td></tr><tr><td>recall_non-AFib</td><td>▁</td></tr></table><br/></div><div class=\"wandb-col\"><h3>Run summary:</h3><br/><table class=\"wandb\"><tr><td>ROC-AUC Score</td><td>0.71543</td></tr><tr><td>accuracy</td><td>0.69197</td></tr><tr><td>f1_AFib</td><td>0.42204</td></tr><tr><td>f1_non-AFib</td><td>0.79003</td></tr><tr><td>initial_accuracy</td><td>0.69197</td></tr><tr><td>precision_AFib</td><td>0.32019</td></tr><tr><td>precision_non-AFib</td><td>0.89325</td></tr><tr><td>recall_AFib</td><td>0.6189</td></tr><tr><td>recall_non-AFib</td><td>0.70819</td></tr></table><br/></div></div>"
      ],
      "text/plain": [
       "<IPython.core.display.HTML object>"
      ]
     },
     "metadata": {},
     "output_type": "display_data"
    },
    {
     "data": {
      "text/html": [
       " View run <strong style=\"color:#cdcd00\">('S_CPC', 'LogisticRegression', 1024)</strong> at: <a href='https://wandb.ai/riaxchoi-heinrich-heine-university-d-sseldorf/WITHOUT%20TRAINING/runs/cmkot48w' target=\"_blank\">https://wandb.ai/riaxchoi-heinrich-heine-university-d-sseldorf/WITHOUT%20TRAINING/runs/cmkot48w</a><br/> View project at: <a href='https://wandb.ai/riaxchoi-heinrich-heine-university-d-sseldorf/WITHOUT%20TRAINING' target=\"_blank\">https://wandb.ai/riaxchoi-heinrich-heine-university-d-sseldorf/WITHOUT%20TRAINING</a><br/>Synced 6 W&B file(s), 0 media file(s), 0 artifact file(s) and 0 other file(s)"
      ],
      "text/plain": [
       "<IPython.core.display.HTML object>"
      ]
     },
     "metadata": {},
     "output_type": "display_data"
    },
    {
     "data": {
      "text/html": [
       "Find logs at: <code>./wandb/run-20250203_074236-cmkot48w/logs</code>"
      ],
      "text/plain": [
       "<IPython.core.display.HTML object>"
      ]
     },
     "metadata": {},
     "output_type": "display_data"
    },
    {
     "data": {
      "text/html": [
       "The new W&B backend becomes opt-out in version 0.18.0; try it out with `wandb.require(\"core\")`! See https://wandb.me/wandb-core for more information."
      ],
      "text/plain": [
       "<IPython.core.display.HTML object>"
      ]
     },
     "metadata": {},
     "output_type": "display_data"
    },
    {
     "name": "stdout",
     "output_type": "stream",
     "text": [
      "Results saved to withouttrain.csv\n"
     ]
    }
   ],
   "source": [
    "results = []\n",
    "\n",
    "modelname=['T_CPC', 'TS_CPC', 'S_CPC']\n",
    "type=['ClassifierNN', 'LogisticRegression']\n",
    "\n",
    "\n",
    "device = torch.device(\"cuda\" if torch.cuda.is_available() else \"cpu\")\n",
    "\n",
    "#batch_size = [256,1024]  # check that it does not influence \n",
    "batch_size = [1024]\n",
    "\n",
    "path = '/home/ria/MMBSintern/bachelor/exercise/data' \n",
    "\n",
    "train_data = Wearable(path, True)\n",
    "test_data = Wearable(path, False)\n",
    "\n",
    "\n",
    "\n",
    "\n",
    "\n",
    "\n",
    "# Generate all combinations of modelname and batchsize\n",
    "combinations = list(itertools.product(modelname, type, batch_size))\n",
    "\n",
    "# Run each combination with each value of num_epochs\n",
    "\n",
    "for modelname, type, bs in combinations:\n",
    "\n",
    "\n",
    "    train_loader = DataLoader(train_data, batch_size=bs, shuffle=False, num_workers=0)\n",
    "    test_loader = DataLoader(test_data, batch_size=len(test_data), shuffle=False, num_workers=0) \n",
    "\n",
    "    torch.manual_seed(0)\n",
    "    np.random.seed(0)\n",
    "\n",
    "        \n",
    "    print(f\"Running with model: {modelname}, classification: {type}, batch size: {bs}\")\n",
    "        \n",
    "    if modelname == 'T_CPC':\n",
    "        model = T_CPC(timestep=3, batch_size=bs, seq_len=200).to(device)\n",
    "\n",
    "    elif modelname == 'TS_CPC':\n",
    "        model = TS_CPC(timestep=3, batch_size=bs, seq_len=200).to(device)\n",
    "    \n",
    "    elif modelname == 'S_CPC':\n",
    "        model = S_CPC(timestep=3, batch_size=bs, seq_len=200).to(device)\n",
    "\n",
    "    else:\n",
    "        raise ValueError(f\"Unknown model name: {modelname}\")\n",
    "\n",
    "        \n",
    "    config = dict( model = modelname,\n",
    "                    classification = type,\n",
    "                    batch_size = bs\n",
    "                    )\n",
    "                \n",
    "            \n",
    "    wandb.init(project=\"WITHOUT TRAINING\", \n",
    "                name=f\"{modelname,type,bs}\",\n",
    "                config=config,\n",
    "                reinit=True)\n",
    "\n",
    "\n",
    "    accuracy, roc_auc = no_train(model, config['classification'], train_loader, test_loader, device)\n",
    "\n",
    "    results.append([modelname, type, bs, roc_auc])\n",
    "\n",
    "    wandb.finish() \n",
    "\n",
    "\n",
    "\n",
    "# convert results to a dataframe and save as CSV\n",
    "df = pd.DataFrame(results, columns=['Model','Classification','Batch Size','ROC_AUC'])\n",
    "csv_filename = 'withouttrain.csv'\n",
    "\n",
    "df.to_csv(csv_filename, index=False)\n",
    "print(f\"Results saved to {csv_filename}\")\n",
    "\n",
    "            "
   ]
  },
  {
   "cell_type": "code",
   "execution_count": 6,
   "metadata": {},
   "outputs": [
    {
     "data": {
      "image/png": "[encoded data removed]",
      "text/plain": [
       "<Figure size 800x400 with 1 Axes>"
      ]
     },
     "metadata": {},
     "output_type": "display_data"
    }
   ],
   "source": [
    "# Load CSV and plot results\n",
    "df = pd.read_csv(csv_filename)\n",
    "\n",
    "plt.figure(figsize=(8,4))\n",
    "for model in df[\"Model\"].unique():\n",
    "    subset = df[df[\"Model\"] == model]\n",
    "    plt.plot(subset[\"Classification\"], subset[\"ROC_AUC\"], marker='o', linestyle='-', label=model,\n",
    "             linewidth=5, markersize=10)\n",
    "\n",
    "plt.xlabel(\"Model\", fontsize=14)\n",
    "plt.ylabel(\"ROC_AUC\", fontsize=14)\n",
    "plt.title(\"ROC_AUC for different Models and Classification\", fontsize=14)\n",
    "plt.legend(fontsize=12)\n",
    "plt.grid(True)\n",
    "plt.savefig(\"without1.png\")  \n",
    "plt.show()"
   ]
  },
  {
   "cell_type": "code",
   "execution_count": 17,
   "metadata": {},
   "outputs": [
    {
     "data": {
      "image/png": "[encoded data removed]",
      "text/plain": [
       "<Figure size 1800x700 with 1 Axes>"
      ]
     },
     "metadata": {},
     "output_type": "display_data"
    }
   ],
   "source": [
    "df = pd.read_csv(csv_filename) \n",
    "\n",
    "df[\"Label\"] = df[\"Model\"] + \" | \" + df[\"Classification\"]\n",
    "\n",
    "original = ['#1f77b4', '#ff7f0e', '#2ca02c']  # Blue, Orange, Green\n",
    "lighter = [mcolors.to_rgba(c, alpha=0.5) for c in original]  # Lighter shades with transparency\n",
    "\n",
    "all=[]\n",
    "for i in range(len(original)):\n",
    "    all.append(original[i])\n",
    "    all.append(lighter[i])\n",
    "    \n",
    "\n",
    "plt.figure(figsize=(18,7))\n",
    "plt.bar(df[\"Label\"], df[\"ROC_AUC\"], color = all) \n",
    "\n",
    "plt.xlabel(\"Model | Classification\", fontsize=16)\n",
    "plt.ylabel(\"ROC_AUC\", fontsize=16)\n",
    "plt.title(\"ROC-AUC for different Model and Classification Combinations\", fontsize=16)\n",
    "# Show grid lines for better readability\n",
    "plt.grid(axis='y', linestyle='--', alpha=0.7)\n",
    "\n",
    "for i, value in enumerate(df[\"ROC_AUC\"]):\n",
    "    plt.text(i, value, f\"{value:.2f}\", ha=\"center\", va=\"bottom\", fontsize=16)\n",
    "\n",
    "\n",
    "plt.savefig(\"without2.png\")  \n",
    "plt.show()"
   ]
  }
 ],
 "metadata": {
  "kernelspec": {
   "display_name": "AILS",
   "language": "python",
   "name": "python3"
  },
  "language_info": {
   "codemirror_mode": {
    "name": "ipython",
    "version": 3
   },
   "file_extension": ".py",
   "mimetype": "text/x-python",
   "name": "python",
   "nbconvert_exporter": "python",
   "pygments_lexer": "ipython3",
   "version": "3.10.0"
  }
 },
 "nbformat": 4,
 "nbformat_minor": 2
}

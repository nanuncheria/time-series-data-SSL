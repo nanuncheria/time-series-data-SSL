{
 "cells": [
  {
   "cell_type": "markdown",
   "metadata": {},
   "source": [
    "avoid any additional training and directly print results \n",
    "- determine whether the models (T_CPC or TS_CPC or S_CPC) are already capable of generating meaningful representations after the initial unsupervised/self-supervised training."
   ]
  },
  {
   "cell_type": "code",
   "execution_count": 1,
   "metadata": {},
   "outputs": [],
   "source": [
    "import wandb\n",
    "from linearclassifier_all import test_extract, linearclassifier, Wearable\n",
    "import itertools\n",
    "import torch\n",
    "from torch.utils.data import DataLoader\n",
    "\n",
    "\n",
    "from T_CPC import T_CPC\n",
    "from TS_CPC import TS_CPC\n",
    "from S_CPC import S_CPC"
   ]
  },
  {
   "cell_type": "code",
   "execution_count": 2,
   "metadata": {},
   "outputs": [],
   "source": [
    "torch.backends.cudnn.deterministic = True\n",
    "\n",
    "torch.manual_seed(0)\n",
    "np.random.seed(0)"
   ]
  },
  {
   "cell_type": "code",
   "execution_count": 3,
   "metadata": {},
   "outputs": [],
   "source": [
    "def no_train(model, type, train_loader, test_loader, device):\n",
    "# def train(num_epochs, model, type, optimizer, train_loader, test_loader, device, test_every=1):\n",
    "\n",
    "    # Directly extract representations without training\n",
    "    train_c_t, train_label, _ = test_extract(model, train_loader, device)\n",
    "    test_c_t, test_label, _ = test_extract(model, test_loader, device)\n",
    "\n",
    "    # Evaluate linear classifier without updates\n",
    "    accuracy = linearclassifier(type, train_c_t, train_label, test_c_t, test_label, log_graph=False)    # AUC-ROC, precision, F1 score, etc are saved in wandb already by the linearclassifier function\n",
    "    print(f\"Initial Accuracy without Training: {accuracy * 100:.2f}%\")\n",
    "\n",
    "    # Log metrics directly\n",
    "    wandb.log({\"initial_accuracy\": accuracy})\n"
   ]
  },
  {
   "cell_type": "code",
   "execution_count": 4,
   "metadata": {},
   "outputs": [
    {
     "name": "stdout",
     "output_type": "stream",
     "text": [
      "Running with model: T_CPC, classification:ClassifierNN, batch size: 256\n"
     ]
    },
    {
     "name": "stderr",
     "output_type": "stream",
     "text": [
      "Failed to detect the name of this notebook, you can set it manually with the WANDB_NOTEBOOK_NAME environment variable to enable code saving.\n",
      "\u001b[34m\u001b[1mwandb\u001b[0m: Currently logged in as: \u001b[33mriaxchoi\u001b[0m (\u001b[33mriaxchoi-heinrich-heine-university-d-sseldorf\u001b[0m). Use \u001b[1m`wandb login --relogin`\u001b[0m to force relogin\n"
     ]
    },
    {
     "data": {
      "text/html": [
       "wandb version 0.19.0 is available!  To upgrade, please run:\n",
       " $ pip install wandb --upgrade"
      ],
      "text/plain": [
       "<IPython.core.display.HTML object>"
      ]
     },
     "metadata": {},
     "output_type": "display_data"
    },
    {
     "data": {
      "text/html": [
       "Tracking run with wandb version 0.17.6"
      ],
      "text/plain": [
       "<IPython.core.display.HTML object>"
      ]
     },
     "metadata": {},
     "output_type": "display_data"
    },
    {
     "data": {
      "text/html": [
       "Run data is saved locally in <code>/home/ria/MMBSintern/bachelor/exercise/wandb/run-20241212_160225-sfzvp59k</code>"
      ],
      "text/plain": [
       "<IPython.core.display.HTML object>"
      ]
     },
     "metadata": {},
     "output_type": "display_data"
    },
    {
     "data": {
      "text/html": [
       "Syncing run <strong><a href='https://wandb.ai/riaxchoi-heinrich-heine-university-d-sseldorf/checking/runs/sfzvp59k' target=\"_blank\">('T_CPC', 'ClassifierNN', 256)</a></strong> to <a href='https://wandb.ai/riaxchoi-heinrich-heine-university-d-sseldorf/checking' target=\"_blank\">Weights & Biases</a> (<a href='https://wandb.me/run' target=\"_blank\">docs</a>)<br/>"
      ],
      "text/plain": [
       "<IPython.core.display.HTML object>"
      ]
     },
     "metadata": {},
     "output_type": "display_data"
    },
    {
     "data": {
      "text/html": [
       " View project at <a href='https://wandb.ai/riaxchoi-heinrich-heine-university-d-sseldorf/checking' target=\"_blank\">https://wandb.ai/riaxchoi-heinrich-heine-university-d-sseldorf/checking</a>"
      ],
      "text/plain": [
       "<IPython.core.display.HTML object>"
      ]
     },
     "metadata": {},
     "output_type": "display_data"
    },
    {
     "data": {
      "text/html": [
       " View run at <a href='https://wandb.ai/riaxchoi-heinrich-heine-university-d-sseldorf/checking/runs/sfzvp59k' target=\"_blank\">https://wandb.ai/riaxchoi-heinrich-heine-university-d-sseldorf/checking/runs/sfzvp59k</a>"
      ],
      "text/plain": [
       "<IPython.core.display.HTML object>"
      ]
     },
     "metadata": {},
     "output_type": "display_data"
    },
    {
     "name": "stderr",
     "output_type": "stream",
     "text": [
      "/home/ria/miniconda3/envs/AILS/lib/python3.10/site-packages/torch/nn/modules/conv.py:306: UserWarning: Attempt to open cnn_infer failed: handle=0 error: libcudnn_cnn_infer.so.8: cannot open shared object file: No such file or directory (Triggered internally at ../aten/src/ATen/native/cudnn/Conv_v8.cpp:81.)\n",
      "  return F.conv1d(input, weight, bias, self.stride,\n"
     ]
    },
    {
     "name": "stdout",
     "output_type": "stream",
     "text": [
      "Initial Accuracy without Training: 60.17%\n"
     ]
    },
    {
     "data": {
      "application/vnd.jupyter.widget-view+json": {
       "model_id": "e0af66b6bab846c2a9432c749ed5592b",
       "version_major": 2,
       "version_minor": 0
      },
      "text/plain": [
       "VBox(children=(Label(value='0.005 MB of 0.005 MB uploaded\\r'), FloatProgress(value=1.0, max=1.0)))"
      ]
     },
     "metadata": {},
     "output_type": "display_data"
    },
    {
     "data": {
      "text/html": [
       "<style>\n",
       "    table.wandb td:nth-child(1) { padding: 0 10px; text-align: left ; width: auto;} td:nth-child(2) {text-align: left ; width: 100%}\n",
       "    .wandb-row { display: flex; flex-direction: row; flex-wrap: wrap; justify-content: flex-start; width: 100% }\n",
       "    .wandb-col { display: flex; flex-direction: column; flex-basis: 100%; flex: 1; padding: 10px; }\n",
       "    </style>\n",
       "<div class=\"wandb-row\"><div class=\"wandb-col\"><h3>Run history:</h3><br/><table class=\"wandb\"><tr><td>ROC-AUC Score</td><td>▁</td></tr><tr><td>accuracy</td><td>▁</td></tr><tr><td>f1_AFib</td><td>▁</td></tr><tr><td>f1_non-AFib</td><td>▁</td></tr><tr><td>initial_accuracy</td><td>▁</td></tr><tr><td>precision_AFib</td><td>▁</td></tr><tr><td>precision_non-AFib</td><td>▁</td></tr><tr><td>recall_AFib</td><td>▁</td></tr><tr><td>recall_non-AFib</td><td>▁</td></tr></table><br/></div><div class=\"wandb-col\"><h3>Run summary:</h3><br/><table class=\"wandb\"><tr><td>ROC-AUC Score</td><td>0.66217</td></tr><tr><td>accuracy</td><td>0.60166</td></tr><tr><td>f1_AFib</td><td>0.36763</td></tr><tr><td>f1_non-AFib</td><td>0.70926</td></tr><tr><td>initial_accuracy</td><td>0.60166</td></tr><tr><td>precision_AFib</td><td>0.25834</td></tr><tr><td>precision_non-AFib</td><td>0.88052</td></tr><tr><td>recall_AFib</td><td>0.6372</td></tr><tr><td>recall_non-AFib</td><td>0.59377</td></tr></table><br/></div></div>"
      ],
      "text/plain": [
       "<IPython.core.display.HTML object>"
      ]
     },
     "metadata": {},
     "output_type": "display_data"
    },
    {
     "data": {
      "text/html": [
       " View run <strong style=\"color:#cdcd00\">('T_CPC', 'ClassifierNN', 256)</strong> at: <a href='https://wandb.ai/riaxchoi-heinrich-heine-university-d-sseldorf/checking/runs/sfzvp59k' target=\"_blank\">https://wandb.ai/riaxchoi-heinrich-heine-university-d-sseldorf/checking/runs/sfzvp59k</a><br/> View project at: <a href='https://wandb.ai/riaxchoi-heinrich-heine-university-d-sseldorf/checking' target=\"_blank\">https://wandb.ai/riaxchoi-heinrich-heine-university-d-sseldorf/checking</a><br/>Synced 6 W&B file(s), 0 media file(s), 0 artifact file(s) and 0 other file(s)"
      ],
      "text/plain": [
       "<IPython.core.display.HTML object>"
      ]
     },
     "metadata": {},
     "output_type": "display_data"
    },
    {
     "data": {
      "text/html": [
       "Find logs at: <code>./wandb/run-20241212_160225-sfzvp59k/logs</code>"
      ],
      "text/plain": [
       "<IPython.core.display.HTML object>"
      ]
     },
     "metadata": {},
     "output_type": "display_data"
    },
    {
     "data": {
      "text/html": [
       "The new W&B backend becomes opt-out in version 0.18.0; try it out with `wandb.require(\"core\")`! See https://wandb.me/wandb-core for more information."
      ],
      "text/plain": [
       "<IPython.core.display.HTML object>"
      ]
     },
     "metadata": {},
     "output_type": "display_data"
    },
    {
     "name": "stdout",
     "output_type": "stream",
     "text": [
      "Running with model: T_CPC, classification:ClassifierNN, batch size: 1024\n"
     ]
    },
    {
     "data": {
      "application/vnd.jupyter.widget-view+json": {
       "model_id": "b926d0db5d2240ca8f8a5423a05f0d3c",
       "version_major": 2,
       "version_minor": 0
      },
      "text/plain": [
       "VBox(children=(Label(value='Waiting for wandb.init()...\\r'), FloatProgress(value=0.011113594089531236, max=1.0…"
      ]
     },
     "metadata": {},
     "output_type": "display_data"
    },
    {
     "data": {
      "text/html": [
       "wandb version 0.19.0 is available!  To upgrade, please run:\n",
       " $ pip install wandb --upgrade"
      ],
      "text/plain": [
       "<IPython.core.display.HTML object>"
      ]
     },
     "metadata": {},
     "output_type": "display_data"
    },
    {
     "data": {
      "text/html": [
       "Tracking run with wandb version 0.17.6"
      ],
      "text/plain": [
       "<IPython.core.display.HTML object>"
      ]
     },
     "metadata": {},
     "output_type": "display_data"
    },
    {
     "data": {
      "text/html": [
       "Run data is saved locally in <code>/home/ria/MMBSintern/bachelor/exercise/wandb/run-20241212_160235-pq0tum5o</code>"
      ],
      "text/plain": [
       "<IPython.core.display.HTML object>"
      ]
     },
     "metadata": {},
     "output_type": "display_data"
    },
    {
     "data": {
      "text/html": [
       "Syncing run <strong><a href='https://wandb.ai/riaxchoi-heinrich-heine-university-d-sseldorf/checking/runs/pq0tum5o' target=\"_blank\">('T_CPC', 'ClassifierNN', 1024)</a></strong> to <a href='https://wandb.ai/riaxchoi-heinrich-heine-university-d-sseldorf/checking' target=\"_blank\">Weights & Biases</a> (<a href='https://wandb.me/run' target=\"_blank\">docs</a>)<br/>"
      ],
      "text/plain": [
       "<IPython.core.display.HTML object>"
      ]
     },
     "metadata": {},
     "output_type": "display_data"
    },
    {
     "data": {
      "text/html": [
       " View project at <a href='https://wandb.ai/riaxchoi-heinrich-heine-university-d-sseldorf/checking' target=\"_blank\">https://wandb.ai/riaxchoi-heinrich-heine-university-d-sseldorf/checking</a>"
      ],
      "text/plain": [
       "<IPython.core.display.HTML object>"
      ]
     },
     "metadata": {},
     "output_type": "display_data"
    },
    {
     "data": {
      "text/html": [
       " View run at <a href='https://wandb.ai/riaxchoi-heinrich-heine-university-d-sseldorf/checking/runs/pq0tum5o' target=\"_blank\">https://wandb.ai/riaxchoi-heinrich-heine-university-d-sseldorf/checking/runs/pq0tum5o</a>"
      ],
      "text/plain": [
       "<IPython.core.display.HTML object>"
      ]
     },
     "metadata": {},
     "output_type": "display_data"
    },
    {
     "name": "stdout",
     "output_type": "stream",
     "text": [
      "Initial Accuracy without Training: 57.84%\n"
     ]
    },
    {
     "data": {
      "application/vnd.jupyter.widget-view+json": {
       "model_id": "eafcd136874e4246aecee8aaee0bbbbe",
       "version_major": 2,
       "version_minor": 0
      },
      "text/plain": [
       "VBox(children=(Label(value='0.005 MB of 0.005 MB uploaded\\r'), FloatProgress(value=1.0, max=1.0)))"
      ]
     },
     "metadata": {},
     "output_type": "display_data"
    },
    {
     "data": {
      "text/html": [
       "<style>\n",
       "    table.wandb td:nth-child(1) { padding: 0 10px; text-align: left ; width: auto;} td:nth-child(2) {text-align: left ; width: 100%}\n",
       "    .wandb-row { display: flex; flex-direction: row; flex-wrap: wrap; justify-content: flex-start; width: 100% }\n",
       "    .wandb-col { display: flex; flex-direction: column; flex-basis: 100%; flex: 1; padding: 10px; }\n",
       "    </style>\n",
       "<div class=\"wandb-row\"><div class=\"wandb-col\"><h3>Run history:</h3><br/><table class=\"wandb\"><tr><td>ROC-AUC Score</td><td>▁</td></tr><tr><td>accuracy</td><td>▁</td></tr><tr><td>f1_AFib</td><td>▁</td></tr><tr><td>f1_non-AFib</td><td>▁</td></tr><tr><td>initial_accuracy</td><td>▁</td></tr><tr><td>precision_AFib</td><td>▁</td></tr><tr><td>precision_non-AFib</td><td>▁</td></tr><tr><td>recall_AFib</td><td>▁</td></tr><tr><td>recall_non-AFib</td><td>▁</td></tr></table><br/></div><div class=\"wandb-col\"><h3>Run summary:</h3><br/><table class=\"wandb\"><tr><td>ROC-AUC Score</td><td>0.63629</td></tr><tr><td>accuracy</td><td>0.57839</td></tr><tr><td>f1_AFib</td><td>0.33998</td></tr><tr><td>f1_non-AFib</td><td>0.69027</td></tr><tr><td>initial_accuracy</td><td>0.57839</td></tr><tr><td>precision_AFib</td><td>0.23758</td></tr><tr><td>precision_non-AFib</td><td>0.86531</td></tr><tr><td>recall_AFib</td><td>0.59756</td></tr><tr><td>recall_non-AFib</td><td>0.57414</td></tr></table><br/></div></div>"
      ],
      "text/plain": [
       "<IPython.core.display.HTML object>"
      ]
     },
     "metadata": {},
     "output_type": "display_data"
    },
    {
     "data": {
      "text/html": [
       " View run <strong style=\"color:#cdcd00\">('T_CPC', 'ClassifierNN', 1024)</strong> at: <a href='https://wandb.ai/riaxchoi-heinrich-heine-university-d-sseldorf/checking/runs/pq0tum5o' target=\"_blank\">https://wandb.ai/riaxchoi-heinrich-heine-university-d-sseldorf/checking/runs/pq0tum5o</a><br/> View project at: <a href='https://wandb.ai/riaxchoi-heinrich-heine-university-d-sseldorf/checking' target=\"_blank\">https://wandb.ai/riaxchoi-heinrich-heine-university-d-sseldorf/checking</a><br/>Synced 6 W&B file(s), 0 media file(s), 0 artifact file(s) and 0 other file(s)"
      ],
      "text/plain": [
       "<IPython.core.display.HTML object>"
      ]
     },
     "metadata": {},
     "output_type": "display_data"
    },
    {
     "data": {
      "text/html": [
       "Find logs at: <code>./wandb/run-20241212_160235-pq0tum5o/logs</code>"
      ],
      "text/plain": [
       "<IPython.core.display.HTML object>"
      ]
     },
     "metadata": {},
     "output_type": "display_data"
    },
    {
     "data": {
      "text/html": [
       "The new W&B backend becomes opt-out in version 0.18.0; try it out with `wandb.require(\"core\")`! See https://wandb.me/wandb-core for more information."
      ],
      "text/plain": [
       "<IPython.core.display.HTML object>"
      ]
     },
     "metadata": {},
     "output_type": "display_data"
    },
    {
     "name": "stdout",
     "output_type": "stream",
     "text": [
      "Running with model: T_CPC, classification:LogisticRegression, batch size: 256\n"
     ]
    },
    {
     "data": {
      "application/vnd.jupyter.widget-view+json": {
       "model_id": "bd79fe38fac94571b8cb4e4398c71c20",
       "version_major": 2,
       "version_minor": 0
      },
      "text/plain": [
       "VBox(children=(Label(value='Waiting for wandb.init()...\\r'), FloatProgress(value=0.011113446875889268, max=1.0…"
      ]
     },
     "metadata": {},
     "output_type": "display_data"
    },
    {
     "data": {
      "text/html": [
       "wandb version 0.19.0 is available!  To upgrade, please run:\n",
       " $ pip install wandb --upgrade"
      ],
      "text/plain": [
       "<IPython.core.display.HTML object>"
      ]
     },
     "metadata": {},
     "output_type": "display_data"
    },
    {
     "data": {
      "text/html": [
       "Tracking run with wandb version 0.17.6"
      ],
      "text/plain": [
       "<IPython.core.display.HTML object>"
      ]
     },
     "metadata": {},
     "output_type": "display_data"
    },
    {
     "data": {
      "text/html": [
       "Run data is saved locally in <code>/home/ria/MMBSintern/bachelor/exercise/wandb/run-20241212_160245-n8aapejc</code>"
      ],
      "text/plain": [
       "<IPython.core.display.HTML object>"
      ]
     },
     "metadata": {},
     "output_type": "display_data"
    },
    {
     "data": {
      "text/html": [
       "Syncing run <strong><a href='https://wandb.ai/riaxchoi-heinrich-heine-university-d-sseldorf/checking/runs/n8aapejc' target=\"_blank\">('T_CPC', 'LogisticRegression', 256)</a></strong> to <a href='https://wandb.ai/riaxchoi-heinrich-heine-university-d-sseldorf/checking' target=\"_blank\">Weights & Biases</a> (<a href='https://wandb.me/run' target=\"_blank\">docs</a>)<br/>"
      ],
      "text/plain": [
       "<IPython.core.display.HTML object>"
      ]
     },
     "metadata": {},
     "output_type": "display_data"
    },
    {
     "data": {
      "text/html": [
       " View project at <a href='https://wandb.ai/riaxchoi-heinrich-heine-university-d-sseldorf/checking' target=\"_blank\">https://wandb.ai/riaxchoi-heinrich-heine-university-d-sseldorf/checking</a>"
      ],
      "text/plain": [
       "<IPython.core.display.HTML object>"
      ]
     },
     "metadata": {},
     "output_type": "display_data"
    },
    {
     "data": {
      "text/html": [
       " View run at <a href='https://wandb.ai/riaxchoi-heinrich-heine-university-d-sseldorf/checking/runs/n8aapejc' target=\"_blank\">https://wandb.ai/riaxchoi-heinrich-heine-university-d-sseldorf/checking/runs/n8aapejc</a>"
      ],
      "text/plain": [
       "<IPython.core.display.HTML object>"
      ]
     },
     "metadata": {},
     "output_type": "display_data"
    },
    {
     "name": "stdout",
     "output_type": "stream",
     "text": [
      "Initial Accuracy without Training: 55.18%\n"
     ]
    },
    {
     "data": {
      "application/vnd.jupyter.widget-view+json": {
       "model_id": "c6cb43e6e5d0408b88138bfd65b1eba0",
       "version_major": 2,
       "version_minor": 0
      },
      "text/plain": [
       "VBox(children=(Label(value='0.005 MB of 0.005 MB uploaded\\r'), FloatProgress(value=1.0, max=1.0)))"
      ]
     },
     "metadata": {},
     "output_type": "display_data"
    },
    {
     "data": {
      "text/html": [
       "<style>\n",
       "    table.wandb td:nth-child(1) { padding: 0 10px; text-align: left ; width: auto;} td:nth-child(2) {text-align: left ; width: 100%}\n",
       "    .wandb-row { display: flex; flex-direction: row; flex-wrap: wrap; justify-content: flex-start; width: 100% }\n",
       "    .wandb-col { display: flex; flex-direction: column; flex-basis: 100%; flex: 1; padding: 10px; }\n",
       "    </style>\n",
       "<div class=\"wandb-row\"><div class=\"wandb-col\"><h3>Run history:</h3><br/><table class=\"wandb\"><tr><td>ROC-AUC Score</td><td>▁</td></tr><tr><td>accuracy</td><td>▁</td></tr><tr><td>f1_AFib</td><td>▁</td></tr><tr><td>f1_non-AFib</td><td>▁</td></tr><tr><td>initial_accuracy</td><td>▁</td></tr><tr><td>precision_AFib</td><td>▁</td></tr><tr><td>precision_non-AFib</td><td>▁</td></tr><tr><td>recall_AFib</td><td>▁</td></tr><tr><td>recall_non-AFib</td><td>▁</td></tr></table><br/></div><div class=\"wandb-col\"><h3>Run summary:</h3><br/><table class=\"wandb\"><tr><td>ROC-AUC Score</td><td>0.57103</td></tr><tr><td>accuracy</td><td>0.5518</td></tr><tr><td>f1_AFib</td><td>0.31149</td></tr><tr><td>f1_non-AFib</td><td>0.66776</td></tr><tr><td>initial_accuracy</td><td>0.5518</td></tr><tr><td>precision_AFib</td><td>0.21606</td></tr><tr><td>precision_non-AFib</td><td>0.84864</td></tr><tr><td>recall_AFib</td><td>0.55793</td></tr><tr><td>recall_non-AFib</td><td>0.55044</td></tr></table><br/></div></div>"
      ],
      "text/plain": [
       "<IPython.core.display.HTML object>"
      ]
     },
     "metadata": {},
     "output_type": "display_data"
    },
    {
     "data": {
      "text/html": [
       " View run <strong style=\"color:#cdcd00\">('T_CPC', 'LogisticRegression', 256)</strong> at: <a href='https://wandb.ai/riaxchoi-heinrich-heine-university-d-sseldorf/checking/runs/n8aapejc' target=\"_blank\">https://wandb.ai/riaxchoi-heinrich-heine-university-d-sseldorf/checking/runs/n8aapejc</a><br/> View project at: <a href='https://wandb.ai/riaxchoi-heinrich-heine-university-d-sseldorf/checking' target=\"_blank\">https://wandb.ai/riaxchoi-heinrich-heine-university-d-sseldorf/checking</a><br/>Synced 6 W&B file(s), 0 media file(s), 0 artifact file(s) and 0 other file(s)"
      ],
      "text/plain": [
       "<IPython.core.display.HTML object>"
      ]
     },
     "metadata": {},
     "output_type": "display_data"
    },
    {
     "data": {
      "text/html": [
       "Find logs at: <code>./wandb/run-20241212_160245-n8aapejc/logs</code>"
      ],
      "text/plain": [
       "<IPython.core.display.HTML object>"
      ]
     },
     "metadata": {},
     "output_type": "display_data"
    },
    {
     "data": {
      "text/html": [
       "The new W&B backend becomes opt-out in version 0.18.0; try it out with `wandb.require(\"core\")`! See https://wandb.me/wandb-core for more information."
      ],
      "text/plain": [
       "<IPython.core.display.HTML object>"
      ]
     },
     "metadata": {},
     "output_type": "display_data"
    },
    {
     "name": "stdout",
     "output_type": "stream",
     "text": [
      "Running with model: T_CPC, classification:LogisticRegression, batch size: 1024\n"
     ]
    },
    {
     "data": {
      "application/vnd.jupyter.widget-view+json": {
       "model_id": "ffb94ce9927a4479a06ac768bd51a759",
       "version_major": 2,
       "version_minor": 0
      },
      "text/plain": [
       "VBox(children=(Label(value='Waiting for wandb.init()...\\r'), FloatProgress(value=0.011113295422142578, max=1.0…"
      ]
     },
     "metadata": {},
     "output_type": "display_data"
    },
    {
     "data": {
      "text/html": [
       "wandb version 0.19.0 is available!  To upgrade, please run:\n",
       " $ pip install wandb --upgrade"
      ],
      "text/plain": [
       "<IPython.core.display.HTML object>"
      ]
     },
     "metadata": {},
     "output_type": "display_data"
    },
    {
     "data": {
      "text/html": [
       "Tracking run with wandb version 0.17.6"
      ],
      "text/plain": [
       "<IPython.core.display.HTML object>"
      ]
     },
     "metadata": {},
     "output_type": "display_data"
    },
    {
     "data": {
      "text/html": [
       "Run data is saved locally in <code>/home/ria/MMBSintern/bachelor/exercise/wandb/run-20241212_160255-o8gu5chc</code>"
      ],
      "text/plain": [
       "<IPython.core.display.HTML object>"
      ]
     },
     "metadata": {},
     "output_type": "display_data"
    },
    {
     "data": {
      "text/html": [
       "Syncing run <strong><a href='https://wandb.ai/riaxchoi-heinrich-heine-university-d-sseldorf/checking/runs/o8gu5chc' target=\"_blank\">('T_CPC', 'LogisticRegression', 1024)</a></strong> to <a href='https://wandb.ai/riaxchoi-heinrich-heine-university-d-sseldorf/checking' target=\"_blank\">Weights & Biases</a> (<a href='https://wandb.me/run' target=\"_blank\">docs</a>)<br/>"
      ],
      "text/plain": [
       "<IPython.core.display.HTML object>"
      ]
     },
     "metadata": {},
     "output_type": "display_data"
    },
    {
     "data": {
      "text/html": [
       " View project at <a href='https://wandb.ai/riaxchoi-heinrich-heine-university-d-sseldorf/checking' target=\"_blank\">https://wandb.ai/riaxchoi-heinrich-heine-university-d-sseldorf/checking</a>"
      ],
      "text/plain": [
       "<IPython.core.display.HTML object>"
      ]
     },
     "metadata": {},
     "output_type": "display_data"
    },
    {
     "data": {
      "text/html": [
       " View run at <a href='https://wandb.ai/riaxchoi-heinrich-heine-university-d-sseldorf/checking/runs/o8gu5chc' target=\"_blank\">https://wandb.ai/riaxchoi-heinrich-heine-university-d-sseldorf/checking/runs/o8gu5chc</a>"
      ],
      "text/plain": [
       "<IPython.core.display.HTML object>"
      ]
     },
     "metadata": {},
     "output_type": "display_data"
    },
    {
     "name": "stdout",
     "output_type": "stream",
     "text": [
      "Initial Accuracy without Training: 53.91%\n"
     ]
    },
    {
     "data": {
      "application/vnd.jupyter.widget-view+json": {
       "model_id": "34e65c43f9254f8599bf91013615a71c",
       "version_major": 2,
       "version_minor": 0
      },
      "text/plain": [
       "VBox(children=(Label(value='0.005 MB of 0.005 MB uploaded\\r'), FloatProgress(value=1.0, max=1.0)))"
      ]
     },
     "metadata": {},
     "output_type": "display_data"
    },
    {
     "data": {
      "text/html": [
       "<style>\n",
       "    table.wandb td:nth-child(1) { padding: 0 10px; text-align: left ; width: auto;} td:nth-child(2) {text-align: left ; width: 100%}\n",
       "    .wandb-row { display: flex; flex-direction: row; flex-wrap: wrap; justify-content: flex-start; width: 100% }\n",
       "    .wandb-col { display: flex; flex-direction: column; flex-basis: 100%; flex: 1; padding: 10px; }\n",
       "    </style>\n",
       "<div class=\"wandb-row\"><div class=\"wandb-col\"><h3>Run history:</h3><br/><table class=\"wandb\"><tr><td>ROC-AUC Score</td><td>▁</td></tr><tr><td>accuracy</td><td>▁</td></tr><tr><td>f1_AFib</td><td>▁</td></tr><tr><td>f1_non-AFib</td><td>▁</td></tr><tr><td>initial_accuracy</td><td>▁</td></tr><tr><td>precision_AFib</td><td>▁</td></tr><tr><td>precision_non-AFib</td><td>▁</td></tr><tr><td>recall_AFib</td><td>▁</td></tr><tr><td>recall_non-AFib</td><td>▁</td></tr></table><br/></div><div class=\"wandb-col\"><h3>Run summary:</h3><br/><table class=\"wandb\"><tr><td>ROC-AUC Score</td><td>0.58333</td></tr><tr><td>accuracy</td><td>0.53906</td></tr><tr><td>f1_AFib</td><td>0.30435</td></tr><tr><td>f1_non-AFib</td><td>0.65534</td></tr><tr><td>initial_accuracy</td><td>0.53906</td></tr><tr><td>precision_AFib</td><td>0.20968</td></tr><tr><td>precision_non-AFib</td><td>0.84418</td></tr><tr><td>recall_AFib</td><td>0.55488</td></tr><tr><td>recall_non-AFib</td><td>0.53555</td></tr></table><br/></div></div>"
      ],
      "text/plain": [
       "<IPython.core.display.HTML object>"
      ]
     },
     "metadata": {},
     "output_type": "display_data"
    },
    {
     "data": {
      "text/html": [
       " View run <strong style=\"color:#cdcd00\">('T_CPC', 'LogisticRegression', 1024)</strong> at: <a href='https://wandb.ai/riaxchoi-heinrich-heine-university-d-sseldorf/checking/runs/o8gu5chc' target=\"_blank\">https://wandb.ai/riaxchoi-heinrich-heine-university-d-sseldorf/checking/runs/o8gu5chc</a><br/> View project at: <a href='https://wandb.ai/riaxchoi-heinrich-heine-university-d-sseldorf/checking' target=\"_blank\">https://wandb.ai/riaxchoi-heinrich-heine-university-d-sseldorf/checking</a><br/>Synced 6 W&B file(s), 0 media file(s), 0 artifact file(s) and 0 other file(s)"
      ],
      "text/plain": [
       "<IPython.core.display.HTML object>"
      ]
     },
     "metadata": {},
     "output_type": "display_data"
    },
    {
     "data": {
      "text/html": [
       "Find logs at: <code>./wandb/run-20241212_160255-o8gu5chc/logs</code>"
      ],
      "text/plain": [
       "<IPython.core.display.HTML object>"
      ]
     },
     "metadata": {},
     "output_type": "display_data"
    },
    {
     "data": {
      "text/html": [
       "The new W&B backend becomes opt-out in version 0.18.0; try it out with `wandb.require(\"core\")`! See https://wandb.me/wandb-core for more information."
      ],
      "text/plain": [
       "<IPython.core.display.HTML object>"
      ]
     },
     "metadata": {},
     "output_type": "display_data"
    },
    {
     "name": "stdout",
     "output_type": "stream",
     "text": [
      "Running with model: TS_CPC, classification:ClassifierNN, batch size: 256\n"
     ]
    },
    {
     "data": {
      "application/vnd.jupyter.widget-view+json": {
       "model_id": "580836a02cac40d3b9dbb10f53a98d89",
       "version_major": 2,
       "version_minor": 0
      },
      "text/plain": [
       "VBox(children=(Label(value='Waiting for wandb.init()...\\r'), FloatProgress(value=0.011113705856001212, max=1.0…"
      ]
     },
     "metadata": {},
     "output_type": "display_data"
    },
    {
     "data": {
      "text/html": [
       "wandb version 0.19.0 is available!  To upgrade, please run:\n",
       " $ pip install wandb --upgrade"
      ],
      "text/plain": [
       "<IPython.core.display.HTML object>"
      ]
     },
     "metadata": {},
     "output_type": "display_data"
    },
    {
     "data": {
      "text/html": [
       "Tracking run with wandb version 0.17.6"
      ],
      "text/plain": [
       "<IPython.core.display.HTML object>"
      ]
     },
     "metadata": {},
     "output_type": "display_data"
    },
    {
     "data": {
      "text/html": [
       "Run data is saved locally in <code>/home/ria/MMBSintern/bachelor/exercise/wandb/run-20241212_160304-ry6mul0j</code>"
      ],
      "text/plain": [
       "<IPython.core.display.HTML object>"
      ]
     },
     "metadata": {},
     "output_type": "display_data"
    },
    {
     "data": {
      "text/html": [
       "Syncing run <strong><a href='https://wandb.ai/riaxchoi-heinrich-heine-university-d-sseldorf/checking/runs/ry6mul0j' target=\"_blank\">('TS_CPC', 'ClassifierNN', 256)</a></strong> to <a href='https://wandb.ai/riaxchoi-heinrich-heine-university-d-sseldorf/checking' target=\"_blank\">Weights & Biases</a> (<a href='https://wandb.me/run' target=\"_blank\">docs</a>)<br/>"
      ],
      "text/plain": [
       "<IPython.core.display.HTML object>"
      ]
     },
     "metadata": {},
     "output_type": "display_data"
    },
    {
     "data": {
      "text/html": [
       " View project at <a href='https://wandb.ai/riaxchoi-heinrich-heine-university-d-sseldorf/checking' target=\"_blank\">https://wandb.ai/riaxchoi-heinrich-heine-university-d-sseldorf/checking</a>"
      ],
      "text/plain": [
       "<IPython.core.display.HTML object>"
      ]
     },
     "metadata": {},
     "output_type": "display_data"
    },
    {
     "data": {
      "text/html": [
       " View run at <a href='https://wandb.ai/riaxchoi-heinrich-heine-university-d-sseldorf/checking/runs/ry6mul0j' target=\"_blank\">https://wandb.ai/riaxchoi-heinrich-heine-university-d-sseldorf/checking/runs/ry6mul0j</a>"
      ],
      "text/plain": [
       "<IPython.core.display.HTML object>"
      ]
     },
     "metadata": {},
     "output_type": "display_data"
    },
    {
     "name": "stdout",
     "output_type": "stream",
     "text": [
      "Initial Accuracy without Training: 65.10%\n"
     ]
    },
    {
     "data": {
      "application/vnd.jupyter.widget-view+json": {
       "model_id": "ac322db2126f4cb3b2fae01b3572de3f",
       "version_major": 2,
       "version_minor": 0
      },
      "text/plain": [
       "VBox(children=(Label(value='0.005 MB of 0.005 MB uploaded\\r'), FloatProgress(value=1.0, max=1.0)))"
      ]
     },
     "metadata": {},
     "output_type": "display_data"
    },
    {
     "data": {
      "text/html": [
       "<style>\n",
       "    table.wandb td:nth-child(1) { padding: 0 10px; text-align: left ; width: auto;} td:nth-child(2) {text-align: left ; width: 100%}\n",
       "    .wandb-row { display: flex; flex-direction: row; flex-wrap: wrap; justify-content: flex-start; width: 100% }\n",
       "    .wandb-col { display: flex; flex-direction: column; flex-basis: 100%; flex: 1; padding: 10px; }\n",
       "    </style>\n",
       "<div class=\"wandb-row\"><div class=\"wandb-col\"><h3>Run history:</h3><br/><table class=\"wandb\"><tr><td>ROC-AUC Score</td><td>▁</td></tr><tr><td>accuracy</td><td>▁</td></tr><tr><td>f1_AFib</td><td>▁</td></tr><tr><td>f1_non-AFib</td><td>▁</td></tr><tr><td>initial_accuracy</td><td>▁</td></tr><tr><td>precision_AFib</td><td>▁</td></tr><tr><td>precision_non-AFib</td><td>▁</td></tr><tr><td>recall_AFib</td><td>▁</td></tr><tr><td>recall_non-AFib</td><td>▁</td></tr></table><br/></div><div class=\"wandb-col\"><h3>Run summary:</h3><br/><table class=\"wandb\"><tr><td>ROC-AUC Score</td><td>0.73751</td></tr><tr><td>accuracy</td><td>0.65097</td></tr><tr><td>f1_AFib</td><td>0.41667</td></tr><tr><td>f1_non-AFib</td><td>0.75099</td></tr><tr><td>initial_accuracy</td><td>0.65097</td></tr><tr><td>precision_AFib</td><td>0.2992</td></tr><tr><td>precision_non-AFib</td><td>0.90218</td></tr><tr><td>recall_AFib</td><td>0.68598</td></tr><tr><td>recall_non-AFib</td><td>0.6432</td></tr></table><br/></div></div>"
      ],
      "text/plain": [
       "<IPython.core.display.HTML object>"
      ]
     },
     "metadata": {},
     "output_type": "display_data"
    },
    {
     "data": {
      "text/html": [
       " View run <strong style=\"color:#cdcd00\">('TS_CPC', 'ClassifierNN', 256)</strong> at: <a href='https://wandb.ai/riaxchoi-heinrich-heine-university-d-sseldorf/checking/runs/ry6mul0j' target=\"_blank\">https://wandb.ai/riaxchoi-heinrich-heine-university-d-sseldorf/checking/runs/ry6mul0j</a><br/> View project at: <a href='https://wandb.ai/riaxchoi-heinrich-heine-university-d-sseldorf/checking' target=\"_blank\">https://wandb.ai/riaxchoi-heinrich-heine-university-d-sseldorf/checking</a><br/>Synced 6 W&B file(s), 0 media file(s), 0 artifact file(s) and 0 other file(s)"
      ],
      "text/plain": [
       "<IPython.core.display.HTML object>"
      ]
     },
     "metadata": {},
     "output_type": "display_data"
    },
    {
     "data": {
      "text/html": [
       "Find logs at: <code>./wandb/run-20241212_160304-ry6mul0j/logs</code>"
      ],
      "text/plain": [
       "<IPython.core.display.HTML object>"
      ]
     },
     "metadata": {},
     "output_type": "display_data"
    },
    {
     "data": {
      "text/html": [
       "The new W&B backend becomes opt-out in version 0.18.0; try it out with `wandb.require(\"core\")`! See https://wandb.me/wandb-core for more information."
      ],
      "text/plain": [
       "<IPython.core.display.HTML object>"
      ]
     },
     "metadata": {},
     "output_type": "display_data"
    },
    {
     "name": "stdout",
     "output_type": "stream",
     "text": [
      "Running with model: TS_CPC, classification:ClassifierNN, batch size: 1024\n"
     ]
    },
    {
     "data": {
      "application/vnd.jupyter.widget-view+json": {
       "model_id": "828ab3fa1f3f45fb9817b3041e6b7d56",
       "version_major": 2,
       "version_minor": 0
      },
      "text/plain": [
       "VBox(children=(Label(value='Waiting for wandb.init()...\\r'), FloatProgress(value=0.011113628822689256, max=1.0…"
      ]
     },
     "metadata": {},
     "output_type": "display_data"
    },
    {
     "data": {
      "text/html": [
       "wandb version 0.19.0 is available!  To upgrade, please run:\n",
       " $ pip install wandb --upgrade"
      ],
      "text/plain": [
       "<IPython.core.display.HTML object>"
      ]
     },
     "metadata": {},
     "output_type": "display_data"
    },
    {
     "data": {
      "text/html": [
       "Tracking run with wandb version 0.17.6"
      ],
      "text/plain": [
       "<IPython.core.display.HTML object>"
      ]
     },
     "metadata": {},
     "output_type": "display_data"
    },
    {
     "data": {
      "text/html": [
       "Run data is saved locally in <code>/home/ria/MMBSintern/bachelor/exercise/wandb/run-20241212_160313-er5ew1ox</code>"
      ],
      "text/plain": [
       "<IPython.core.display.HTML object>"
      ]
     },
     "metadata": {},
     "output_type": "display_data"
    },
    {
     "data": {
      "text/html": [
       "Syncing run <strong><a href='https://wandb.ai/riaxchoi-heinrich-heine-university-d-sseldorf/checking/runs/er5ew1ox' target=\"_blank\">('TS_CPC', 'ClassifierNN', 1024)</a></strong> to <a href='https://wandb.ai/riaxchoi-heinrich-heine-university-d-sseldorf/checking' target=\"_blank\">Weights & Biases</a> (<a href='https://wandb.me/run' target=\"_blank\">docs</a>)<br/>"
      ],
      "text/plain": [
       "<IPython.core.display.HTML object>"
      ]
     },
     "metadata": {},
     "output_type": "display_data"
    },
    {
     "data": {
      "text/html": [
       " View project at <a href='https://wandb.ai/riaxchoi-heinrich-heine-university-d-sseldorf/checking' target=\"_blank\">https://wandb.ai/riaxchoi-heinrich-heine-university-d-sseldorf/checking</a>"
      ],
      "text/plain": [
       "<IPython.core.display.HTML object>"
      ]
     },
     "metadata": {},
     "output_type": "display_data"
    },
    {
     "data": {
      "text/html": [
       " View run at <a href='https://wandb.ai/riaxchoi-heinrich-heine-university-d-sseldorf/checking/runs/er5ew1ox' target=\"_blank\">https://wandb.ai/riaxchoi-heinrich-heine-university-d-sseldorf/checking/runs/er5ew1ox</a>"
      ],
      "text/plain": [
       "<IPython.core.display.HTML object>"
      ]
     },
     "metadata": {},
     "output_type": "display_data"
    },
    {
     "name": "stdout",
     "output_type": "stream",
     "text": [
      "Initial Accuracy without Training: 66.81%\n"
     ]
    },
    {
     "data": {
      "application/vnd.jupyter.widget-view+json": {
       "model_id": "e183d95ae6c44ce5916bd09f9689ae0c",
       "version_major": 2,
       "version_minor": 0
      },
      "text/plain": [
       "VBox(children=(Label(value='0.005 MB of 0.005 MB uploaded\\r'), FloatProgress(value=1.0, max=1.0)))"
      ]
     },
     "metadata": {},
     "output_type": "display_data"
    },
    {
     "data": {
      "text/html": [
       "<style>\n",
       "    table.wandb td:nth-child(1) { padding: 0 10px; text-align: left ; width: auto;} td:nth-child(2) {text-align: left ; width: 100%}\n",
       "    .wandb-row { display: flex; flex-direction: row; flex-wrap: wrap; justify-content: flex-start; width: 100% }\n",
       "    .wandb-col { display: flex; flex-direction: column; flex-basis: 100%; flex: 1; padding: 10px; }\n",
       "    </style>\n",
       "<div class=\"wandb-row\"><div class=\"wandb-col\"><h3>Run history:</h3><br/><table class=\"wandb\"><tr><td>ROC-AUC Score</td><td>▁</td></tr><tr><td>accuracy</td><td>▁</td></tr><tr><td>f1_AFib</td><td>▁</td></tr><tr><td>f1_non-AFib</td><td>▁</td></tr><tr><td>initial_accuracy</td><td>▁</td></tr><tr><td>precision_AFib</td><td>▁</td></tr><tr><td>precision_non-AFib</td><td>▁</td></tr><tr><td>recall_AFib</td><td>▁</td></tr><tr><td>recall_non-AFib</td><td>▁</td></tr></table><br/></div><div class=\"wandb-col\"><h3>Run summary:</h3><br/><table class=\"wandb\"><tr><td>ROC-AUC Score</td><td>0.72256</td></tr><tr><td>accuracy</td><td>0.66814</td></tr><tr><td>f1_AFib</td><td>0.41561</td></tr><tr><td>f1_non-AFib</td><td>0.76828</td></tr><tr><td>initial_accuracy</td><td>0.66814</td></tr><tr><td>precision_AFib</td><td>0.3056</td></tr><tr><td>precision_non-AFib</td><td>0.89621</td></tr><tr><td>recall_AFib</td><td>0.64939</td></tr><tr><td>recall_non-AFib</td><td>0.67231</td></tr></table><br/></div></div>"
      ],
      "text/plain": [
       "<IPython.core.display.HTML object>"
      ]
     },
     "metadata": {},
     "output_type": "display_data"
    },
    {
     "data": {
      "text/html": [
       " View run <strong style=\"color:#cdcd00\">('TS_CPC', 'ClassifierNN', 1024)</strong> at: <a href='https://wandb.ai/riaxchoi-heinrich-heine-university-d-sseldorf/checking/runs/er5ew1ox' target=\"_blank\">https://wandb.ai/riaxchoi-heinrich-heine-university-d-sseldorf/checking/runs/er5ew1ox</a><br/> View project at: <a href='https://wandb.ai/riaxchoi-heinrich-heine-university-d-sseldorf/checking' target=\"_blank\">https://wandb.ai/riaxchoi-heinrich-heine-university-d-sseldorf/checking</a><br/>Synced 6 W&B file(s), 0 media file(s), 0 artifact file(s) and 0 other file(s)"
      ],
      "text/plain": [
       "<IPython.core.display.HTML object>"
      ]
     },
     "metadata": {},
     "output_type": "display_data"
    },
    {
     "data": {
      "text/html": [
       "Find logs at: <code>./wandb/run-20241212_160313-er5ew1ox/logs</code>"
      ],
      "text/plain": [
       "<IPython.core.display.HTML object>"
      ]
     },
     "metadata": {},
     "output_type": "display_data"
    },
    {
     "data": {
      "text/html": [
       "The new W&B backend becomes opt-out in version 0.18.0; try it out with `wandb.require(\"core\")`! See https://wandb.me/wandb-core for more information."
      ],
      "text/plain": [
       "<IPython.core.display.HTML object>"
      ]
     },
     "metadata": {},
     "output_type": "display_data"
    },
    {
     "name": "stdout",
     "output_type": "stream",
     "text": [
      "Running with model: TS_CPC, classification:LogisticRegression, batch size: 256\n"
     ]
    },
    {
     "data": {
      "application/vnd.jupyter.widget-view+json": {
       "model_id": "b45c262874034b86ac5dd27a4c9ddc9a",
       "version_major": 2,
       "version_minor": 0
      },
      "text/plain": [
       "VBox(children=(Label(value='Waiting for wandb.init()...\\r'), FloatProgress(value=0.011113644034291307, max=1.0…"
      ]
     },
     "metadata": {},
     "output_type": "display_data"
    },
    {
     "data": {
      "text/html": [
       "wandb version 0.19.0 is available!  To upgrade, please run:\n",
       " $ pip install wandb --upgrade"
      ],
      "text/plain": [
       "<IPython.core.display.HTML object>"
      ]
     },
     "metadata": {},
     "output_type": "display_data"
    },
    {
     "data": {
      "text/html": [
       "Tracking run with wandb version 0.17.6"
      ],
      "text/plain": [
       "<IPython.core.display.HTML object>"
      ]
     },
     "metadata": {},
     "output_type": "display_data"
    },
    {
     "data": {
      "text/html": [
       "Run data is saved locally in <code>/home/ria/MMBSintern/bachelor/exercise/wandb/run-20241212_160323-qtnxaa04</code>"
      ],
      "text/plain": [
       "<IPython.core.display.HTML object>"
      ]
     },
     "metadata": {},
     "output_type": "display_data"
    },
    {
     "data": {
      "text/html": [
       "Syncing run <strong><a href='https://wandb.ai/riaxchoi-heinrich-heine-university-d-sseldorf/checking/runs/qtnxaa04' target=\"_blank\">('TS_CPC', 'LogisticRegression', 256)</a></strong> to <a href='https://wandb.ai/riaxchoi-heinrich-heine-university-d-sseldorf/checking' target=\"_blank\">Weights & Biases</a> (<a href='https://wandb.me/run' target=\"_blank\">docs</a>)<br/>"
      ],
      "text/plain": [
       "<IPython.core.display.HTML object>"
      ]
     },
     "metadata": {},
     "output_type": "display_data"
    },
    {
     "data": {
      "text/html": [
       " View project at <a href='https://wandb.ai/riaxchoi-heinrich-heine-university-d-sseldorf/checking' target=\"_blank\">https://wandb.ai/riaxchoi-heinrich-heine-university-d-sseldorf/checking</a>"
      ],
      "text/plain": [
       "<IPython.core.display.HTML object>"
      ]
     },
     "metadata": {},
     "output_type": "display_data"
    },
    {
     "data": {
      "text/html": [
       " View run at <a href='https://wandb.ai/riaxchoi-heinrich-heine-university-d-sseldorf/checking/runs/qtnxaa04' target=\"_blank\">https://wandb.ai/riaxchoi-heinrich-heine-university-d-sseldorf/checking/runs/qtnxaa04</a>"
      ],
      "text/plain": [
       "<IPython.core.display.HTML object>"
      ]
     },
     "metadata": {},
     "output_type": "display_data"
    },
    {
     "name": "stdout",
     "output_type": "stream",
     "text": [
      "Initial Accuracy without Training: 64.27%\n"
     ]
    },
    {
     "data": {
      "application/vnd.jupyter.widget-view+json": {
       "model_id": "23076209267b44cdb59ede8258fb558e",
       "version_major": 2,
       "version_minor": 0
      },
      "text/plain": [
       "VBox(children=(Label(value='0.005 MB of 0.005 MB uploaded\\r'), FloatProgress(value=1.0, max=1.0)))"
      ]
     },
     "metadata": {},
     "output_type": "display_data"
    },
    {
     "data": {
      "text/html": [
       "<style>\n",
       "    table.wandb td:nth-child(1) { padding: 0 10px; text-align: left ; width: auto;} td:nth-child(2) {text-align: left ; width: 100%}\n",
       "    .wandb-row { display: flex; flex-direction: row; flex-wrap: wrap; justify-content: flex-start; width: 100% }\n",
       "    .wandb-col { display: flex; flex-direction: column; flex-basis: 100%; flex: 1; padding: 10px; }\n",
       "    </style>\n",
       "<div class=\"wandb-row\"><div class=\"wandb-col\"><h3>Run history:</h3><br/><table class=\"wandb\"><tr><td>ROC-AUC Score</td><td>▁</td></tr><tr><td>accuracy</td><td>▁</td></tr><tr><td>f1_AFib</td><td>▁</td></tr><tr><td>f1_non-AFib</td><td>▁</td></tr><tr><td>initial_accuracy</td><td>▁</td></tr><tr><td>precision_AFib</td><td>▁</td></tr><tr><td>precision_non-AFib</td><td>▁</td></tr><tr><td>recall_AFib</td><td>▁</td></tr><tr><td>recall_non-AFib</td><td>▁</td></tr></table><br/></div><div class=\"wandb-col\"><h3>Run summary:</h3><br/><table class=\"wandb\"><tr><td>ROC-AUC Score</td><td>0.70925</td></tr><tr><td>accuracy</td><td>0.64266</td></tr><tr><td>f1_AFib</td><td>0.40222</td></tr><tr><td>f1_non-AFib</td><td>0.74516</td></tr><tr><td>initial_accuracy</td><td>0.64266</td></tr><tr><td>precision_AFib</td><td>0.28895</td></tr><tr><td>precision_non-AFib</td><td>0.89469</td></tr><tr><td>recall_AFib</td><td>0.66159</td></tr><tr><td>recall_non-AFib</td><td>0.63846</td></tr></table><br/></div></div>"
      ],
      "text/plain": [
       "<IPython.core.display.HTML object>"
      ]
     },
     "metadata": {},
     "output_type": "display_data"
    },
    {
     "data": {
      "text/html": [
       " View run <strong style=\"color:#cdcd00\">('TS_CPC', 'LogisticRegression', 256)</strong> at: <a href='https://wandb.ai/riaxchoi-heinrich-heine-university-d-sseldorf/checking/runs/qtnxaa04' target=\"_blank\">https://wandb.ai/riaxchoi-heinrich-heine-university-d-sseldorf/checking/runs/qtnxaa04</a><br/> View project at: <a href='https://wandb.ai/riaxchoi-heinrich-heine-university-d-sseldorf/checking' target=\"_blank\">https://wandb.ai/riaxchoi-heinrich-heine-university-d-sseldorf/checking</a><br/>Synced 6 W&B file(s), 0 media file(s), 0 artifact file(s) and 0 other file(s)"
      ],
      "text/plain": [
       "<IPython.core.display.HTML object>"
      ]
     },
     "metadata": {},
     "output_type": "display_data"
    },
    {
     "data": {
      "text/html": [
       "Find logs at: <code>./wandb/run-20241212_160323-qtnxaa04/logs</code>"
      ],
      "text/plain": [
       "<IPython.core.display.HTML object>"
      ]
     },
     "metadata": {},
     "output_type": "display_data"
    },
    {
     "data": {
      "text/html": [
       "The new W&B backend becomes opt-out in version 0.18.0; try it out with `wandb.require(\"core\")`! See https://wandb.me/wandb-core for more information."
      ],
      "text/plain": [
       "<IPython.core.display.HTML object>"
      ]
     },
     "metadata": {},
     "output_type": "display_data"
    },
    {
     "name": "stdout",
     "output_type": "stream",
     "text": [
      "Running with model: TS_CPC, classification:LogisticRegression, batch size: 1024\n"
     ]
    },
    {
     "data": {
      "application/vnd.jupyter.widget-view+json": {
       "model_id": "39d7d12d57f3426eadf56bbb7e7d5ed9",
       "version_major": 2,
       "version_minor": 0
      },
      "text/plain": [
       "VBox(children=(Label(value='Waiting for wandb.init()...\\r'), FloatProgress(value=0.011113797234267824, max=1.0…"
      ]
     },
     "metadata": {},
     "output_type": "display_data"
    },
    {
     "data": {
      "text/html": [
       "wandb version 0.19.0 is available!  To upgrade, please run:\n",
       " $ pip install wandb --upgrade"
      ],
      "text/plain": [
       "<IPython.core.display.HTML object>"
      ]
     },
     "metadata": {},
     "output_type": "display_data"
    },
    {
     "data": {
      "text/html": [
       "Tracking run with wandb version 0.17.6"
      ],
      "text/plain": [
       "<IPython.core.display.HTML object>"
      ]
     },
     "metadata": {},
     "output_type": "display_data"
    },
    {
     "data": {
      "text/html": [
       "Run data is saved locally in <code>/home/ria/MMBSintern/bachelor/exercise/wandb/run-20241212_160334-qw5dzplo</code>"
      ],
      "text/plain": [
       "<IPython.core.display.HTML object>"
      ]
     },
     "metadata": {},
     "output_type": "display_data"
    },
    {
     "data": {
      "text/html": [
       "Syncing run <strong><a href='https://wandb.ai/riaxchoi-heinrich-heine-university-d-sseldorf/checking/runs/qw5dzplo' target=\"_blank\">('TS_CPC', 'LogisticRegression', 1024)</a></strong> to <a href='https://wandb.ai/riaxchoi-heinrich-heine-university-d-sseldorf/checking' target=\"_blank\">Weights & Biases</a> (<a href='https://wandb.me/run' target=\"_blank\">docs</a>)<br/>"
      ],
      "text/plain": [
       "<IPython.core.display.HTML object>"
      ]
     },
     "metadata": {},
     "output_type": "display_data"
    },
    {
     "data": {
      "text/html": [
       " View project at <a href='https://wandb.ai/riaxchoi-heinrich-heine-university-d-sseldorf/checking' target=\"_blank\">https://wandb.ai/riaxchoi-heinrich-heine-university-d-sseldorf/checking</a>"
      ],
      "text/plain": [
       "<IPython.core.display.HTML object>"
      ]
     },
     "metadata": {},
     "output_type": "display_data"
    },
    {
     "data": {
      "text/html": [
       " View run at <a href='https://wandb.ai/riaxchoi-heinrich-heine-university-d-sseldorf/checking/runs/qw5dzplo' target=\"_blank\">https://wandb.ai/riaxchoi-heinrich-heine-university-d-sseldorf/checking/runs/qw5dzplo</a>"
      ],
      "text/plain": [
       "<IPython.core.display.HTML object>"
      ]
     },
     "metadata": {},
     "output_type": "display_data"
    },
    {
     "name": "stdout",
     "output_type": "stream",
     "text": [
      "Initial Accuracy without Training: 62.88%\n"
     ]
    },
    {
     "data": {
      "application/vnd.jupyter.widget-view+json": {
       "model_id": "b86dd12b9f014ebbb04654b43f40c7e4",
       "version_major": 2,
       "version_minor": 0
      },
      "text/plain": [
       "VBox(children=(Label(value='0.005 MB of 0.005 MB uploaded\\r'), FloatProgress(value=1.0, max=1.0)))"
      ]
     },
     "metadata": {},
     "output_type": "display_data"
    },
    {
     "data": {
      "text/html": [
       "<style>\n",
       "    table.wandb td:nth-child(1) { padding: 0 10px; text-align: left ; width: auto;} td:nth-child(2) {text-align: left ; width: 100%}\n",
       "    .wandb-row { display: flex; flex-direction: row; flex-wrap: wrap; justify-content: flex-start; width: 100% }\n",
       "    .wandb-col { display: flex; flex-direction: column; flex-basis: 100%; flex: 1; padding: 10px; }\n",
       "    </style>\n",
       "<div class=\"wandb-row\"><div class=\"wandb-col\"><h3>Run history:</h3><br/><table class=\"wandb\"><tr><td>ROC-AUC Score</td><td>▁</td></tr><tr><td>accuracy</td><td>▁</td></tr><tr><td>f1_AFib</td><td>▁</td></tr><tr><td>f1_non-AFib</td><td>▁</td></tr><tr><td>initial_accuracy</td><td>▁</td></tr><tr><td>precision_AFib</td><td>▁</td></tr><tr><td>precision_non-AFib</td><td>▁</td></tr><tr><td>recall_AFib</td><td>▁</td></tr><tr><td>recall_non-AFib</td><td>▁</td></tr></table><br/></div><div class=\"wandb-col\"><h3>Run summary:</h3><br/><table class=\"wandb\"><tr><td>ROC-AUC Score</td><td>0.6963</td></tr><tr><td>accuracy</td><td>0.62881</td></tr><tr><td>f1_AFib</td><td>0.39421</td></tr><tr><td>f1_non-AFib</td><td>0.73243</td></tr><tr><td>initial_accuracy</td><td>0.62881</td></tr><tr><td>precision_AFib</td><td>0.28021</td></tr><tr><td>precision_non-AFib</td><td>0.89289</td></tr><tr><td>recall_AFib</td><td>0.66463</td></tr><tr><td>recall_non-AFib</td><td>0.62085</td></tr></table><br/></div></div>"
      ],
      "text/plain": [
       "<IPython.core.display.HTML object>"
      ]
     },
     "metadata": {},
     "output_type": "display_data"
    },
    {
     "data": {
      "text/html": [
       " View run <strong style=\"color:#cdcd00\">('TS_CPC', 'LogisticRegression', 1024)</strong> at: <a href='https://wandb.ai/riaxchoi-heinrich-heine-university-d-sseldorf/checking/runs/qw5dzplo' target=\"_blank\">https://wandb.ai/riaxchoi-heinrich-heine-university-d-sseldorf/checking/runs/qw5dzplo</a><br/> View project at: <a href='https://wandb.ai/riaxchoi-heinrich-heine-university-d-sseldorf/checking' target=\"_blank\">https://wandb.ai/riaxchoi-heinrich-heine-university-d-sseldorf/checking</a><br/>Synced 6 W&B file(s), 0 media file(s), 0 artifact file(s) and 0 other file(s)"
      ],
      "text/plain": [
       "<IPython.core.display.HTML object>"
      ]
     },
     "metadata": {},
     "output_type": "display_data"
    },
    {
     "data": {
      "text/html": [
       "Find logs at: <code>./wandb/run-20241212_160334-qw5dzplo/logs</code>"
      ],
      "text/plain": [
       "<IPython.core.display.HTML object>"
      ]
     },
     "metadata": {},
     "output_type": "display_data"
    },
    {
     "data": {
      "text/html": [
       "The new W&B backend becomes opt-out in version 0.18.0; try it out with `wandb.require(\"core\")`! See https://wandb.me/wandb-core for more information."
      ],
      "text/plain": [
       "<IPython.core.display.HTML object>"
      ]
     },
     "metadata": {},
     "output_type": "display_data"
    },
    {
     "name": "stdout",
     "output_type": "stream",
     "text": [
      "Running with model: S_CPC, classification:ClassifierNN, batch size: 256\n"
     ]
    },
    {
     "data": {
      "application/vnd.jupyter.widget-view+json": {
       "model_id": "d8481fcb26f449598b904b07a9ce2a48",
       "version_major": 2,
       "version_minor": 0
      },
      "text/plain": [
       "VBox(children=(Label(value='Waiting for wandb.init()...\\r'), FloatProgress(value=0.011113461854660677, max=1.0…"
      ]
     },
     "metadata": {},
     "output_type": "display_data"
    },
    {
     "data": {
      "text/html": [
       "wandb version 0.19.0 is available!  To upgrade, please run:\n",
       " $ pip install wandb --upgrade"
      ],
      "text/plain": [
       "<IPython.core.display.HTML object>"
      ]
     },
     "metadata": {},
     "output_type": "display_data"
    },
    {
     "data": {
      "text/html": [
       "Tracking run with wandb version 0.17.6"
      ],
      "text/plain": [
       "<IPython.core.display.HTML object>"
      ]
     },
     "metadata": {},
     "output_type": "display_data"
    },
    {
     "data": {
      "text/html": [
       "Run data is saved locally in <code>/home/ria/MMBSintern/bachelor/exercise/wandb/run-20241212_160344-du24v0m8</code>"
      ],
      "text/plain": [
       "<IPython.core.display.HTML object>"
      ]
     },
     "metadata": {},
     "output_type": "display_data"
    },
    {
     "data": {
      "text/html": [
       "Syncing run <strong><a href='https://wandb.ai/riaxchoi-heinrich-heine-university-d-sseldorf/checking/runs/du24v0m8' target=\"_blank\">('S_CPC', 'ClassifierNN', 256)</a></strong> to <a href='https://wandb.ai/riaxchoi-heinrich-heine-university-d-sseldorf/checking' target=\"_blank\">Weights & Biases</a> (<a href='https://wandb.me/run' target=\"_blank\">docs</a>)<br/>"
      ],
      "text/plain": [
       "<IPython.core.display.HTML object>"
      ]
     },
     "metadata": {},
     "output_type": "display_data"
    },
    {
     "data": {
      "text/html": [
       " View project at <a href='https://wandb.ai/riaxchoi-heinrich-heine-university-d-sseldorf/checking' target=\"_blank\">https://wandb.ai/riaxchoi-heinrich-heine-university-d-sseldorf/checking</a>"
      ],
      "text/plain": [
       "<IPython.core.display.HTML object>"
      ]
     },
     "metadata": {},
     "output_type": "display_data"
    },
    {
     "data": {
      "text/html": [
       " View run at <a href='https://wandb.ai/riaxchoi-heinrich-heine-university-d-sseldorf/checking/runs/du24v0m8' target=\"_blank\">https://wandb.ai/riaxchoi-heinrich-heine-university-d-sseldorf/checking/runs/du24v0m8</a>"
      ],
      "text/plain": [
       "<IPython.core.display.HTML object>"
      ]
     },
     "metadata": {},
     "output_type": "display_data"
    },
    {
     "name": "stdout",
     "output_type": "stream",
     "text": [
      "Initial Accuracy without Training: 58.50%\n"
     ]
    },
    {
     "data": {
      "application/vnd.jupyter.widget-view+json": {
       "model_id": "f06139c3ecc94f26990f52d5a2f28397",
       "version_major": 2,
       "version_minor": 0
      },
      "text/plain": [
       "VBox(children=(Label(value='0.005 MB of 0.005 MB uploaded\\r'), FloatProgress(value=1.0, max=1.0)))"
      ]
     },
     "metadata": {},
     "output_type": "display_data"
    },
    {
     "data": {
      "text/html": [
       "<style>\n",
       "    table.wandb td:nth-child(1) { padding: 0 10px; text-align: left ; width: auto;} td:nth-child(2) {text-align: left ; width: 100%}\n",
       "    .wandb-row { display: flex; flex-direction: row; flex-wrap: wrap; justify-content: flex-start; width: 100% }\n",
       "    .wandb-col { display: flex; flex-direction: column; flex-basis: 100%; flex: 1; padding: 10px; }\n",
       "    </style>\n",
       "<div class=\"wandb-row\"><div class=\"wandb-col\"><h3>Run history:</h3><br/><table class=\"wandb\"><tr><td>ROC-AUC Score</td><td>▁</td></tr><tr><td>accuracy</td><td>▁</td></tr><tr><td>f1_AFib</td><td>▁</td></tr><tr><td>f1_non-AFib</td><td>▁</td></tr><tr><td>initial_accuracy</td><td>▁</td></tr><tr><td>precision_AFib</td><td>▁</td></tr><tr><td>precision_non-AFib</td><td>▁</td></tr><tr><td>recall_AFib</td><td>▁</td></tr><tr><td>recall_non-AFib</td><td>▁</td></tr></table><br/></div><div class=\"wandb-col\"><h3>Run summary:</h3><br/><table class=\"wandb\"><tr><td>ROC-AUC Score</td><td>0.6785</td></tr><tr><td>accuracy</td><td>0.58504</td></tr><tr><td>f1_AFib</td><td>0.37112</td></tr><tr><td>f1_non-AFib</td><td>0.69037</td></tr><tr><td>initial_accuracy</td><td>0.58504</td></tr><tr><td>precision_AFib</td><td>0.25608</td></tr><tr><td>precision_non-AFib</td><td>0.88641</td></tr><tr><td>recall_AFib</td><td>0.67378</td></tr><tr><td>recall_non-AFib</td><td>0.56534</td></tr></table><br/></div></div>"
      ],
      "text/plain": [
       "<IPython.core.display.HTML object>"
      ]
     },
     "metadata": {},
     "output_type": "display_data"
    },
    {
     "data": {
      "text/html": [
       " View run <strong style=\"color:#cdcd00\">('S_CPC', 'ClassifierNN', 256)</strong> at: <a href='https://wandb.ai/riaxchoi-heinrich-heine-university-d-sseldorf/checking/runs/du24v0m8' target=\"_blank\">https://wandb.ai/riaxchoi-heinrich-heine-university-d-sseldorf/checking/runs/du24v0m8</a><br/> View project at: <a href='https://wandb.ai/riaxchoi-heinrich-heine-university-d-sseldorf/checking' target=\"_blank\">https://wandb.ai/riaxchoi-heinrich-heine-university-d-sseldorf/checking</a><br/>Synced 6 W&B file(s), 0 media file(s), 0 artifact file(s) and 0 other file(s)"
      ],
      "text/plain": [
       "<IPython.core.display.HTML object>"
      ]
     },
     "metadata": {},
     "output_type": "display_data"
    },
    {
     "data": {
      "text/html": [
       "Find logs at: <code>./wandb/run-20241212_160344-du24v0m8/logs</code>"
      ],
      "text/plain": [
       "<IPython.core.display.HTML object>"
      ]
     },
     "metadata": {},
     "output_type": "display_data"
    },
    {
     "data": {
      "text/html": [
       "The new W&B backend becomes opt-out in version 0.18.0; try it out with `wandb.require(\"core\")`! See https://wandb.me/wandb-core for more information."
      ],
      "text/plain": [
       "<IPython.core.display.HTML object>"
      ]
     },
     "metadata": {},
     "output_type": "display_data"
    },
    {
     "name": "stdout",
     "output_type": "stream",
     "text": [
      "Running with model: S_CPC, classification:ClassifierNN, batch size: 1024\n"
     ]
    },
    {
     "data": {
      "application/vnd.jupyter.widget-view+json": {
       "model_id": "1136c9719f8d4bee93b4340e70555f7a",
       "version_major": 2,
       "version_minor": 0
      },
      "text/plain": [
       "VBox(children=(Label(value='Waiting for wandb.init()...\\r'), FloatProgress(value=0.011113257579401964, max=1.0…"
      ]
     },
     "metadata": {},
     "output_type": "display_data"
    },
    {
     "data": {
      "text/html": [
       "wandb version 0.19.0 is available!  To upgrade, please run:\n",
       " $ pip install wandb --upgrade"
      ],
      "text/plain": [
       "<IPython.core.display.HTML object>"
      ]
     },
     "metadata": {},
     "output_type": "display_data"
    },
    {
     "data": {
      "text/html": [
       "Tracking run with wandb version 0.17.6"
      ],
      "text/plain": [
       "<IPython.core.display.HTML object>"
      ]
     },
     "metadata": {},
     "output_type": "display_data"
    },
    {
     "data": {
      "text/html": [
       "Run data is saved locally in <code>/home/ria/MMBSintern/bachelor/exercise/wandb/run-20241212_160354-9sdagwu7</code>"
      ],
      "text/plain": [
       "<IPython.core.display.HTML object>"
      ]
     },
     "metadata": {},
     "output_type": "display_data"
    },
    {
     "data": {
      "text/html": [
       "Syncing run <strong><a href='https://wandb.ai/riaxchoi-heinrich-heine-university-d-sseldorf/checking/runs/9sdagwu7' target=\"_blank\">('S_CPC', 'ClassifierNN', 1024)</a></strong> to <a href='https://wandb.ai/riaxchoi-heinrich-heine-university-d-sseldorf/checking' target=\"_blank\">Weights & Biases</a> (<a href='https://wandb.me/run' target=\"_blank\">docs</a>)<br/>"
      ],
      "text/plain": [
       "<IPython.core.display.HTML object>"
      ]
     },
     "metadata": {},
     "output_type": "display_data"
    },
    {
     "data": {
      "text/html": [
       " View project at <a href='https://wandb.ai/riaxchoi-heinrich-heine-university-d-sseldorf/checking' target=\"_blank\">https://wandb.ai/riaxchoi-heinrich-heine-university-d-sseldorf/checking</a>"
      ],
      "text/plain": [
       "<IPython.core.display.HTML object>"
      ]
     },
     "metadata": {},
     "output_type": "display_data"
    },
    {
     "data": {
      "text/html": [
       " View run at <a href='https://wandb.ai/riaxchoi-heinrich-heine-university-d-sseldorf/checking/runs/9sdagwu7' target=\"_blank\">https://wandb.ai/riaxchoi-heinrich-heine-university-d-sseldorf/checking/runs/9sdagwu7</a>"
      ],
      "text/plain": [
       "<IPython.core.display.HTML object>"
      ]
     },
     "metadata": {},
     "output_type": "display_data"
    },
    {
     "name": "stdout",
     "output_type": "stream",
     "text": [
      "Initial Accuracy without Training: 68.70%\n"
     ]
    },
    {
     "data": {
      "application/vnd.jupyter.widget-view+json": {
       "model_id": "51c50174f8dd4e59b47b55f0ea429f4e",
       "version_major": 2,
       "version_minor": 0
      },
      "text/plain": [
       "VBox(children=(Label(value='0.005 MB of 0.005 MB uploaded\\r'), FloatProgress(value=1.0, max=1.0)))"
      ]
     },
     "metadata": {},
     "output_type": "display_data"
    },
    {
     "data": {
      "text/html": [
       "<style>\n",
       "    table.wandb td:nth-child(1) { padding: 0 10px; text-align: left ; width: auto;} td:nth-child(2) {text-align: left ; width: 100%}\n",
       "    .wandb-row { display: flex; flex-direction: row; flex-wrap: wrap; justify-content: flex-start; width: 100% }\n",
       "    .wandb-col { display: flex; flex-direction: column; flex-basis: 100%; flex: 1; padding: 10px; }\n",
       "    </style>\n",
       "<div class=\"wandb-row\"><div class=\"wandb-col\"><h3>Run history:</h3><br/><table class=\"wandb\"><tr><td>ROC-AUC Score</td><td>▁</td></tr><tr><td>accuracy</td><td>▁</td></tr><tr><td>f1_AFib</td><td>▁</td></tr><tr><td>f1_non-AFib</td><td>▁</td></tr><tr><td>initial_accuracy</td><td>▁</td></tr><tr><td>precision_AFib</td><td>▁</td></tr><tr><td>precision_non-AFib</td><td>▁</td></tr><tr><td>recall_AFib</td><td>▁</td></tr><tr><td>recall_non-AFib</td><td>▁</td></tr></table><br/></div><div class=\"wandb-col\"><h3>Run summary:</h3><br/><table class=\"wandb\"><tr><td>ROC-AUC Score</td><td>0.75449</td></tr><tr><td>accuracy</td><td>0.68698</td></tr><tr><td>f1_AFib</td><td>0.44985</td></tr><tr><td>f1_non-AFib</td><td>0.78126</td></tr><tr><td>initial_accuracy</td><td>0.68698</td></tr><tr><td>precision_AFib</td><td>0.33047</td></tr><tr><td>precision_non-AFib</td><td>0.9123</td></tr><tr><td>recall_AFib</td><td>0.70427</td></tr><tr><td>recall_non-AFib</td><td>0.68314</td></tr></table><br/></div></div>"
      ],
      "text/plain": [
       "<IPython.core.display.HTML object>"
      ]
     },
     "metadata": {},
     "output_type": "display_data"
    },
    {
     "data": {
      "text/html": [
       " View run <strong style=\"color:#cdcd00\">('S_CPC', 'ClassifierNN', 1024)</strong> at: <a href='https://wandb.ai/riaxchoi-heinrich-heine-university-d-sseldorf/checking/runs/9sdagwu7' target=\"_blank\">https://wandb.ai/riaxchoi-heinrich-heine-university-d-sseldorf/checking/runs/9sdagwu7</a><br/> View project at: <a href='https://wandb.ai/riaxchoi-heinrich-heine-university-d-sseldorf/checking' target=\"_blank\">https://wandb.ai/riaxchoi-heinrich-heine-university-d-sseldorf/checking</a><br/>Synced 6 W&B file(s), 0 media file(s), 0 artifact file(s) and 0 other file(s)"
      ],
      "text/plain": [
       "<IPython.core.display.HTML object>"
      ]
     },
     "metadata": {},
     "output_type": "display_data"
    },
    {
     "data": {
      "text/html": [
       "Find logs at: <code>./wandb/run-20241212_160354-9sdagwu7/logs</code>"
      ],
      "text/plain": [
       "<IPython.core.display.HTML object>"
      ]
     },
     "metadata": {},
     "output_type": "display_data"
    },
    {
     "data": {
      "text/html": [
       "The new W&B backend becomes opt-out in version 0.18.0; try it out with `wandb.require(\"core\")`! See https://wandb.me/wandb-core for more information."
      ],
      "text/plain": [
       "<IPython.core.display.HTML object>"
      ]
     },
     "metadata": {},
     "output_type": "display_data"
    },
    {
     "name": "stdout",
     "output_type": "stream",
     "text": [
      "Running with model: S_CPC, classification:LogisticRegression, batch size: 256\n"
     ]
    },
    {
     "data": {
      "application/vnd.jupyter.widget-view+json": {
       "model_id": "01354c5b8b42437a9295a66aea4af364",
       "version_major": 2,
       "version_minor": 0
      },
      "text/plain": [
       "VBox(children=(Label(value='Waiting for wandb.init()...\\r'), FloatProgress(value=0.011113388867427906, max=1.0…"
      ]
     },
     "metadata": {},
     "output_type": "display_data"
    },
    {
     "data": {
      "text/html": [
       "wandb version 0.19.0 is available!  To upgrade, please run:\n",
       " $ pip install wandb --upgrade"
      ],
      "text/plain": [
       "<IPython.core.display.HTML object>"
      ]
     },
     "metadata": {},
     "output_type": "display_data"
    },
    {
     "data": {
      "text/html": [
       "Tracking run with wandb version 0.17.6"
      ],
      "text/plain": [
       "<IPython.core.display.HTML object>"
      ]
     },
     "metadata": {},
     "output_type": "display_data"
    },
    {
     "data": {
      "text/html": [
       "Run data is saved locally in <code>/home/ria/MMBSintern/bachelor/exercise/wandb/run-20241212_160403-k6d6p0ja</code>"
      ],
      "text/plain": [
       "<IPython.core.display.HTML object>"
      ]
     },
     "metadata": {},
     "output_type": "display_data"
    },
    {
     "data": {
      "text/html": [
       "Syncing run <strong><a href='https://wandb.ai/riaxchoi-heinrich-heine-university-d-sseldorf/checking/runs/k6d6p0ja' target=\"_blank\">('S_CPC', 'LogisticRegression', 256)</a></strong> to <a href='https://wandb.ai/riaxchoi-heinrich-heine-university-d-sseldorf/checking' target=\"_blank\">Weights & Biases</a> (<a href='https://wandb.me/run' target=\"_blank\">docs</a>)<br/>"
      ],
      "text/plain": [
       "<IPython.core.display.HTML object>"
      ]
     },
     "metadata": {},
     "output_type": "display_data"
    },
    {
     "data": {
      "text/html": [
       " View project at <a href='https://wandb.ai/riaxchoi-heinrich-heine-university-d-sseldorf/checking' target=\"_blank\">https://wandb.ai/riaxchoi-heinrich-heine-university-d-sseldorf/checking</a>"
      ],
      "text/plain": [
       "<IPython.core.display.HTML object>"
      ]
     },
     "metadata": {},
     "output_type": "display_data"
    },
    {
     "data": {
      "text/html": [
       " View run at <a href='https://wandb.ai/riaxchoi-heinrich-heine-university-d-sseldorf/checking/runs/k6d6p0ja' target=\"_blank\">https://wandb.ai/riaxchoi-heinrich-heine-university-d-sseldorf/checking/runs/k6d6p0ja</a>"
      ],
      "text/plain": [
       "<IPython.core.display.HTML object>"
      ]
     },
     "metadata": {},
     "output_type": "display_data"
    },
    {
     "name": "stdout",
     "output_type": "stream",
     "text": [
      "Initial Accuracy without Training: 65.21%\n"
     ]
    },
    {
     "data": {
      "application/vnd.jupyter.widget-view+json": {
       "model_id": "35250f1a061c4ec1bc6f01dff0d68ba7",
       "version_major": 2,
       "version_minor": 0
      },
      "text/plain": [
       "VBox(children=(Label(value='0.005 MB of 0.005 MB uploaded\\r'), FloatProgress(value=1.0, max=1.0)))"
      ]
     },
     "metadata": {},
     "output_type": "display_data"
    },
    {
     "data": {
      "text/html": [
       "<style>\n",
       "    table.wandb td:nth-child(1) { padding: 0 10px; text-align: left ; width: auto;} td:nth-child(2) {text-align: left ; width: 100%}\n",
       "    .wandb-row { display: flex; flex-direction: row; flex-wrap: wrap; justify-content: flex-start; width: 100% }\n",
       "    .wandb-col { display: flex; flex-direction: column; flex-basis: 100%; flex: 1; padding: 10px; }\n",
       "    </style>\n",
       "<div class=\"wandb-row\"><div class=\"wandb-col\"><h3>Run history:</h3><br/><table class=\"wandb\"><tr><td>ROC-AUC Score</td><td>▁</td></tr><tr><td>accuracy</td><td>▁</td></tr><tr><td>f1_AFib</td><td>▁</td></tr><tr><td>f1_non-AFib</td><td>▁</td></tr><tr><td>initial_accuracy</td><td>▁</td></tr><tr><td>precision_AFib</td><td>▁</td></tr><tr><td>precision_non-AFib</td><td>▁</td></tr><tr><td>recall_AFib</td><td>▁</td></tr><tr><td>recall_non-AFib</td><td>▁</td></tr></table><br/></div><div class=\"wandb-col\"><h3>Run summary:</h3><br/><table class=\"wandb\"><tr><td>ROC-AUC Score</td><td>0.70538</td></tr><tr><td>accuracy</td><td>0.65208</td></tr><tr><td>f1_AFib</td><td>0.41199</td></tr><tr><td>f1_non-AFib</td><td>0.75295</td></tr><tr><td>initial_accuracy</td><td>0.65208</td></tr><tr><td>precision_AFib</td><td>0.2973</td></tr><tr><td>precision_non-AFib</td><td>0.89859</td></tr><tr><td>recall_AFib</td><td>0.67073</td></tr><tr><td>recall_non-AFib</td><td>0.64794</td></tr></table><br/></div></div>"
      ],
      "text/plain": [
       "<IPython.core.display.HTML object>"
      ]
     },
     "metadata": {},
     "output_type": "display_data"
    },
    {
     "data": {
      "text/html": [
       " View run <strong style=\"color:#cdcd00\">('S_CPC', 'LogisticRegression', 256)</strong> at: <a href='https://wandb.ai/riaxchoi-heinrich-heine-university-d-sseldorf/checking/runs/k6d6p0ja' target=\"_blank\">https://wandb.ai/riaxchoi-heinrich-heine-university-d-sseldorf/checking/runs/k6d6p0ja</a><br/> View project at: <a href='https://wandb.ai/riaxchoi-heinrich-heine-university-d-sseldorf/checking' target=\"_blank\">https://wandb.ai/riaxchoi-heinrich-heine-university-d-sseldorf/checking</a><br/>Synced 6 W&B file(s), 0 media file(s), 0 artifact file(s) and 0 other file(s)"
      ],
      "text/plain": [
       "<IPython.core.display.HTML object>"
      ]
     },
     "metadata": {},
     "output_type": "display_data"
    },
    {
     "data": {
      "text/html": [
       "Find logs at: <code>./wandb/run-20241212_160403-k6d6p0ja/logs</code>"
      ],
      "text/plain": [
       "<IPython.core.display.HTML object>"
      ]
     },
     "metadata": {},
     "output_type": "display_data"
    },
    {
     "data": {
      "text/html": [
       "The new W&B backend becomes opt-out in version 0.18.0; try it out with `wandb.require(\"core\")`! See https://wandb.me/wandb-core for more information."
      ],
      "text/plain": [
       "<IPython.core.display.HTML object>"
      ]
     },
     "metadata": {},
     "output_type": "display_data"
    },
    {
     "name": "stdout",
     "output_type": "stream",
     "text": [
      "Running with model: S_CPC, classification:LogisticRegression, batch size: 1024\n"
     ]
    },
    {
     "data": {
      "application/vnd.jupyter.widget-view+json": {
       "model_id": "33055fa6596f4327a52c8aaf9ad07790",
       "version_major": 2,
       "version_minor": 0
      },
      "text/plain": [
       "VBox(children=(Label(value='Waiting for wandb.init()...\\r'), FloatProgress(value=0.01111307527559499, max=1.0)…"
      ]
     },
     "metadata": {},
     "output_type": "display_data"
    },
    {
     "data": {
      "text/html": [
       "wandb version 0.19.0 is available!  To upgrade, please run:\n",
       " $ pip install wandb --upgrade"
      ],
      "text/plain": [
       "<IPython.core.display.HTML object>"
      ]
     },
     "metadata": {},
     "output_type": "display_data"
    },
    {
     "data": {
      "text/html": [
       "Tracking run with wandb version 0.17.6"
      ],
      "text/plain": [
       "<IPython.core.display.HTML object>"
      ]
     },
     "metadata": {},
     "output_type": "display_data"
    },
    {
     "data": {
      "text/html": [
       "Run data is saved locally in <code>/home/ria/MMBSintern/bachelor/exercise/wandb/run-20241212_160412-ae6ehlf4</code>"
      ],
      "text/plain": [
       "<IPython.core.display.HTML object>"
      ]
     },
     "metadata": {},
     "output_type": "display_data"
    },
    {
     "data": {
      "text/html": [
       "Syncing run <strong><a href='https://wandb.ai/riaxchoi-heinrich-heine-university-d-sseldorf/checking/runs/ae6ehlf4' target=\"_blank\">('S_CPC', 'LogisticRegression', 1024)</a></strong> to <a href='https://wandb.ai/riaxchoi-heinrich-heine-university-d-sseldorf/checking' target=\"_blank\">Weights & Biases</a> (<a href='https://wandb.me/run' target=\"_blank\">docs</a>)<br/>"
      ],
      "text/plain": [
       "<IPython.core.display.HTML object>"
      ]
     },
     "metadata": {},
     "output_type": "display_data"
    },
    {
     "data": {
      "text/html": [
       " View project at <a href='https://wandb.ai/riaxchoi-heinrich-heine-university-d-sseldorf/checking' target=\"_blank\">https://wandb.ai/riaxchoi-heinrich-heine-university-d-sseldorf/checking</a>"
      ],
      "text/plain": [
       "<IPython.core.display.HTML object>"
      ]
     },
     "metadata": {},
     "output_type": "display_data"
    },
    {
     "data": {
      "text/html": [
       " View run at <a href='https://wandb.ai/riaxchoi-heinrich-heine-university-d-sseldorf/checking/runs/ae6ehlf4' target=\"_blank\">https://wandb.ai/riaxchoi-heinrich-heine-university-d-sseldorf/checking/runs/ae6ehlf4</a>"
      ],
      "text/plain": [
       "<IPython.core.display.HTML object>"
      ]
     },
     "metadata": {},
     "output_type": "display_data"
    },
    {
     "name": "stderr",
     "output_type": "stream",
     "text": [
      "/home/ria/miniconda3/envs/AILS/lib/python3.10/site-packages/sklearn/linear_model/_logistic.py:469: ConvergenceWarning: lbfgs failed to converge (status=1):\n",
      "STOP: TOTAL NO. of ITERATIONS REACHED LIMIT.\n",
      "\n",
      "Increase the number of iterations (max_iter) or scale the data as shown in:\n",
      "    https://scikit-learn.org/stable/modules/preprocessing.html\n",
      "Please also refer to the documentation for alternative solver options:\n",
      "    https://scikit-learn.org/stable/modules/linear_model.html#logistic-regression\n",
      "  n_iter_i = _check_optimize_result(\n"
     ]
    },
    {
     "name": "stdout",
     "output_type": "stream",
     "text": [
      "Initial Accuracy without Training: 58.78%\n"
     ]
    },
    {
     "data": {
      "application/vnd.jupyter.widget-view+json": {
       "model_id": "861ccc858cf44b9c9883cca4e174ac22",
       "version_major": 2,
       "version_minor": 0
      },
      "text/plain": [
       "VBox(children=(Label(value='0.005 MB of 0.005 MB uploaded\\r'), FloatProgress(value=1.0, max=1.0)))"
      ]
     },
     "metadata": {},
     "output_type": "display_data"
    },
    {
     "data": {
      "text/html": [
       "<style>\n",
       "    table.wandb td:nth-child(1) { padding: 0 10px; text-align: left ; width: auto;} td:nth-child(2) {text-align: left ; width: 100%}\n",
       "    .wandb-row { display: flex; flex-direction: row; flex-wrap: wrap; justify-content: flex-start; width: 100% }\n",
       "    .wandb-col { display: flex; flex-direction: column; flex-basis: 100%; flex: 1; padding: 10px; }\n",
       "    </style>\n",
       "<div class=\"wandb-row\"><div class=\"wandb-col\"><h3>Run history:</h3><br/><table class=\"wandb\"><tr><td>ROC-AUC Score</td><td>▁</td></tr><tr><td>accuracy</td><td>▁</td></tr><tr><td>f1_AFib</td><td>▁</td></tr><tr><td>f1_non-AFib</td><td>▁</td></tr><tr><td>initial_accuracy</td><td>▁</td></tr><tr><td>precision_AFib</td><td>▁</td></tr><tr><td>precision_non-AFib</td><td>▁</td></tr><tr><td>recall_AFib</td><td>▁</td></tr><tr><td>recall_non-AFib</td><td>▁</td></tr></table><br/></div><div class=\"wandb-col\"><h3>Run summary:</h3><br/><table class=\"wandb\"><tr><td>ROC-AUC Score</td><td>0.67593</td></tr><tr><td>accuracy</td><td>0.58781</td></tr><tr><td>f1_AFib</td><td>0.38103</td></tr><tr><td>f1_non-AFib</td><td>0.69103</td></tr><tr><td>initial_accuracy</td><td>0.58781</td></tr><tr><td>precision_AFib</td><td>0.26201</td></tr><tr><td>precision_non-AFib</td><td>0.89366</td></tr><tr><td>recall_AFib</td><td>0.69817</td></tr><tr><td>recall_non-AFib</td><td>0.5633</td></tr></table><br/></div></div>"
      ],
      "text/plain": [
       "<IPython.core.display.HTML object>"
      ]
     },
     "metadata": {},
     "output_type": "display_data"
    },
    {
     "data": {
      "text/html": [
       " View run <strong style=\"color:#cdcd00\">('S_CPC', 'LogisticRegression', 1024)</strong> at: <a href='https://wandb.ai/riaxchoi-heinrich-heine-university-d-sseldorf/checking/runs/ae6ehlf4' target=\"_blank\">https://wandb.ai/riaxchoi-heinrich-heine-university-d-sseldorf/checking/runs/ae6ehlf4</a><br/> View project at: <a href='https://wandb.ai/riaxchoi-heinrich-heine-university-d-sseldorf/checking' target=\"_blank\">https://wandb.ai/riaxchoi-heinrich-heine-university-d-sseldorf/checking</a><br/>Synced 6 W&B file(s), 0 media file(s), 0 artifact file(s) and 0 other file(s)"
      ],
      "text/plain": [
       "<IPython.core.display.HTML object>"
      ]
     },
     "metadata": {},
     "output_type": "display_data"
    },
    {
     "data": {
      "text/html": [
       "Find logs at: <code>./wandb/run-20241212_160412-ae6ehlf4/logs</code>"
      ],
      "text/plain": [
       "<IPython.core.display.HTML object>"
      ]
     },
     "metadata": {},
     "output_type": "display_data"
    },
    {
     "data": {
      "text/html": [
       "The new W&B backend becomes opt-out in version 0.18.0; try it out with `wandb.require(\"core\")`! See https://wandb.me/wandb-core for more information."
      ],
      "text/plain": [
       "<IPython.core.display.HTML object>"
      ]
     },
     "metadata": {},
     "output_type": "display_data"
    }
   ],
   "source": [
    "modelname=['T_CPC', 'TS_CPC', 'S_CPC']\n",
    "type=['ClassifierNN', 'LogisticRegression']\n",
    "#\n",
    "\n",
    "device = torch.device(\"cuda\" if torch.cuda.is_available() else \"cpu\")\n",
    "\n",
    "batch_size = [256,1024]  # check that it does not influence \n",
    "\n",
    "path = '/home/ria/MMBSintern/bachelor/exercise/data' \n",
    "\n",
    "train_data = Wearable(path, True)\n",
    "test_data = Wearable(path, False)\n",
    "\n",
    "\n",
    "train_loader = DataLoader(train_data, batch_size=64, shuffle=False, num_workers=0)\n",
    "test_loader = DataLoader(test_data, batch_size=len(test_data), shuffle=False, num_workers=0) \n",
    "\n",
    "\n",
    "\n",
    "# Generate all combinations of modelname and batchsize\n",
    "combinations = list(itertools.product(modelname, type, batch_size))\n",
    "\n",
    "# Run each combination with each value of num_epochs\n",
    "\n",
    "for modelname, type, bs in combinations:\n",
    "        \n",
    "    print(f\"Running with model: {modelname}, classification:{type}, batch size: {bs}\")\n",
    "        \n",
    "    if modelname == 'T_CPC':\n",
    "        model = T_CPC(timestep=3, batch_size=bs, seq_len=200).to(device)\n",
    "\n",
    "    elif modelname == 'TS_CPC':\n",
    "        model = TS_CPC(timestep=3, batch_size=bs, seq_len=200).to(device)\n",
    "    \n",
    "    elif modelname == 'S_CPC':\n",
    "        model = S_CPC(timestep=3, batch_size=bs, seq_len=200).to(device)\n",
    "\n",
    "    else:\n",
    "        raise ValueError(f\"Unknown model name: {modelname}\")\n",
    "\n",
    "        \n",
    "    config = dict( model = modelname,\n",
    "                    classification = type,\n",
    "                    batch_size = bs\n",
    "                    )\n",
    "                \n",
    "            \n",
    "    wandb.init(project=\"checking\", \n",
    "                name=f\"{modelname,type,bs}\",\n",
    "                config=config,\n",
    "                reinit=True)\n",
    "\n",
    "\n",
    "    stats = no_train(model, config['classification'], train_loader, test_loader, device)\n",
    "            \n",
    "    wandb.finish() \n",
    "            "
   ]
  }
 ],
 "metadata": {
  "kernelspec": {
   "display_name": "AILS",
   "language": "python",
   "name": "python3"
  },
  "language_info": {
   "codemirror_mode": {
    "name": "ipython",
    "version": 3
   },
   "file_extension": ".py",
   "mimetype": "text/x-python",
   "name": "python",
   "nbconvert_exporter": "python",
   "pygments_lexer": "ipython3",
   "version": "3.10.0"
  }
 },
 "nbformat": 4,
 "nbformat_minor": 2
}

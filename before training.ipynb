{
 "cells": [
  {
   "cell_type": "markdown",
   "metadata": {},
   "source": [
    "avoid any additional training and directly print results \n",
    "- determine whether the models (CPC or TS) are already capable of generating meaningful representations after the initial unsupervised/self-supervised training."
   ]
  },
  {
   "cell_type": "code",
   "execution_count": 1,
   "metadata": {},
   "outputs": [],
   "source": [
    "import wandb\n",
    "from linearclassifier_all import train_extract, test_extract, linearclassifier, Wearable\n",
    "import itertools\n",
    "import torch\n",
    "from torch.utils.data import DataLoader\n",
    "\n",
    "\n",
    "from CPC import CPC\n",
    "from TS import TS"
   ]
  },
  {
   "cell_type": "code",
   "execution_count": 2,
   "metadata": {},
   "outputs": [],
   "source": [
    "def no_train(model, type, train_loader, test_loader, device):\n",
    "# def train(num_epochs, model, type, optimizer, train_loader, test_loader, device, test_every=1):\n",
    "\n",
    "    # Directly extract representations without training\n",
    "    train_c_t, train_label, train_loss = train_extract(model, train_loader, device, optimizer=None)  # Pass None for optimizer\n",
    "    test_c_t, test_label, test_loss = test_extract(model, test_loader, device)\n",
    "\n",
    "    # Evaluate linear classifier without updates\n",
    "    accuracy = linearclassifier(type, train_c_t, train_label, test_c_t, test_label, log_graph=False)    # AUC-ROC, precision, F1 score, etc are saved in wandb already by the linearclassifier function\n",
    "    print(f\"Initial Accuracy without Training: {accuracy * 100:.2f}%\")\n",
    "\n",
    "    # Log metrics directly\n",
    "    wandb.log({\"initial_accuracy\": accuracy})\n"
   ]
  },
  {
   "cell_type": "code",
   "execution_count": 3,
   "metadata": {},
   "outputs": [
    {
     "name": "stdout",
     "output_type": "stream",
     "text": [
      "Running with model: CPC, classification:ClassifierNN, batch size: 256\n"
     ]
    },
    {
     "name": "stderr",
     "output_type": "stream",
     "text": [
      "Failed to detect the name of this notebook, you can set it manually with the WANDB_NOTEBOOK_NAME environment variable to enable code saving.\n",
      "\u001b[34m\u001b[1mwandb\u001b[0m: Currently logged in as: \u001b[33mriaxchoi\u001b[0m (\u001b[33mriaxchoi-heinrich-heine-university-d-sseldorf\u001b[0m). Use \u001b[1m`wandb login --relogin`\u001b[0m to force relogin\n"
     ]
    },
    {
     "data": {
      "text/html": [
       "wandb version 0.18.7 is available!  To upgrade, please run:\n",
       " $ pip install wandb --upgrade"
      ],
      "text/plain": [
       "<IPython.core.display.HTML object>"
      ]
     },
     "metadata": {},
     "output_type": "display_data"
    },
    {
     "data": {
      "text/html": [
       "Tracking run with wandb version 0.17.6"
      ],
      "text/plain": [
       "<IPython.core.display.HTML object>"
      ]
     },
     "metadata": {},
     "output_type": "display_data"
    },
    {
     "data": {
      "text/html": [
       "Run data is saved locally in <code>/home/ria/MMBSintern/bachelor/exercise/wandb/run-20241129_181402-m0jkgaaz</code>"
      ],
      "text/plain": [
       "<IPython.core.display.HTML object>"
      ]
     },
     "metadata": {},
     "output_type": "display_data"
    },
    {
     "data": {
      "text/html": [
       "Syncing run <strong><a href='https://wandb.ai/riaxchoi-heinrich-heine-university-d-sseldorf/LinearClassification%20no%20model-train%2C%202%20types%2C%20w%20dropout/runs/m0jkgaaz' target=\"_blank\">('CPC', 'ClassifierNN', 256)</a></strong> to <a href='https://wandb.ai/riaxchoi-heinrich-heine-university-d-sseldorf/LinearClassification%20no%20model-train%2C%202%20types%2C%20w%20dropout' target=\"_blank\">Weights & Biases</a> (<a href='https://wandb.me/run' target=\"_blank\">docs</a>)<br/>"
      ],
      "text/plain": [
       "<IPython.core.display.HTML object>"
      ]
     },
     "metadata": {},
     "output_type": "display_data"
    },
    {
     "data": {
      "text/html": [
       " View project at <a href='https://wandb.ai/riaxchoi-heinrich-heine-university-d-sseldorf/LinearClassification%20no%20model-train%2C%202%20types%2C%20w%20dropout' target=\"_blank\">https://wandb.ai/riaxchoi-heinrich-heine-university-d-sseldorf/LinearClassification%20no%20model-train%2C%202%20types%2C%20w%20dropout</a>"
      ],
      "text/plain": [
       "<IPython.core.display.HTML object>"
      ]
     },
     "metadata": {},
     "output_type": "display_data"
    },
    {
     "data": {
      "text/html": [
       " View run at <a href='https://wandb.ai/riaxchoi-heinrich-heine-university-d-sseldorf/LinearClassification%20no%20model-train%2C%202%20types%2C%20w%20dropout/runs/m0jkgaaz' target=\"_blank\">https://wandb.ai/riaxchoi-heinrich-heine-university-d-sseldorf/LinearClassification%20no%20model-train%2C%202%20types%2C%20w%20dropout/runs/m0jkgaaz</a>"
      ],
      "text/plain": [
       "<IPython.core.display.HTML object>"
      ]
     },
     "metadata": {},
     "output_type": "display_data"
    },
    {
     "name": "stderr",
     "output_type": "stream",
     "text": [
      "/home/ria/miniconda3/envs/AILS/lib/python3.10/site-packages/torch/nn/modules/conv.py:306: UserWarning: Attempt to open cnn_infer failed: handle=0 error: libcudnn_cnn_infer.so.8: cannot open shared object file: No such file or directory (Triggered internally at ../aten/src/ATen/native/cudnn/Conv_v8.cpp:81.)\n",
      "  return F.conv1d(input, weight, bias, self.stride,\n"
     ]
    },
    {
     "name": "stdout",
     "output_type": "stream",
     "text": [
      "Initial Accuracy without Training: 58.45%\n"
     ]
    },
    {
     "data": {
      "application/vnd.jupyter.widget-view+json": {
       "model_id": "afcb88817c284bfab7dea2b9c276b3b8",
       "version_major": 2,
       "version_minor": 0
      },
      "text/plain": [
       "VBox(children=(Label(value='0.005 MB of 0.005 MB uploaded\\r'), FloatProgress(value=1.0, max=1.0)))"
      ]
     },
     "metadata": {},
     "output_type": "display_data"
    },
    {
     "data": {
      "text/html": [
       "<style>\n",
       "    table.wandb td:nth-child(1) { padding: 0 10px; text-align: left ; width: auto;} td:nth-child(2) {text-align: left ; width: 100%}\n",
       "    .wandb-row { display: flex; flex-direction: row; flex-wrap: wrap; justify-content: flex-start; width: 100% }\n",
       "    .wandb-col { display: flex; flex-direction: column; flex-basis: 100%; flex: 1; padding: 10px; }\n",
       "    </style>\n",
       "<div class=\"wandb-row\"><div class=\"wandb-col\"><h3>Run history:</h3><br/><table class=\"wandb\"><tr><td>ROC-AUC Score</td><td>▁</td></tr><tr><td>accuracy</td><td>▁</td></tr><tr><td>f1_AFib</td><td>▁</td></tr><tr><td>f1_non-AFib</td><td>▁</td></tr><tr><td>initial_accuracy</td><td>▁</td></tr><tr><td>precision_AFib</td><td>▁</td></tr><tr><td>precision_non-AFib</td><td>▁</td></tr><tr><td>recall_AFib</td><td>▁</td></tr><tr><td>recall_non-AFib</td><td>▁</td></tr></table><br/></div><div class=\"wandb-col\"><h3>Run summary:</h3><br/><table class=\"wandb\"><tr><td>ROC-AUC Score</td><td>0.69079</td></tr><tr><td>accuracy</td><td>0.58449</td></tr><tr><td>f1_AFib</td><td>0.37291</td></tr><tr><td>f1_non-AFib</td><td>0.68931</td></tr><tr><td>initial_accuracy</td><td>0.58449</td></tr><tr><td>precision_AFib</td><td>0.25691</td></tr><tr><td>precision_non-AFib</td><td>0.88794</td></tr><tr><td>recall_AFib</td><td>0.67988</td></tr><tr><td>recall_non-AFib</td><td>0.5633</td></tr></table><br/></div></div>"
      ],
      "text/plain": [
       "<IPython.core.display.HTML object>"
      ]
     },
     "metadata": {},
     "output_type": "display_data"
    },
    {
     "data": {
      "text/html": [
       " View run <strong style=\"color:#cdcd00\">('CPC', 'ClassifierNN', 256)</strong> at: <a href='https://wandb.ai/riaxchoi-heinrich-heine-university-d-sseldorf/LinearClassification%20no%20model-train%2C%202%20types%2C%20w%20dropout/runs/m0jkgaaz' target=\"_blank\">https://wandb.ai/riaxchoi-heinrich-heine-university-d-sseldorf/LinearClassification%20no%20model-train%2C%202%20types%2C%20w%20dropout/runs/m0jkgaaz</a><br/> View project at: <a href='https://wandb.ai/riaxchoi-heinrich-heine-university-d-sseldorf/LinearClassification%20no%20model-train%2C%202%20types%2C%20w%20dropout' target=\"_blank\">https://wandb.ai/riaxchoi-heinrich-heine-university-d-sseldorf/LinearClassification%20no%20model-train%2C%202%20types%2C%20w%20dropout</a><br/>Synced 6 W&B file(s), 0 media file(s), 0 artifact file(s) and 0 other file(s)"
      ],
      "text/plain": [
       "<IPython.core.display.HTML object>"
      ]
     },
     "metadata": {},
     "output_type": "display_data"
    },
    {
     "data": {
      "text/html": [
       "Find logs at: <code>./wandb/run-20241129_181402-m0jkgaaz/logs</code>"
      ],
      "text/plain": [
       "<IPython.core.display.HTML object>"
      ]
     },
     "metadata": {},
     "output_type": "display_data"
    },
    {
     "data": {
      "text/html": [
       "The new W&B backend becomes opt-out in version 0.18.0; try it out with `wandb.require(\"core\")`! See https://wandb.me/wandb-core for more information."
      ],
      "text/plain": [
       "<IPython.core.display.HTML object>"
      ]
     },
     "metadata": {},
     "output_type": "display_data"
    },
    {
     "name": "stdout",
     "output_type": "stream",
     "text": [
      "Running with model: CPC, classification:ClassifierNN, batch size: 512\n"
     ]
    },
    {
     "data": {
      "application/vnd.jupyter.widget-view+json": {
       "model_id": "ed07c63f5abc40098b80bc426df527c9",
       "version_major": 2,
       "version_minor": 0
      },
      "text/plain": [
       "VBox(children=(Label(value='Waiting for wandb.init()...\\r'), FloatProgress(value=0.011113280765453561, max=1.0…"
      ]
     },
     "metadata": {},
     "output_type": "display_data"
    },
    {
     "data": {
      "text/html": [
       "wandb version 0.18.7 is available!  To upgrade, please run:\n",
       " $ pip install wandb --upgrade"
      ],
      "text/plain": [
       "<IPython.core.display.HTML object>"
      ]
     },
     "metadata": {},
     "output_type": "display_data"
    },
    {
     "data": {
      "text/html": [
       "Tracking run with wandb version 0.17.6"
      ],
      "text/plain": [
       "<IPython.core.display.HTML object>"
      ]
     },
     "metadata": {},
     "output_type": "display_data"
    },
    {
     "data": {
      "text/html": [
       "Run data is saved locally in <code>/home/ria/MMBSintern/bachelor/exercise/wandb/run-20241129_181415-fbt7w7z6</code>"
      ],
      "text/plain": [
       "<IPython.core.display.HTML object>"
      ]
     },
     "metadata": {},
     "output_type": "display_data"
    },
    {
     "data": {
      "text/html": [
       "Syncing run <strong><a href='https://wandb.ai/riaxchoi-heinrich-heine-university-d-sseldorf/LinearClassification%20no%20model-train%2C%202%20types%2C%20w%20dropout/runs/fbt7w7z6' target=\"_blank\">('CPC', 'ClassifierNN', 512)</a></strong> to <a href='https://wandb.ai/riaxchoi-heinrich-heine-university-d-sseldorf/LinearClassification%20no%20model-train%2C%202%20types%2C%20w%20dropout' target=\"_blank\">Weights & Biases</a> (<a href='https://wandb.me/run' target=\"_blank\">docs</a>)<br/>"
      ],
      "text/plain": [
       "<IPython.core.display.HTML object>"
      ]
     },
     "metadata": {},
     "output_type": "display_data"
    },
    {
     "data": {
      "text/html": [
       " View project at <a href='https://wandb.ai/riaxchoi-heinrich-heine-university-d-sseldorf/LinearClassification%20no%20model-train%2C%202%20types%2C%20w%20dropout' target=\"_blank\">https://wandb.ai/riaxchoi-heinrich-heine-university-d-sseldorf/LinearClassification%20no%20model-train%2C%202%20types%2C%20w%20dropout</a>"
      ],
      "text/plain": [
       "<IPython.core.display.HTML object>"
      ]
     },
     "metadata": {},
     "output_type": "display_data"
    },
    {
     "data": {
      "text/html": [
       " View run at <a href='https://wandb.ai/riaxchoi-heinrich-heine-university-d-sseldorf/LinearClassification%20no%20model-train%2C%202%20types%2C%20w%20dropout/runs/fbt7w7z6' target=\"_blank\">https://wandb.ai/riaxchoi-heinrich-heine-university-d-sseldorf/LinearClassification%20no%20model-train%2C%202%20types%2C%20w%20dropout/runs/fbt7w7z6</a>"
      ],
      "text/plain": [
       "<IPython.core.display.HTML object>"
      ]
     },
     "metadata": {},
     "output_type": "display_data"
    },
    {
     "name": "stdout",
     "output_type": "stream",
     "text": [
      "Initial Accuracy without Training: 59.72%\n"
     ]
    },
    {
     "data": {
      "application/vnd.jupyter.widget-view+json": {
       "model_id": "c88d172d2464497aa9de252dc7d0cdf7",
       "version_major": 2,
       "version_minor": 0
      },
      "text/plain": [
       "VBox(children=(Label(value='0.005 MB of 0.005 MB uploaded\\r'), FloatProgress(value=1.0, max=1.0)))"
      ]
     },
     "metadata": {},
     "output_type": "display_data"
    },
    {
     "data": {
      "text/html": [
       "<style>\n",
       "    table.wandb td:nth-child(1) { padding: 0 10px; text-align: left ; width: auto;} td:nth-child(2) {text-align: left ; width: 100%}\n",
       "    .wandb-row { display: flex; flex-direction: row; flex-wrap: wrap; justify-content: flex-start; width: 100% }\n",
       "    .wandb-col { display: flex; flex-direction: column; flex-basis: 100%; flex: 1; padding: 10px; }\n",
       "    </style>\n",
       "<div class=\"wandb-row\"><div class=\"wandb-col\"><h3>Run history:</h3><br/><table class=\"wandb\"><tr><td>ROC-AUC Score</td><td>▁</td></tr><tr><td>accuracy</td><td>▁</td></tr><tr><td>f1_AFib</td><td>▁</td></tr><tr><td>f1_non-AFib</td><td>▁</td></tr><tr><td>initial_accuracy</td><td>▁</td></tr><tr><td>precision_AFib</td><td>▁</td></tr><tr><td>precision_non-AFib</td><td>▁</td></tr><tr><td>recall_AFib</td><td>▁</td></tr><tr><td>recall_non-AFib</td><td>▁</td></tr></table><br/></div><div class=\"wandb-col\"><h3>Run summary:</h3><br/><table class=\"wandb\"><tr><td>ROC-AUC Score</td><td>0.68797</td></tr><tr><td>accuracy</td><td>0.59723</td></tr><tr><td>f1_AFib</td><td>0.38442</td></tr><tr><td>f1_non-AFib</td><td>0.7007</td></tr><tr><td>initial_accuracy</td><td>0.59723</td></tr><tr><td>precision_AFib</td><td>0.26612</td></tr><tr><td>precision_non-AFib</td><td>0.89391</td></tr><tr><td>recall_AFib</td><td>0.69207</td></tr><tr><td>recall_non-AFib</td><td>0.57617</td></tr></table><br/></div></div>"
      ],
      "text/plain": [
       "<IPython.core.display.HTML object>"
      ]
     },
     "metadata": {},
     "output_type": "display_data"
    },
    {
     "data": {
      "text/html": [
       " View run <strong style=\"color:#cdcd00\">('CPC', 'ClassifierNN', 512)</strong> at: <a href='https://wandb.ai/riaxchoi-heinrich-heine-university-d-sseldorf/LinearClassification%20no%20model-train%2C%202%20types%2C%20w%20dropout/runs/fbt7w7z6' target=\"_blank\">https://wandb.ai/riaxchoi-heinrich-heine-university-d-sseldorf/LinearClassification%20no%20model-train%2C%202%20types%2C%20w%20dropout/runs/fbt7w7z6</a><br/> View project at: <a href='https://wandb.ai/riaxchoi-heinrich-heine-university-d-sseldorf/LinearClassification%20no%20model-train%2C%202%20types%2C%20w%20dropout' target=\"_blank\">https://wandb.ai/riaxchoi-heinrich-heine-university-d-sseldorf/LinearClassification%20no%20model-train%2C%202%20types%2C%20w%20dropout</a><br/>Synced 6 W&B file(s), 0 media file(s), 0 artifact file(s) and 0 other file(s)"
      ],
      "text/plain": [
       "<IPython.core.display.HTML object>"
      ]
     },
     "metadata": {},
     "output_type": "display_data"
    },
    {
     "data": {
      "text/html": [
       "Find logs at: <code>./wandb/run-20241129_181415-fbt7w7z6/logs</code>"
      ],
      "text/plain": [
       "<IPython.core.display.HTML object>"
      ]
     },
     "metadata": {},
     "output_type": "display_data"
    },
    {
     "data": {
      "text/html": [
       "The new W&B backend becomes opt-out in version 0.18.0; try it out with `wandb.require(\"core\")`! See https://wandb.me/wandb-core for more information."
      ],
      "text/plain": [
       "<IPython.core.display.HTML object>"
      ]
     },
     "metadata": {},
     "output_type": "display_data"
    },
    {
     "name": "stdout",
     "output_type": "stream",
     "text": [
      "Running with model: CPC, classification:ClassifierNN, batch size: 1024\n"
     ]
    },
    {
     "data": {
      "application/vnd.jupyter.widget-view+json": {
       "model_id": "417a4556856a42788da7a6a985deaca4",
       "version_major": 2,
       "version_minor": 0
      },
      "text/plain": [
       "VBox(children=(Label(value='Waiting for wandb.init()...\\r'), FloatProgress(value=0.011113629755305334, max=1.0…"
      ]
     },
     "metadata": {},
     "output_type": "display_data"
    },
    {
     "data": {
      "text/html": [
       "wandb version 0.18.7 is available!  To upgrade, please run:\n",
       " $ pip install wandb --upgrade"
      ],
      "text/plain": [
       "<IPython.core.display.HTML object>"
      ]
     },
     "metadata": {},
     "output_type": "display_data"
    },
    {
     "data": {
      "text/html": [
       "Tracking run with wandb version 0.17.6"
      ],
      "text/plain": [
       "<IPython.core.display.HTML object>"
      ]
     },
     "metadata": {},
     "output_type": "display_data"
    },
    {
     "data": {
      "text/html": [
       "Run data is saved locally in <code>/home/ria/MMBSintern/bachelor/exercise/wandb/run-20241129_181425-h5sxgfva</code>"
      ],
      "text/plain": [
       "<IPython.core.display.HTML object>"
      ]
     },
     "metadata": {},
     "output_type": "display_data"
    },
    {
     "data": {
      "text/html": [
       "Syncing run <strong><a href='https://wandb.ai/riaxchoi-heinrich-heine-university-d-sseldorf/LinearClassification%20no%20model-train%2C%202%20types%2C%20w%20dropout/runs/h5sxgfva' target=\"_blank\">('CPC', 'ClassifierNN', 1024)</a></strong> to <a href='https://wandb.ai/riaxchoi-heinrich-heine-university-d-sseldorf/LinearClassification%20no%20model-train%2C%202%20types%2C%20w%20dropout' target=\"_blank\">Weights & Biases</a> (<a href='https://wandb.me/run' target=\"_blank\">docs</a>)<br/>"
      ],
      "text/plain": [
       "<IPython.core.display.HTML object>"
      ]
     },
     "metadata": {},
     "output_type": "display_data"
    },
    {
     "data": {
      "text/html": [
       " View project at <a href='https://wandb.ai/riaxchoi-heinrich-heine-university-d-sseldorf/LinearClassification%20no%20model-train%2C%202%20types%2C%20w%20dropout' target=\"_blank\">https://wandb.ai/riaxchoi-heinrich-heine-university-d-sseldorf/LinearClassification%20no%20model-train%2C%202%20types%2C%20w%20dropout</a>"
      ],
      "text/plain": [
       "<IPython.core.display.HTML object>"
      ]
     },
     "metadata": {},
     "output_type": "display_data"
    },
    {
     "data": {
      "text/html": [
       " View run at <a href='https://wandb.ai/riaxchoi-heinrich-heine-university-d-sseldorf/LinearClassification%20no%20model-train%2C%202%20types%2C%20w%20dropout/runs/h5sxgfva' target=\"_blank\">https://wandb.ai/riaxchoi-heinrich-heine-university-d-sseldorf/LinearClassification%20no%20model-train%2C%202%20types%2C%20w%20dropout/runs/h5sxgfva</a>"
      ],
      "text/plain": [
       "<IPython.core.display.HTML object>"
      ]
     },
     "metadata": {},
     "output_type": "display_data"
    },
    {
     "name": "stdout",
     "output_type": "stream",
     "text": [
      "Initial Accuracy without Training: 58.45%\n"
     ]
    },
    {
     "data": {
      "application/vnd.jupyter.widget-view+json": {
       "model_id": "1b09bb5c8e494f63b0ccf793e60bc620",
       "version_major": 2,
       "version_minor": 0
      },
      "text/plain": [
       "VBox(children=(Label(value='0.005 MB of 0.005 MB uploaded\\r'), FloatProgress(value=1.0, max=1.0)))"
      ]
     },
     "metadata": {},
     "output_type": "display_data"
    },
    {
     "data": {
      "text/html": [
       "<style>\n",
       "    table.wandb td:nth-child(1) { padding: 0 10px; text-align: left ; width: auto;} td:nth-child(2) {text-align: left ; width: 100%}\n",
       "    .wandb-row { display: flex; flex-direction: row; flex-wrap: wrap; justify-content: flex-start; width: 100% }\n",
       "    .wandb-col { display: flex; flex-direction: column; flex-basis: 100%; flex: 1; padding: 10px; }\n",
       "    </style>\n",
       "<div class=\"wandb-row\"><div class=\"wandb-col\"><h3>Run history:</h3><br/><table class=\"wandb\"><tr><td>ROC-AUC Score</td><td>▁</td></tr><tr><td>accuracy</td><td>▁</td></tr><tr><td>f1_AFib</td><td>▁</td></tr><tr><td>f1_non-AFib</td><td>▁</td></tr><tr><td>initial_accuracy</td><td>▁</td></tr><tr><td>precision_AFib</td><td>▁</td></tr><tr><td>precision_non-AFib</td><td>▁</td></tr><tr><td>recall_AFib</td><td>▁</td></tr><tr><td>recall_non-AFib</td><td>▁</td></tr></table><br/></div><div class=\"wandb-col\"><h3>Run summary:</h3><br/><table class=\"wandb\"><tr><td>ROC-AUC Score</td><td>0.67171</td></tr><tr><td>accuracy</td><td>0.58449</td></tr><tr><td>f1_AFib</td><td>0.38221</td></tr><tr><td>f1_non-AFib</td><td>0.68698</td></tr><tr><td>initial_accuracy</td><td>0.58449</td></tr><tr><td>precision_AFib</td><td>0.26185</td></tr><tr><td>precision_non-AFib</td><td>0.89554</td></tr><tr><td>recall_AFib</td><td>0.70732</td></tr><tr><td>recall_non-AFib</td><td>0.55721</td></tr></table><br/></div></div>"
      ],
      "text/plain": [
       "<IPython.core.display.HTML object>"
      ]
     },
     "metadata": {},
     "output_type": "display_data"
    },
    {
     "data": {
      "text/html": [
       " View run <strong style=\"color:#cdcd00\">('CPC', 'ClassifierNN', 1024)</strong> at: <a href='https://wandb.ai/riaxchoi-heinrich-heine-university-d-sseldorf/LinearClassification%20no%20model-train%2C%202%20types%2C%20w%20dropout/runs/h5sxgfva' target=\"_blank\">https://wandb.ai/riaxchoi-heinrich-heine-university-d-sseldorf/LinearClassification%20no%20model-train%2C%202%20types%2C%20w%20dropout/runs/h5sxgfva</a><br/> View project at: <a href='https://wandb.ai/riaxchoi-heinrich-heine-university-d-sseldorf/LinearClassification%20no%20model-train%2C%202%20types%2C%20w%20dropout' target=\"_blank\">https://wandb.ai/riaxchoi-heinrich-heine-university-d-sseldorf/LinearClassification%20no%20model-train%2C%202%20types%2C%20w%20dropout</a><br/>Synced 6 W&B file(s), 0 media file(s), 0 artifact file(s) and 0 other file(s)"
      ],
      "text/plain": [
       "<IPython.core.display.HTML object>"
      ]
     },
     "metadata": {},
     "output_type": "display_data"
    },
    {
     "data": {
      "text/html": [
       "Find logs at: <code>./wandb/run-20241129_181425-h5sxgfva/logs</code>"
      ],
      "text/plain": [
       "<IPython.core.display.HTML object>"
      ]
     },
     "metadata": {},
     "output_type": "display_data"
    },
    {
     "data": {
      "text/html": [
       "The new W&B backend becomes opt-out in version 0.18.0; try it out with `wandb.require(\"core\")`! See https://wandb.me/wandb-core for more information."
      ],
      "text/plain": [
       "<IPython.core.display.HTML object>"
      ]
     },
     "metadata": {},
     "output_type": "display_data"
    },
    {
     "name": "stdout",
     "output_type": "stream",
     "text": [
      "Running with model: CPC, classification:ClassifierNN, batch size: 2048\n"
     ]
    },
    {
     "data": {
      "application/vnd.jupyter.widget-view+json": {
       "model_id": "72e2f740bd6640f2b453f10ebd69c71f",
       "version_major": 2,
       "version_minor": 0
      },
      "text/plain": [
       "VBox(children=(Label(value='Waiting for wandb.init()...\\r'), FloatProgress(value=0.01111337065619106, max=1.0)…"
      ]
     },
     "metadata": {},
     "output_type": "display_data"
    },
    {
     "data": {
      "text/html": [
       "wandb version 0.18.7 is available!  To upgrade, please run:\n",
       " $ pip install wandb --upgrade"
      ],
      "text/plain": [
       "<IPython.core.display.HTML object>"
      ]
     },
     "metadata": {},
     "output_type": "display_data"
    },
    {
     "data": {
      "text/html": [
       "Tracking run with wandb version 0.17.6"
      ],
      "text/plain": [
       "<IPython.core.display.HTML object>"
      ]
     },
     "metadata": {},
     "output_type": "display_data"
    },
    {
     "data": {
      "text/html": [
       "Run data is saved locally in <code>/home/ria/MMBSintern/bachelor/exercise/wandb/run-20241129_181436-f2wr69h1</code>"
      ],
      "text/plain": [
       "<IPython.core.display.HTML object>"
      ]
     },
     "metadata": {},
     "output_type": "display_data"
    },
    {
     "data": {
      "text/html": [
       "Syncing run <strong><a href='https://wandb.ai/riaxchoi-heinrich-heine-university-d-sseldorf/LinearClassification%20no%20model-train%2C%202%20types%2C%20w%20dropout/runs/f2wr69h1' target=\"_blank\">('CPC', 'ClassifierNN', 2048)</a></strong> to <a href='https://wandb.ai/riaxchoi-heinrich-heine-university-d-sseldorf/LinearClassification%20no%20model-train%2C%202%20types%2C%20w%20dropout' target=\"_blank\">Weights & Biases</a> (<a href='https://wandb.me/run' target=\"_blank\">docs</a>)<br/>"
      ],
      "text/plain": [
       "<IPython.core.display.HTML object>"
      ]
     },
     "metadata": {},
     "output_type": "display_data"
    },
    {
     "data": {
      "text/html": [
       " View project at <a href='https://wandb.ai/riaxchoi-heinrich-heine-university-d-sseldorf/LinearClassification%20no%20model-train%2C%202%20types%2C%20w%20dropout' target=\"_blank\">https://wandb.ai/riaxchoi-heinrich-heine-university-d-sseldorf/LinearClassification%20no%20model-train%2C%202%20types%2C%20w%20dropout</a>"
      ],
      "text/plain": [
       "<IPython.core.display.HTML object>"
      ]
     },
     "metadata": {},
     "output_type": "display_data"
    },
    {
     "data": {
      "text/html": [
       " View run at <a href='https://wandb.ai/riaxchoi-heinrich-heine-university-d-sseldorf/LinearClassification%20no%20model-train%2C%202%20types%2C%20w%20dropout/runs/f2wr69h1' target=\"_blank\">https://wandb.ai/riaxchoi-heinrich-heine-university-d-sseldorf/LinearClassification%20no%20model-train%2C%202%20types%2C%20w%20dropout/runs/f2wr69h1</a>"
      ],
      "text/plain": [
       "<IPython.core.display.HTML object>"
      ]
     },
     "metadata": {},
     "output_type": "display_data"
    },
    {
     "name": "stdout",
     "output_type": "stream",
     "text": [
      "Initial Accuracy without Training: 61.55%\n"
     ]
    },
    {
     "data": {
      "application/vnd.jupyter.widget-view+json": {
       "model_id": "7b5127a10ed64871b4b1d40e7b8878fa",
       "version_major": 2,
       "version_minor": 0
      },
      "text/plain": [
       "VBox(children=(Label(value='0.005 MB of 0.005 MB uploaded\\r'), FloatProgress(value=1.0, max=1.0)))"
      ]
     },
     "metadata": {},
     "output_type": "display_data"
    },
    {
     "data": {
      "text/html": [
       "<style>\n",
       "    table.wandb td:nth-child(1) { padding: 0 10px; text-align: left ; width: auto;} td:nth-child(2) {text-align: left ; width: 100%}\n",
       "    .wandb-row { display: flex; flex-direction: row; flex-wrap: wrap; justify-content: flex-start; width: 100% }\n",
       "    .wandb-col { display: flex; flex-direction: column; flex-basis: 100%; flex: 1; padding: 10px; }\n",
       "    </style>\n",
       "<div class=\"wandb-row\"><div class=\"wandb-col\"><h3>Run history:</h3><br/><table class=\"wandb\"><tr><td>ROC-AUC Score</td><td>▁</td></tr><tr><td>accuracy</td><td>▁</td></tr><tr><td>f1_AFib</td><td>▁</td></tr><tr><td>f1_non-AFib</td><td>▁</td></tr><tr><td>initial_accuracy</td><td>▁</td></tr><tr><td>precision_AFib</td><td>▁</td></tr><tr><td>precision_non-AFib</td><td>▁</td></tr><tr><td>recall_AFib</td><td>▁</td></tr><tr><td>recall_non-AFib</td><td>▁</td></tr></table><br/></div><div class=\"wandb-col\"><h3>Run summary:</h3><br/><table class=\"wandb\"><tr><td>ROC-AUC Score</td><td>0.69842</td></tr><tr><td>accuracy</td><td>0.61551</td></tr><tr><td>f1_AFib</td><td>0.38584</td></tr><tr><td>f1_non-AFib</td><td>0.72016</td></tr><tr><td>initial_accuracy</td><td>0.61551</td></tr><tr><td>precision_AFib</td><td>0.27182</td></tr><tr><td>precision_non-AFib</td><td>0.89033</td></tr><tr><td>recall_AFib</td><td>0.66463</td></tr><tr><td>recall_non-AFib</td><td>0.6046</td></tr></table><br/></div></div>"
      ],
      "text/plain": [
       "<IPython.core.display.HTML object>"
      ]
     },
     "metadata": {},
     "output_type": "display_data"
    },
    {
     "data": {
      "text/html": [
       " View run <strong style=\"color:#cdcd00\">('CPC', 'ClassifierNN', 2048)</strong> at: <a href='https://wandb.ai/riaxchoi-heinrich-heine-university-d-sseldorf/LinearClassification%20no%20model-train%2C%202%20types%2C%20w%20dropout/runs/f2wr69h1' target=\"_blank\">https://wandb.ai/riaxchoi-heinrich-heine-university-d-sseldorf/LinearClassification%20no%20model-train%2C%202%20types%2C%20w%20dropout/runs/f2wr69h1</a><br/> View project at: <a href='https://wandb.ai/riaxchoi-heinrich-heine-university-d-sseldorf/LinearClassification%20no%20model-train%2C%202%20types%2C%20w%20dropout' target=\"_blank\">https://wandb.ai/riaxchoi-heinrich-heine-university-d-sseldorf/LinearClassification%20no%20model-train%2C%202%20types%2C%20w%20dropout</a><br/>Synced 6 W&B file(s), 0 media file(s), 0 artifact file(s) and 0 other file(s)"
      ],
      "text/plain": [
       "<IPython.core.display.HTML object>"
      ]
     },
     "metadata": {},
     "output_type": "display_data"
    },
    {
     "data": {
      "text/html": [
       "Find logs at: <code>./wandb/run-20241129_181436-f2wr69h1/logs</code>"
      ],
      "text/plain": [
       "<IPython.core.display.HTML object>"
      ]
     },
     "metadata": {},
     "output_type": "display_data"
    },
    {
     "data": {
      "text/html": [
       "The new W&B backend becomes opt-out in version 0.18.0; try it out with `wandb.require(\"core\")`! See https://wandb.me/wandb-core for more information."
      ],
      "text/plain": [
       "<IPython.core.display.HTML object>"
      ]
     },
     "metadata": {},
     "output_type": "display_data"
    },
    {
     "name": "stdout",
     "output_type": "stream",
     "text": [
      "Running with model: CPC, classification:LogisticRegression, batch size: 256\n"
     ]
    },
    {
     "data": {
      "application/vnd.jupyter.widget-view+json": {
       "model_id": "bf25908cd4564adcb2f4e22da09b77e7",
       "version_major": 2,
       "version_minor": 0
      },
      "text/plain": [
       "VBox(children=(Label(value='Waiting for wandb.init()...\\r'), FloatProgress(value=0.011113418200208496, max=1.0…"
      ]
     },
     "metadata": {},
     "output_type": "display_data"
    },
    {
     "data": {
      "text/html": [
       "wandb version 0.18.7 is available!  To upgrade, please run:\n",
       " $ pip install wandb --upgrade"
      ],
      "text/plain": [
       "<IPython.core.display.HTML object>"
      ]
     },
     "metadata": {},
     "output_type": "display_data"
    },
    {
     "data": {
      "text/html": [
       "Tracking run with wandb version 0.17.6"
      ],
      "text/plain": [
       "<IPython.core.display.HTML object>"
      ]
     },
     "metadata": {},
     "output_type": "display_data"
    },
    {
     "data": {
      "text/html": [
       "Run data is saved locally in <code>/home/ria/MMBSintern/bachelor/exercise/wandb/run-20241129_181446-lt44lutm</code>"
      ],
      "text/plain": [
       "<IPython.core.display.HTML object>"
      ]
     },
     "metadata": {},
     "output_type": "display_data"
    },
    {
     "data": {
      "text/html": [
       "Syncing run <strong><a href='https://wandb.ai/riaxchoi-heinrich-heine-university-d-sseldorf/LinearClassification%20no%20model-train%2C%202%20types%2C%20w%20dropout/runs/lt44lutm' target=\"_blank\">('CPC', 'LogisticRegression', 256)</a></strong> to <a href='https://wandb.ai/riaxchoi-heinrich-heine-university-d-sseldorf/LinearClassification%20no%20model-train%2C%202%20types%2C%20w%20dropout' target=\"_blank\">Weights & Biases</a> (<a href='https://wandb.me/run' target=\"_blank\">docs</a>)<br/>"
      ],
      "text/plain": [
       "<IPython.core.display.HTML object>"
      ]
     },
     "metadata": {},
     "output_type": "display_data"
    },
    {
     "data": {
      "text/html": [
       " View project at <a href='https://wandb.ai/riaxchoi-heinrich-heine-university-d-sseldorf/LinearClassification%20no%20model-train%2C%202%20types%2C%20w%20dropout' target=\"_blank\">https://wandb.ai/riaxchoi-heinrich-heine-university-d-sseldorf/LinearClassification%20no%20model-train%2C%202%20types%2C%20w%20dropout</a>"
      ],
      "text/plain": [
       "<IPython.core.display.HTML object>"
      ]
     },
     "metadata": {},
     "output_type": "display_data"
    },
    {
     "data": {
      "text/html": [
       " View run at <a href='https://wandb.ai/riaxchoi-heinrich-heine-university-d-sseldorf/LinearClassification%20no%20model-train%2C%202%20types%2C%20w%20dropout/runs/lt44lutm' target=\"_blank\">https://wandb.ai/riaxchoi-heinrich-heine-university-d-sseldorf/LinearClassification%20no%20model-train%2C%202%20types%2C%20w%20dropout/runs/lt44lutm</a>"
      ],
      "text/plain": [
       "<IPython.core.display.HTML object>"
      ]
     },
     "metadata": {},
     "output_type": "display_data"
    },
    {
     "name": "stdout",
     "output_type": "stream",
     "text": [
      "Initial Accuracy without Training: 52.96%\n"
     ]
    },
    {
     "data": {
      "application/vnd.jupyter.widget-view+json": {
       "model_id": "0735fe3e97314a5295a2a80a3c3b9742",
       "version_major": 2,
       "version_minor": 0
      },
      "text/plain": [
       "VBox(children=(Label(value='0.005 MB of 0.005 MB uploaded\\r'), FloatProgress(value=1.0, max=1.0)))"
      ]
     },
     "metadata": {},
     "output_type": "display_data"
    },
    {
     "data": {
      "text/html": [
       "<style>\n",
       "    table.wandb td:nth-child(1) { padding: 0 10px; text-align: left ; width: auto;} td:nth-child(2) {text-align: left ; width: 100%}\n",
       "    .wandb-row { display: flex; flex-direction: row; flex-wrap: wrap; justify-content: flex-start; width: 100% }\n",
       "    .wandb-col { display: flex; flex-direction: column; flex-basis: 100%; flex: 1; padding: 10px; }\n",
       "    </style>\n",
       "<div class=\"wandb-row\"><div class=\"wandb-col\"><h3>Run history:</h3><br/><table class=\"wandb\"><tr><td>ROC-AUC Score</td><td>▁</td></tr><tr><td>accuracy</td><td>▁</td></tr><tr><td>f1_AFib</td><td>▁</td></tr><tr><td>f1_non-AFib</td><td>▁</td></tr><tr><td>initial_accuracy</td><td>▁</td></tr><tr><td>precision_AFib</td><td>▁</td></tr><tr><td>precision_non-AFib</td><td>▁</td></tr><tr><td>recall_AFib</td><td>▁</td></tr><tr><td>recall_non-AFib</td><td>▁</td></tr></table><br/></div><div class=\"wandb-col\"><h3>Run summary:</h3><br/><table class=\"wandb\"><tr><td>ROC-AUC Score</td><td>0.6095</td></tr><tr><td>accuracy</td><td>0.52964</td></tr><tr><td>f1_AFib</td><td>0.32351</td></tr><tr><td>f1_non-AFib</td><td>0.63949</td></tr><tr><td>initial_accuracy</td><td>0.52964</td></tr><tr><td>precision_AFib</td><td>0.21899</td></tr><tr><td>precision_non-AFib</td><td>0.85763</td></tr><tr><td>recall_AFib</td><td>0.6189</td></tr><tr><td>recall_non-AFib</td><td>0.50982</td></tr></table><br/></div></div>"
      ],
      "text/plain": [
       "<IPython.core.display.HTML object>"
      ]
     },
     "metadata": {},
     "output_type": "display_data"
    },
    {
     "data": {
      "text/html": [
       " View run <strong style=\"color:#cdcd00\">('CPC', 'LogisticRegression', 256)</strong> at: <a href='https://wandb.ai/riaxchoi-heinrich-heine-university-d-sseldorf/LinearClassification%20no%20model-train%2C%202%20types%2C%20w%20dropout/runs/lt44lutm' target=\"_blank\">https://wandb.ai/riaxchoi-heinrich-heine-university-d-sseldorf/LinearClassification%20no%20model-train%2C%202%20types%2C%20w%20dropout/runs/lt44lutm</a><br/> View project at: <a href='https://wandb.ai/riaxchoi-heinrich-heine-university-d-sseldorf/LinearClassification%20no%20model-train%2C%202%20types%2C%20w%20dropout' target=\"_blank\">https://wandb.ai/riaxchoi-heinrich-heine-university-d-sseldorf/LinearClassification%20no%20model-train%2C%202%20types%2C%20w%20dropout</a><br/>Synced 6 W&B file(s), 0 media file(s), 0 artifact file(s) and 0 other file(s)"
      ],
      "text/plain": [
       "<IPython.core.display.HTML object>"
      ]
     },
     "metadata": {},
     "output_type": "display_data"
    },
    {
     "data": {
      "text/html": [
       "Find logs at: <code>./wandb/run-20241129_181446-lt44lutm/logs</code>"
      ],
      "text/plain": [
       "<IPython.core.display.HTML object>"
      ]
     },
     "metadata": {},
     "output_type": "display_data"
    },
    {
     "data": {
      "text/html": [
       "The new W&B backend becomes opt-out in version 0.18.0; try it out with `wandb.require(\"core\")`! See https://wandb.me/wandb-core for more information."
      ],
      "text/plain": [
       "<IPython.core.display.HTML object>"
      ]
     },
     "metadata": {},
     "output_type": "display_data"
    },
    {
     "name": "stdout",
     "output_type": "stream",
     "text": [
      "Running with model: CPC, classification:LogisticRegression, batch size: 512\n"
     ]
    },
    {
     "data": {
      "application/vnd.jupyter.widget-view+json": {
       "model_id": "44382f59cd3b4924948ee31f9ab7fb35",
       "version_major": 2,
       "version_minor": 0
      },
      "text/plain": [
       "VBox(children=(Label(value='Waiting for wandb.init()...\\r'), FloatProgress(value=0.011113408777034945, max=1.0…"
      ]
     },
     "metadata": {},
     "output_type": "display_data"
    },
    {
     "data": {
      "text/html": [
       "wandb version 0.18.7 is available!  To upgrade, please run:\n",
       " $ pip install wandb --upgrade"
      ],
      "text/plain": [
       "<IPython.core.display.HTML object>"
      ]
     },
     "metadata": {},
     "output_type": "display_data"
    },
    {
     "data": {
      "text/html": [
       "Tracking run with wandb version 0.17.6"
      ],
      "text/plain": [
       "<IPython.core.display.HTML object>"
      ]
     },
     "metadata": {},
     "output_type": "display_data"
    },
    {
     "data": {
      "text/html": [
       "Run data is saved locally in <code>/home/ria/MMBSintern/bachelor/exercise/wandb/run-20241129_181456-bfjadr1z</code>"
      ],
      "text/plain": [
       "<IPython.core.display.HTML object>"
      ]
     },
     "metadata": {},
     "output_type": "display_data"
    },
    {
     "data": {
      "text/html": [
       "Syncing run <strong><a href='https://wandb.ai/riaxchoi-heinrich-heine-university-d-sseldorf/LinearClassification%20no%20model-train%2C%202%20types%2C%20w%20dropout/runs/bfjadr1z' target=\"_blank\">('CPC', 'LogisticRegression', 512)</a></strong> to <a href='https://wandb.ai/riaxchoi-heinrich-heine-university-d-sseldorf/LinearClassification%20no%20model-train%2C%202%20types%2C%20w%20dropout' target=\"_blank\">Weights & Biases</a> (<a href='https://wandb.me/run' target=\"_blank\">docs</a>)<br/>"
      ],
      "text/plain": [
       "<IPython.core.display.HTML object>"
      ]
     },
     "metadata": {},
     "output_type": "display_data"
    },
    {
     "data": {
      "text/html": [
       " View project at <a href='https://wandb.ai/riaxchoi-heinrich-heine-university-d-sseldorf/LinearClassification%20no%20model-train%2C%202%20types%2C%20w%20dropout' target=\"_blank\">https://wandb.ai/riaxchoi-heinrich-heine-university-d-sseldorf/LinearClassification%20no%20model-train%2C%202%20types%2C%20w%20dropout</a>"
      ],
      "text/plain": [
       "<IPython.core.display.HTML object>"
      ]
     },
     "metadata": {},
     "output_type": "display_data"
    },
    {
     "data": {
      "text/html": [
       " View run at <a href='https://wandb.ai/riaxchoi-heinrich-heine-university-d-sseldorf/LinearClassification%20no%20model-train%2C%202%20types%2C%20w%20dropout/runs/bfjadr1z' target=\"_blank\">https://wandb.ai/riaxchoi-heinrich-heine-university-d-sseldorf/LinearClassification%20no%20model-train%2C%202%20types%2C%20w%20dropout/runs/bfjadr1z</a>"
      ],
      "text/plain": [
       "<IPython.core.display.HTML object>"
      ]
     },
     "metadata": {},
     "output_type": "display_data"
    },
    {
     "name": "stdout",
     "output_type": "stream",
     "text": [
      "Initial Accuracy without Training: 58.12%\n"
     ]
    },
    {
     "data": {
      "application/vnd.jupyter.widget-view+json": {
       "model_id": "b956fe3241d0403ea7cb90b1d88e7668",
       "version_major": 2,
       "version_minor": 0
      },
      "text/plain": [
       "VBox(children=(Label(value='0.005 MB of 0.005 MB uploaded\\r'), FloatProgress(value=1.0, max=1.0)))"
      ]
     },
     "metadata": {},
     "output_type": "display_data"
    },
    {
     "data": {
      "text/html": [
       "<style>\n",
       "    table.wandb td:nth-child(1) { padding: 0 10px; text-align: left ; width: auto;} td:nth-child(2) {text-align: left ; width: 100%}\n",
       "    .wandb-row { display: flex; flex-direction: row; flex-wrap: wrap; justify-content: flex-start; width: 100% }\n",
       "    .wandb-col { display: flex; flex-direction: column; flex-basis: 100%; flex: 1; padding: 10px; }\n",
       "    </style>\n",
       "<div class=\"wandb-row\"><div class=\"wandb-col\"><h3>Run history:</h3><br/><table class=\"wandb\"><tr><td>ROC-AUC Score</td><td>▁</td></tr><tr><td>accuracy</td><td>▁</td></tr><tr><td>f1_AFib</td><td>▁</td></tr><tr><td>f1_non-AFib</td><td>▁</td></tr><tr><td>initial_accuracy</td><td>▁</td></tr><tr><td>precision_AFib</td><td>▁</td></tr><tr><td>precision_non-AFib</td><td>▁</td></tr><tr><td>recall_AFib</td><td>▁</td></tr><tr><td>recall_non-AFib</td><td>▁</td></tr></table><br/></div><div class=\"wandb-col\"><h3>Run summary:</h3><br/><table class=\"wandb\"><tr><td>ROC-AUC Score</td><td>0.66405</td></tr><tr><td>accuracy</td><td>0.58116</td></tr><tr><td>f1_AFib</td><td>0.37</td></tr><tr><td>f1_non-AFib</td><td>0.68631</td></tr><tr><td>initial_accuracy</td><td>0.58116</td></tr><tr><td>precision_AFib</td><td>0.25459</td></tr><tr><td>precision_non-AFib</td><td>0.88639</td></tr><tr><td>recall_AFib</td><td>0.67683</td></tr><tr><td>recall_non-AFib</td><td>0.55992</td></tr></table><br/></div></div>"
      ],
      "text/plain": [
       "<IPython.core.display.HTML object>"
      ]
     },
     "metadata": {},
     "output_type": "display_data"
    },
    {
     "data": {
      "text/html": [
       " View run <strong style=\"color:#cdcd00\">('CPC', 'LogisticRegression', 512)</strong> at: <a href='https://wandb.ai/riaxchoi-heinrich-heine-university-d-sseldorf/LinearClassification%20no%20model-train%2C%202%20types%2C%20w%20dropout/runs/bfjadr1z' target=\"_blank\">https://wandb.ai/riaxchoi-heinrich-heine-university-d-sseldorf/LinearClassification%20no%20model-train%2C%202%20types%2C%20w%20dropout/runs/bfjadr1z</a><br/> View project at: <a href='https://wandb.ai/riaxchoi-heinrich-heine-university-d-sseldorf/LinearClassification%20no%20model-train%2C%202%20types%2C%20w%20dropout' target=\"_blank\">https://wandb.ai/riaxchoi-heinrich-heine-university-d-sseldorf/LinearClassification%20no%20model-train%2C%202%20types%2C%20w%20dropout</a><br/>Synced 6 W&B file(s), 0 media file(s), 0 artifact file(s) and 0 other file(s)"
      ],
      "text/plain": [
       "<IPython.core.display.HTML object>"
      ]
     },
     "metadata": {},
     "output_type": "display_data"
    },
    {
     "data": {
      "text/html": [
       "Find logs at: <code>./wandb/run-20241129_181456-bfjadr1z/logs</code>"
      ],
      "text/plain": [
       "<IPython.core.display.HTML object>"
      ]
     },
     "metadata": {},
     "output_type": "display_data"
    },
    {
     "data": {
      "text/html": [
       "The new W&B backend becomes opt-out in version 0.18.0; try it out with `wandb.require(\"core\")`! See https://wandb.me/wandb-core for more information."
      ],
      "text/plain": [
       "<IPython.core.display.HTML object>"
      ]
     },
     "metadata": {},
     "output_type": "display_data"
    },
    {
     "name": "stdout",
     "output_type": "stream",
     "text": [
      "Running with model: CPC, classification:LogisticRegression, batch size: 1024\n"
     ]
    },
    {
     "data": {
      "application/vnd.jupyter.widget-view+json": {
       "model_id": "6cd09de1341646c9bd92767247b5e1da",
       "version_major": 2,
       "version_minor": 0
      },
      "text/plain": [
       "VBox(children=(Label(value='Waiting for wandb.init()...\\r'), FloatProgress(value=0.011113713922289511, max=1.0…"
      ]
     },
     "metadata": {},
     "output_type": "display_data"
    },
    {
     "data": {
      "text/html": [
       "wandb version 0.18.7 is available!  To upgrade, please run:\n",
       " $ pip install wandb --upgrade"
      ],
      "text/plain": [
       "<IPython.core.display.HTML object>"
      ]
     },
     "metadata": {},
     "output_type": "display_data"
    },
    {
     "data": {
      "text/html": [
       "Tracking run with wandb version 0.17.6"
      ],
      "text/plain": [
       "<IPython.core.display.HTML object>"
      ]
     },
     "metadata": {},
     "output_type": "display_data"
    },
    {
     "data": {
      "text/html": [
       "Run data is saved locally in <code>/home/ria/MMBSintern/bachelor/exercise/wandb/run-20241129_181507-ccrx43yk</code>"
      ],
      "text/plain": [
       "<IPython.core.display.HTML object>"
      ]
     },
     "metadata": {},
     "output_type": "display_data"
    },
    {
     "data": {
      "text/html": [
       "Syncing run <strong><a href='https://wandb.ai/riaxchoi-heinrich-heine-university-d-sseldorf/LinearClassification%20no%20model-train%2C%202%20types%2C%20w%20dropout/runs/ccrx43yk' target=\"_blank\">('CPC', 'LogisticRegression', 1024)</a></strong> to <a href='https://wandb.ai/riaxchoi-heinrich-heine-university-d-sseldorf/LinearClassification%20no%20model-train%2C%202%20types%2C%20w%20dropout' target=\"_blank\">Weights & Biases</a> (<a href='https://wandb.me/run' target=\"_blank\">docs</a>)<br/>"
      ],
      "text/plain": [
       "<IPython.core.display.HTML object>"
      ]
     },
     "metadata": {},
     "output_type": "display_data"
    },
    {
     "data": {
      "text/html": [
       " View project at <a href='https://wandb.ai/riaxchoi-heinrich-heine-university-d-sseldorf/LinearClassification%20no%20model-train%2C%202%20types%2C%20w%20dropout' target=\"_blank\">https://wandb.ai/riaxchoi-heinrich-heine-university-d-sseldorf/LinearClassification%20no%20model-train%2C%202%20types%2C%20w%20dropout</a>"
      ],
      "text/plain": [
       "<IPython.core.display.HTML object>"
      ]
     },
     "metadata": {},
     "output_type": "display_data"
    },
    {
     "data": {
      "text/html": [
       " View run at <a href='https://wandb.ai/riaxchoi-heinrich-heine-university-d-sseldorf/LinearClassification%20no%20model-train%2C%202%20types%2C%20w%20dropout/runs/ccrx43yk' target=\"_blank\">https://wandb.ai/riaxchoi-heinrich-heine-university-d-sseldorf/LinearClassification%20no%20model-train%2C%202%20types%2C%20w%20dropout/runs/ccrx43yk</a>"
      ],
      "text/plain": [
       "<IPython.core.display.HTML object>"
      ]
     },
     "metadata": {},
     "output_type": "display_data"
    },
    {
     "name": "stdout",
     "output_type": "stream",
     "text": [
      "Initial Accuracy without Training: 57.34%\n"
     ]
    },
    {
     "data": {
      "application/vnd.jupyter.widget-view+json": {
       "model_id": "ee14b42649664538805f797de1e961cc",
       "version_major": 2,
       "version_minor": 0
      },
      "text/plain": [
       "VBox(children=(Label(value='0.005 MB of 0.005 MB uploaded\\r'), FloatProgress(value=1.0, max=1.0)))"
      ]
     },
     "metadata": {},
     "output_type": "display_data"
    },
    {
     "data": {
      "text/html": [
       "<style>\n",
       "    table.wandb td:nth-child(1) { padding: 0 10px; text-align: left ; width: auto;} td:nth-child(2) {text-align: left ; width: 100%}\n",
       "    .wandb-row { display: flex; flex-direction: row; flex-wrap: wrap; justify-content: flex-start; width: 100% }\n",
       "    .wandb-col { display: flex; flex-direction: column; flex-basis: 100%; flex: 1; padding: 10px; }\n",
       "    </style>\n",
       "<div class=\"wandb-row\"><div class=\"wandb-col\"><h3>Run history:</h3><br/><table class=\"wandb\"><tr><td>ROC-AUC Score</td><td>▁</td></tr><tr><td>accuracy</td><td>▁</td></tr><tr><td>f1_AFib</td><td>▁</td></tr><tr><td>f1_non-AFib</td><td>▁</td></tr><tr><td>initial_accuracy</td><td>▁</td></tr><tr><td>precision_AFib</td><td>▁</td></tr><tr><td>precision_non-AFib</td><td>▁</td></tr><tr><td>recall_AFib</td><td>▁</td></tr><tr><td>recall_non-AFib</td><td>▁</td></tr></table><br/></div><div class=\"wandb-col\"><h3>Run summary:</h3><br/><table class=\"wandb\"><tr><td>ROC-AUC Score</td><td>0.66931</td></tr><tr><td>accuracy</td><td>0.57341</td></tr><tr><td>f1_AFib</td><td>0.36989</td></tr><tr><td>f1_non-AFib</td><td>0.67755</td></tr><tr><td>initial_accuracy</td><td>0.57341</td></tr><tr><td>precision_AFib</td><td>0.2528</td></tr><tr><td>precision_non-AFib</td><td>0.88804</td></tr><tr><td>recall_AFib</td><td>0.68902</td></tr><tr><td>recall_non-AFib</td><td>0.54773</td></tr></table><br/></div></div>"
      ],
      "text/plain": [
       "<IPython.core.display.HTML object>"
      ]
     },
     "metadata": {},
     "output_type": "display_data"
    },
    {
     "data": {
      "text/html": [
       " View run <strong style=\"color:#cdcd00\">('CPC', 'LogisticRegression', 1024)</strong> at: <a href='https://wandb.ai/riaxchoi-heinrich-heine-university-d-sseldorf/LinearClassification%20no%20model-train%2C%202%20types%2C%20w%20dropout/runs/ccrx43yk' target=\"_blank\">https://wandb.ai/riaxchoi-heinrich-heine-university-d-sseldorf/LinearClassification%20no%20model-train%2C%202%20types%2C%20w%20dropout/runs/ccrx43yk</a><br/> View project at: <a href='https://wandb.ai/riaxchoi-heinrich-heine-university-d-sseldorf/LinearClassification%20no%20model-train%2C%202%20types%2C%20w%20dropout' target=\"_blank\">https://wandb.ai/riaxchoi-heinrich-heine-university-d-sseldorf/LinearClassification%20no%20model-train%2C%202%20types%2C%20w%20dropout</a><br/>Synced 6 W&B file(s), 0 media file(s), 0 artifact file(s) and 0 other file(s)"
      ],
      "text/plain": [
       "<IPython.core.display.HTML object>"
      ]
     },
     "metadata": {},
     "output_type": "display_data"
    },
    {
     "data": {
      "text/html": [
       "Find logs at: <code>./wandb/run-20241129_181507-ccrx43yk/logs</code>"
      ],
      "text/plain": [
       "<IPython.core.display.HTML object>"
      ]
     },
     "metadata": {},
     "output_type": "display_data"
    },
    {
     "data": {
      "text/html": [
       "The new W&B backend becomes opt-out in version 0.18.0; try it out with `wandb.require(\"core\")`! See https://wandb.me/wandb-core for more information."
      ],
      "text/plain": [
       "<IPython.core.display.HTML object>"
      ]
     },
     "metadata": {},
     "output_type": "display_data"
    },
    {
     "name": "stdout",
     "output_type": "stream",
     "text": [
      "Running with model: CPC, classification:LogisticRegression, batch size: 2048\n"
     ]
    },
    {
     "data": {
      "application/vnd.jupyter.widget-view+json": {
       "model_id": "226145440f784abe8d9693c0bdf280d2",
       "version_major": 2,
       "version_minor": 0
      },
      "text/plain": [
       "VBox(children=(Label(value='Waiting for wandb.init()...\\r'), FloatProgress(value=0.011113450166562365, max=1.0…"
      ]
     },
     "metadata": {},
     "output_type": "display_data"
    },
    {
     "data": {
      "text/html": [
       "wandb version 0.18.7 is available!  To upgrade, please run:\n",
       " $ pip install wandb --upgrade"
      ],
      "text/plain": [
       "<IPython.core.display.HTML object>"
      ]
     },
     "metadata": {},
     "output_type": "display_data"
    },
    {
     "data": {
      "text/html": [
       "Tracking run with wandb version 0.17.6"
      ],
      "text/plain": [
       "<IPython.core.display.HTML object>"
      ]
     },
     "metadata": {},
     "output_type": "display_data"
    },
    {
     "data": {
      "text/html": [
       "Run data is saved locally in <code>/home/ria/MMBSintern/bachelor/exercise/wandb/run-20241129_181517-1662rn8m</code>"
      ],
      "text/plain": [
       "<IPython.core.display.HTML object>"
      ]
     },
     "metadata": {},
     "output_type": "display_data"
    },
    {
     "data": {
      "text/html": [
       "Syncing run <strong><a href='https://wandb.ai/riaxchoi-heinrich-heine-university-d-sseldorf/LinearClassification%20no%20model-train%2C%202%20types%2C%20w%20dropout/runs/1662rn8m' target=\"_blank\">('CPC', 'LogisticRegression', 2048)</a></strong> to <a href='https://wandb.ai/riaxchoi-heinrich-heine-university-d-sseldorf/LinearClassification%20no%20model-train%2C%202%20types%2C%20w%20dropout' target=\"_blank\">Weights & Biases</a> (<a href='https://wandb.me/run' target=\"_blank\">docs</a>)<br/>"
      ],
      "text/plain": [
       "<IPython.core.display.HTML object>"
      ]
     },
     "metadata": {},
     "output_type": "display_data"
    },
    {
     "data": {
      "text/html": [
       " View project at <a href='https://wandb.ai/riaxchoi-heinrich-heine-university-d-sseldorf/LinearClassification%20no%20model-train%2C%202%20types%2C%20w%20dropout' target=\"_blank\">https://wandb.ai/riaxchoi-heinrich-heine-university-d-sseldorf/LinearClassification%20no%20model-train%2C%202%20types%2C%20w%20dropout</a>"
      ],
      "text/plain": [
       "<IPython.core.display.HTML object>"
      ]
     },
     "metadata": {},
     "output_type": "display_data"
    },
    {
     "data": {
      "text/html": [
       " View run at <a href='https://wandb.ai/riaxchoi-heinrich-heine-university-d-sseldorf/LinearClassification%20no%20model-train%2C%202%20types%2C%20w%20dropout/runs/1662rn8m' target=\"_blank\">https://wandb.ai/riaxchoi-heinrich-heine-university-d-sseldorf/LinearClassification%20no%20model-train%2C%202%20types%2C%20w%20dropout/runs/1662rn8m</a>"
      ],
      "text/plain": [
       "<IPython.core.display.HTML object>"
      ]
     },
     "metadata": {},
     "output_type": "display_data"
    },
    {
     "name": "stdout",
     "output_type": "stream",
     "text": [
      "Initial Accuracy without Training: 59.11%\n"
     ]
    },
    {
     "data": {
      "application/vnd.jupyter.widget-view+json": {
       "model_id": "f5da25adf28a4577bf5062cb045b59bf",
       "version_major": 2,
       "version_minor": 0
      },
      "text/plain": [
       "VBox(children=(Label(value='0.005 MB of 0.005 MB uploaded\\r'), FloatProgress(value=1.0, max=1.0)))"
      ]
     },
     "metadata": {},
     "output_type": "display_data"
    },
    {
     "data": {
      "text/html": [
       "<style>\n",
       "    table.wandb td:nth-child(1) { padding: 0 10px; text-align: left ; width: auto;} td:nth-child(2) {text-align: left ; width: 100%}\n",
       "    .wandb-row { display: flex; flex-direction: row; flex-wrap: wrap; justify-content: flex-start; width: 100% }\n",
       "    .wandb-col { display: flex; flex-direction: column; flex-basis: 100%; flex: 1; padding: 10px; }\n",
       "    </style>\n",
       "<div class=\"wandb-row\"><div class=\"wandb-col\"><h3>Run history:</h3><br/><table class=\"wandb\"><tr><td>ROC-AUC Score</td><td>▁</td></tr><tr><td>accuracy</td><td>▁</td></tr><tr><td>f1_AFib</td><td>▁</td></tr><tr><td>f1_non-AFib</td><td>▁</td></tr><tr><td>initial_accuracy</td><td>▁</td></tr><tr><td>precision_AFib</td><td>▁</td></tr><tr><td>precision_non-AFib</td><td>▁</td></tr><tr><td>recall_AFib</td><td>▁</td></tr><tr><td>recall_non-AFib</td><td>▁</td></tr></table><br/></div><div class=\"wandb-col\"><h3>Run summary:</h3><br/><table class=\"wandb\"><tr><td>ROC-AUC Score</td><td>0.70139</td></tr><tr><td>accuracy</td><td>0.59114</td></tr><tr><td>f1_AFib</td><td>0.385</td></tr><tr><td>f1_non-AFib</td><td>0.69378</td></tr><tr><td>initial_accuracy</td><td>0.59114</td></tr><tr><td>precision_AFib</td><td>0.26491</td></tr><tr><td>precision_non-AFib</td><td>0.89603</td></tr><tr><td>recall_AFib</td><td>0.70427</td></tr><tr><td>recall_non-AFib</td><td>0.56601</td></tr></table><br/></div></div>"
      ],
      "text/plain": [
       "<IPython.core.display.HTML object>"
      ]
     },
     "metadata": {},
     "output_type": "display_data"
    },
    {
     "data": {
      "text/html": [
       " View run <strong style=\"color:#cdcd00\">('CPC', 'LogisticRegression', 2048)</strong> at: <a href='https://wandb.ai/riaxchoi-heinrich-heine-university-d-sseldorf/LinearClassification%20no%20model-train%2C%202%20types%2C%20w%20dropout/runs/1662rn8m' target=\"_blank\">https://wandb.ai/riaxchoi-heinrich-heine-university-d-sseldorf/LinearClassification%20no%20model-train%2C%202%20types%2C%20w%20dropout/runs/1662rn8m</a><br/> View project at: <a href='https://wandb.ai/riaxchoi-heinrich-heine-university-d-sseldorf/LinearClassification%20no%20model-train%2C%202%20types%2C%20w%20dropout' target=\"_blank\">https://wandb.ai/riaxchoi-heinrich-heine-university-d-sseldorf/LinearClassification%20no%20model-train%2C%202%20types%2C%20w%20dropout</a><br/>Synced 6 W&B file(s), 0 media file(s), 0 artifact file(s) and 0 other file(s)"
      ],
      "text/plain": [
       "<IPython.core.display.HTML object>"
      ]
     },
     "metadata": {},
     "output_type": "display_data"
    },
    {
     "data": {
      "text/html": [
       "Find logs at: <code>./wandb/run-20241129_181517-1662rn8m/logs</code>"
      ],
      "text/plain": [
       "<IPython.core.display.HTML object>"
      ]
     },
     "metadata": {},
     "output_type": "display_data"
    },
    {
     "data": {
      "text/html": [
       "The new W&B backend becomes opt-out in version 0.18.0; try it out with `wandb.require(\"core\")`! See https://wandb.me/wandb-core for more information."
      ],
      "text/plain": [
       "<IPython.core.display.HTML object>"
      ]
     },
     "metadata": {},
     "output_type": "display_data"
    },
    {
     "name": "stdout",
     "output_type": "stream",
     "text": [
      "Running with model: TS, classification:ClassifierNN, batch size: 256\n"
     ]
    },
    {
     "data": {
      "application/vnd.jupyter.widget-view+json": {
       "model_id": "4bc5a3ac57af4f52af8e42da6bba2874",
       "version_major": 2,
       "version_minor": 0
      },
      "text/plain": [
       "VBox(children=(Label(value='Waiting for wandb.init()...\\r'), FloatProgress(value=0.011113240111929676, max=1.0…"
      ]
     },
     "metadata": {},
     "output_type": "display_data"
    },
    {
     "data": {
      "text/html": [
       "wandb version 0.18.7 is available!  To upgrade, please run:\n",
       " $ pip install wandb --upgrade"
      ],
      "text/plain": [
       "<IPython.core.display.HTML object>"
      ]
     },
     "metadata": {},
     "output_type": "display_data"
    },
    {
     "data": {
      "text/html": [
       "Tracking run with wandb version 0.17.6"
      ],
      "text/plain": [
       "<IPython.core.display.HTML object>"
      ]
     },
     "metadata": {},
     "output_type": "display_data"
    },
    {
     "data": {
      "text/html": [
       "Run data is saved locally in <code>/home/ria/MMBSintern/bachelor/exercise/wandb/run-20241129_181527-9a0q9t98</code>"
      ],
      "text/plain": [
       "<IPython.core.display.HTML object>"
      ]
     },
     "metadata": {},
     "output_type": "display_data"
    },
    {
     "data": {
      "text/html": [
       "Syncing run <strong><a href='https://wandb.ai/riaxchoi-heinrich-heine-university-d-sseldorf/LinearClassification%20no%20model-train%2C%202%20types%2C%20w%20dropout/runs/9a0q9t98' target=\"_blank\">('TS', 'ClassifierNN', 256)</a></strong> to <a href='https://wandb.ai/riaxchoi-heinrich-heine-university-d-sseldorf/LinearClassification%20no%20model-train%2C%202%20types%2C%20w%20dropout' target=\"_blank\">Weights & Biases</a> (<a href='https://wandb.me/run' target=\"_blank\">docs</a>)<br/>"
      ],
      "text/plain": [
       "<IPython.core.display.HTML object>"
      ]
     },
     "metadata": {},
     "output_type": "display_data"
    },
    {
     "data": {
      "text/html": [
       " View project at <a href='https://wandb.ai/riaxchoi-heinrich-heine-university-d-sseldorf/LinearClassification%20no%20model-train%2C%202%20types%2C%20w%20dropout' target=\"_blank\">https://wandb.ai/riaxchoi-heinrich-heine-university-d-sseldorf/LinearClassification%20no%20model-train%2C%202%20types%2C%20w%20dropout</a>"
      ],
      "text/plain": [
       "<IPython.core.display.HTML object>"
      ]
     },
     "metadata": {},
     "output_type": "display_data"
    },
    {
     "data": {
      "text/html": [
       " View run at <a href='https://wandb.ai/riaxchoi-heinrich-heine-university-d-sseldorf/LinearClassification%20no%20model-train%2C%202%20types%2C%20w%20dropout/runs/9a0q9t98' target=\"_blank\">https://wandb.ai/riaxchoi-heinrich-heine-university-d-sseldorf/LinearClassification%20no%20model-train%2C%202%20types%2C%20w%20dropout/runs/9a0q9t98</a>"
      ],
      "text/plain": [
       "<IPython.core.display.HTML object>"
      ]
     },
     "metadata": {},
     "output_type": "display_data"
    },
    {
     "name": "stdout",
     "output_type": "stream",
     "text": [
      "Initial Accuracy without Training: 70.64%\n"
     ]
    },
    {
     "data": {
      "application/vnd.jupyter.widget-view+json": {
       "model_id": "9011f42af7be4a0f99c2c0ab318a2f88",
       "version_major": 2,
       "version_minor": 0
      },
      "text/plain": [
       "VBox(children=(Label(value='0.005 MB of 0.005 MB uploaded\\r'), FloatProgress(value=1.0, max=1.0)))"
      ]
     },
     "metadata": {},
     "output_type": "display_data"
    },
    {
     "data": {
      "text/html": [
       "<style>\n",
       "    table.wandb td:nth-child(1) { padding: 0 10px; text-align: left ; width: auto;} td:nth-child(2) {text-align: left ; width: 100%}\n",
       "    .wandb-row { display: flex; flex-direction: row; flex-wrap: wrap; justify-content: flex-start; width: 100% }\n",
       "    .wandb-col { display: flex; flex-direction: column; flex-basis: 100%; flex: 1; padding: 10px; }\n",
       "    </style>\n",
       "<div class=\"wandb-row\"><div class=\"wandb-col\"><h3>Run history:</h3><br/><table class=\"wandb\"><tr><td>ROC-AUC Score</td><td>▁</td></tr><tr><td>accuracy</td><td>▁</td></tr><tr><td>f1_AFib</td><td>▁</td></tr><tr><td>f1_non-AFib</td><td>▁</td></tr><tr><td>initial_accuracy</td><td>▁</td></tr><tr><td>precision_AFib</td><td>▁</td></tr><tr><td>precision_non-AFib</td><td>▁</td></tr><tr><td>recall_AFib</td><td>▁</td></tr><tr><td>recall_non-AFib</td><td>▁</td></tr></table><br/></div><div class=\"wandb-col\"><h3>Run summary:</h3><br/><table class=\"wandb\"><tr><td>ROC-AUC Score</td><td>0.78981</td></tr><tr><td>accuracy</td><td>0.70637</td></tr><tr><td>f1_AFib</td><td>0.47937</td></tr><tr><td>f1_non-AFib</td><td>0.79552</td></tr><tr><td>initial_accuracy</td><td>0.70637</td></tr><tr><td>precision_AFib</td><td>0.35362</td></tr><tr><td>precision_non-AFib</td><td>0.92466</td></tr><tr><td>recall_AFib</td><td>0.7439</td></tr><tr><td>recall_non-AFib</td><td>0.69804</td></tr></table><br/></div></div>"
      ],
      "text/plain": [
       "<IPython.core.display.HTML object>"
      ]
     },
     "metadata": {},
     "output_type": "display_data"
    },
    {
     "data": {
      "text/html": [
       " View run <strong style=\"color:#cdcd00\">('TS', 'ClassifierNN', 256)</strong> at: <a href='https://wandb.ai/riaxchoi-heinrich-heine-university-d-sseldorf/LinearClassification%20no%20model-train%2C%202%20types%2C%20w%20dropout/runs/9a0q9t98' target=\"_blank\">https://wandb.ai/riaxchoi-heinrich-heine-university-d-sseldorf/LinearClassification%20no%20model-train%2C%202%20types%2C%20w%20dropout/runs/9a0q9t98</a><br/> View project at: <a href='https://wandb.ai/riaxchoi-heinrich-heine-university-d-sseldorf/LinearClassification%20no%20model-train%2C%202%20types%2C%20w%20dropout' target=\"_blank\">https://wandb.ai/riaxchoi-heinrich-heine-university-d-sseldorf/LinearClassification%20no%20model-train%2C%202%20types%2C%20w%20dropout</a><br/>Synced 6 W&B file(s), 0 media file(s), 0 artifact file(s) and 0 other file(s)"
      ],
      "text/plain": [
       "<IPython.core.display.HTML object>"
      ]
     },
     "metadata": {},
     "output_type": "display_data"
    },
    {
     "data": {
      "text/html": [
       "Find logs at: <code>./wandb/run-20241129_181527-9a0q9t98/logs</code>"
      ],
      "text/plain": [
       "<IPython.core.display.HTML object>"
      ]
     },
     "metadata": {},
     "output_type": "display_data"
    },
    {
     "data": {
      "text/html": [
       "The new W&B backend becomes opt-out in version 0.18.0; try it out with `wandb.require(\"core\")`! See https://wandb.me/wandb-core for more information."
      ],
      "text/plain": [
       "<IPython.core.display.HTML object>"
      ]
     },
     "metadata": {},
     "output_type": "display_data"
    },
    {
     "name": "stdout",
     "output_type": "stream",
     "text": [
      "Running with model: TS, classification:ClassifierNN, batch size: 512\n"
     ]
    },
    {
     "data": {
      "application/vnd.jupyter.widget-view+json": {
       "model_id": "8f2d9b81845a45e9ad184b8459809203",
       "version_major": 2,
       "version_minor": 0
      },
      "text/plain": [
       "VBox(children=(Label(value='Waiting for wandb.init()...\\r'), FloatProgress(value=0.011113908065534714, max=1.0…"
      ]
     },
     "metadata": {},
     "output_type": "display_data"
    },
    {
     "data": {
      "text/html": [
       "wandb version 0.18.7 is available!  To upgrade, please run:\n",
       " $ pip install wandb --upgrade"
      ],
      "text/plain": [
       "<IPython.core.display.HTML object>"
      ]
     },
     "metadata": {},
     "output_type": "display_data"
    },
    {
     "data": {
      "text/html": [
       "Tracking run with wandb version 0.17.6"
      ],
      "text/plain": [
       "<IPython.core.display.HTML object>"
      ]
     },
     "metadata": {},
     "output_type": "display_data"
    },
    {
     "data": {
      "text/html": [
       "Run data is saved locally in <code>/home/ria/MMBSintern/bachelor/exercise/wandb/run-20241129_181539-f7zjs33m</code>"
      ],
      "text/plain": [
       "<IPython.core.display.HTML object>"
      ]
     },
     "metadata": {},
     "output_type": "display_data"
    },
    {
     "data": {
      "text/html": [
       "Syncing run <strong><a href='https://wandb.ai/riaxchoi-heinrich-heine-university-d-sseldorf/LinearClassification%20no%20model-train%2C%202%20types%2C%20w%20dropout/runs/f7zjs33m' target=\"_blank\">('TS', 'ClassifierNN', 512)</a></strong> to <a href='https://wandb.ai/riaxchoi-heinrich-heine-university-d-sseldorf/LinearClassification%20no%20model-train%2C%202%20types%2C%20w%20dropout' target=\"_blank\">Weights & Biases</a> (<a href='https://wandb.me/run' target=\"_blank\">docs</a>)<br/>"
      ],
      "text/plain": [
       "<IPython.core.display.HTML object>"
      ]
     },
     "metadata": {},
     "output_type": "display_data"
    },
    {
     "data": {
      "text/html": [
       " View project at <a href='https://wandb.ai/riaxchoi-heinrich-heine-university-d-sseldorf/LinearClassification%20no%20model-train%2C%202%20types%2C%20w%20dropout' target=\"_blank\">https://wandb.ai/riaxchoi-heinrich-heine-university-d-sseldorf/LinearClassification%20no%20model-train%2C%202%20types%2C%20w%20dropout</a>"
      ],
      "text/plain": [
       "<IPython.core.display.HTML object>"
      ]
     },
     "metadata": {},
     "output_type": "display_data"
    },
    {
     "data": {
      "text/html": [
       " View run at <a href='https://wandb.ai/riaxchoi-heinrich-heine-university-d-sseldorf/LinearClassification%20no%20model-train%2C%202%20types%2C%20w%20dropout/runs/f7zjs33m' target=\"_blank\">https://wandb.ai/riaxchoi-heinrich-heine-university-d-sseldorf/LinearClassification%20no%20model-train%2C%202%20types%2C%20w%20dropout/runs/f7zjs33m</a>"
      ],
      "text/plain": [
       "<IPython.core.display.HTML object>"
      ]
     },
     "metadata": {},
     "output_type": "display_data"
    },
    {
     "name": "stdout",
     "output_type": "stream",
     "text": [
      "Initial Accuracy without Training: 75.01%\n"
     ]
    },
    {
     "data": {
      "application/vnd.jupyter.widget-view+json": {
       "model_id": "5bdca83936dd49dfb852d480faa6fe73",
       "version_major": 2,
       "version_minor": 0
      },
      "text/plain": [
       "VBox(children=(Label(value='0.005 MB of 0.005 MB uploaded\\r'), FloatProgress(value=1.0, max=1.0)))"
      ]
     },
     "metadata": {},
     "output_type": "display_data"
    },
    {
     "data": {
      "text/html": [
       "<style>\n",
       "    table.wandb td:nth-child(1) { padding: 0 10px; text-align: left ; width: auto;} td:nth-child(2) {text-align: left ; width: 100%}\n",
       "    .wandb-row { display: flex; flex-direction: row; flex-wrap: wrap; justify-content: flex-start; width: 100% }\n",
       "    .wandb-col { display: flex; flex-direction: column; flex-basis: 100%; flex: 1; padding: 10px; }\n",
       "    </style>\n",
       "<div class=\"wandb-row\"><div class=\"wandb-col\"><h3>Run history:</h3><br/><table class=\"wandb\"><tr><td>ROC-AUC Score</td><td>▁</td></tr><tr><td>accuracy</td><td>▁</td></tr><tr><td>f1_AFib</td><td>▁</td></tr><tr><td>f1_non-AFib</td><td>▁</td></tr><tr><td>initial_accuracy</td><td>▁</td></tr><tr><td>precision_AFib</td><td>▁</td></tr><tr><td>precision_non-AFib</td><td>▁</td></tr><tr><td>recall_AFib</td><td>▁</td></tr><tr><td>recall_non-AFib</td><td>▁</td></tr></table><br/></div><div class=\"wandb-col\"><h3>Run summary:</h3><br/><table class=\"wandb\"><tr><td>ROC-AUC Score</td><td>0.80795</td></tr><tr><td>accuracy</td><td>0.75014</td></tr><tr><td>f1_AFib</td><td>0.50602</td></tr><tr><td>f1_non-AFib</td><td>0.83278</td></tr><tr><td>initial_accuracy</td><td>0.75014</td></tr><tr><td>precision_AFib</td><td>0.39487</td></tr><tr><td>precision_non-AFib</td><td>0.92049</td></tr><tr><td>recall_AFib</td><td>0.70427</td></tr><tr><td>recall_non-AFib</td><td>0.76032</td></tr></table><br/></div></div>"
      ],
      "text/plain": [
       "<IPython.core.display.HTML object>"
      ]
     },
     "metadata": {},
     "output_type": "display_data"
    },
    {
     "data": {
      "text/html": [
       " View run <strong style=\"color:#cdcd00\">('TS', 'ClassifierNN', 512)</strong> at: <a href='https://wandb.ai/riaxchoi-heinrich-heine-university-d-sseldorf/LinearClassification%20no%20model-train%2C%202%20types%2C%20w%20dropout/runs/f7zjs33m' target=\"_blank\">https://wandb.ai/riaxchoi-heinrich-heine-university-d-sseldorf/LinearClassification%20no%20model-train%2C%202%20types%2C%20w%20dropout/runs/f7zjs33m</a><br/> View project at: <a href='https://wandb.ai/riaxchoi-heinrich-heine-university-d-sseldorf/LinearClassification%20no%20model-train%2C%202%20types%2C%20w%20dropout' target=\"_blank\">https://wandb.ai/riaxchoi-heinrich-heine-university-d-sseldorf/LinearClassification%20no%20model-train%2C%202%20types%2C%20w%20dropout</a><br/>Synced 6 W&B file(s), 0 media file(s), 0 artifact file(s) and 0 other file(s)"
      ],
      "text/plain": [
       "<IPython.core.display.HTML object>"
      ]
     },
     "metadata": {},
     "output_type": "display_data"
    },
    {
     "data": {
      "text/html": [
       "Find logs at: <code>./wandb/run-20241129_181539-f7zjs33m/logs</code>"
      ],
      "text/plain": [
       "<IPython.core.display.HTML object>"
      ]
     },
     "metadata": {},
     "output_type": "display_data"
    },
    {
     "data": {
      "text/html": [
       "The new W&B backend becomes opt-out in version 0.18.0; try it out with `wandb.require(\"core\")`! See https://wandb.me/wandb-core for more information."
      ],
      "text/plain": [
       "<IPython.core.display.HTML object>"
      ]
     },
     "metadata": {},
     "output_type": "display_data"
    },
    {
     "name": "stdout",
     "output_type": "stream",
     "text": [
      "Running with model: TS, classification:ClassifierNN, batch size: 1024\n"
     ]
    },
    {
     "data": {
      "application/vnd.jupyter.widget-view+json": {
       "model_id": "974fbd7c4927439fba069b5b60776413",
       "version_major": 2,
       "version_minor": 0
      },
      "text/plain": [
       "VBox(children=(Label(value='Waiting for wandb.init()...\\r'), FloatProgress(value=0.011113257822580635, max=1.0…"
      ]
     },
     "metadata": {},
     "output_type": "display_data"
    },
    {
     "data": {
      "text/html": [
       "wandb version 0.18.7 is available!  To upgrade, please run:\n",
       " $ pip install wandb --upgrade"
      ],
      "text/plain": [
       "<IPython.core.display.HTML object>"
      ]
     },
     "metadata": {},
     "output_type": "display_data"
    },
    {
     "data": {
      "text/html": [
       "Tracking run with wandb version 0.17.6"
      ],
      "text/plain": [
       "<IPython.core.display.HTML object>"
      ]
     },
     "metadata": {},
     "output_type": "display_data"
    },
    {
     "data": {
      "text/html": [
       "Run data is saved locally in <code>/home/ria/MMBSintern/bachelor/exercise/wandb/run-20241129_181549-drja2q9p</code>"
      ],
      "text/plain": [
       "<IPython.core.display.HTML object>"
      ]
     },
     "metadata": {},
     "output_type": "display_data"
    },
    {
     "data": {
      "text/html": [
       "Syncing run <strong><a href='https://wandb.ai/riaxchoi-heinrich-heine-university-d-sseldorf/LinearClassification%20no%20model-train%2C%202%20types%2C%20w%20dropout/runs/drja2q9p' target=\"_blank\">('TS', 'ClassifierNN', 1024)</a></strong> to <a href='https://wandb.ai/riaxchoi-heinrich-heine-university-d-sseldorf/LinearClassification%20no%20model-train%2C%202%20types%2C%20w%20dropout' target=\"_blank\">Weights & Biases</a> (<a href='https://wandb.me/run' target=\"_blank\">docs</a>)<br/>"
      ],
      "text/plain": [
       "<IPython.core.display.HTML object>"
      ]
     },
     "metadata": {},
     "output_type": "display_data"
    },
    {
     "data": {
      "text/html": [
       " View project at <a href='https://wandb.ai/riaxchoi-heinrich-heine-university-d-sseldorf/LinearClassification%20no%20model-train%2C%202%20types%2C%20w%20dropout' target=\"_blank\">https://wandb.ai/riaxchoi-heinrich-heine-university-d-sseldorf/LinearClassification%20no%20model-train%2C%202%20types%2C%20w%20dropout</a>"
      ],
      "text/plain": [
       "<IPython.core.display.HTML object>"
      ]
     },
     "metadata": {},
     "output_type": "display_data"
    },
    {
     "data": {
      "text/html": [
       " View run at <a href='https://wandb.ai/riaxchoi-heinrich-heine-university-d-sseldorf/LinearClassification%20no%20model-train%2C%202%20types%2C%20w%20dropout/runs/drja2q9p' target=\"_blank\">https://wandb.ai/riaxchoi-heinrich-heine-university-d-sseldorf/LinearClassification%20no%20model-train%2C%202%20types%2C%20w%20dropout/runs/drja2q9p</a>"
      ],
      "text/plain": [
       "<IPython.core.display.HTML object>"
      ]
     },
     "metadata": {},
     "output_type": "display_data"
    },
    {
     "name": "stdout",
     "output_type": "stream",
     "text": [
      "Initial Accuracy without Training: 70.91%\n"
     ]
    },
    {
     "data": {
      "application/vnd.jupyter.widget-view+json": {
       "model_id": "22fda8b65c9644b38447402134dfcfdf",
       "version_major": 2,
       "version_minor": 0
      },
      "text/plain": [
       "VBox(children=(Label(value='0.005 MB of 0.005 MB uploaded\\r'), FloatProgress(value=1.0, max=1.0)))"
      ]
     },
     "metadata": {},
     "output_type": "display_data"
    },
    {
     "data": {
      "text/html": [
       "<style>\n",
       "    table.wandb td:nth-child(1) { padding: 0 10px; text-align: left ; width: auto;} td:nth-child(2) {text-align: left ; width: 100%}\n",
       "    .wandb-row { display: flex; flex-direction: row; flex-wrap: wrap; justify-content: flex-start; width: 100% }\n",
       "    .wandb-col { display: flex; flex-direction: column; flex-basis: 100%; flex: 1; padding: 10px; }\n",
       "    </style>\n",
       "<div class=\"wandb-row\"><div class=\"wandb-col\"><h3>Run history:</h3><br/><table class=\"wandb\"><tr><td>ROC-AUC Score</td><td>▁</td></tr><tr><td>accuracy</td><td>▁</td></tr><tr><td>f1_AFib</td><td>▁</td></tr><tr><td>f1_non-AFib</td><td>▁</td></tr><tr><td>initial_accuracy</td><td>▁</td></tr><tr><td>precision_AFib</td><td>▁</td></tr><tr><td>precision_non-AFib</td><td>▁</td></tr><tr><td>recall_AFib</td><td>▁</td></tr><tr><td>recall_non-AFib</td><td>▁</td></tr></table><br/></div><div class=\"wandb-col\"><h3>Run summary:</h3><br/><table class=\"wandb\"><tr><td>ROC-AUC Score</td><td>0.78539</td></tr><tr><td>accuracy</td><td>0.70914</td></tr><tr><td>f1_AFib</td><td>0.46374</td></tr><tr><td>f1_non-AFib</td><td>0.80046</td></tr><tr><td>initial_accuracy</td><td>0.70914</td></tr><tr><td>precision_AFib</td><td>0.34869</td></tr><tr><td>precision_non-AFib</td><td>0.91248</td></tr><tr><td>recall_AFib</td><td>0.69207</td></tr><tr><td>recall_non-AFib</td><td>0.71293</td></tr></table><br/></div></div>"
      ],
      "text/plain": [
       "<IPython.core.display.HTML object>"
      ]
     },
     "metadata": {},
     "output_type": "display_data"
    },
    {
     "data": {
      "text/html": [
       " View run <strong style=\"color:#cdcd00\">('TS', 'ClassifierNN', 1024)</strong> at: <a href='https://wandb.ai/riaxchoi-heinrich-heine-university-d-sseldorf/LinearClassification%20no%20model-train%2C%202%20types%2C%20w%20dropout/runs/drja2q9p' target=\"_blank\">https://wandb.ai/riaxchoi-heinrich-heine-university-d-sseldorf/LinearClassification%20no%20model-train%2C%202%20types%2C%20w%20dropout/runs/drja2q9p</a><br/> View project at: <a href='https://wandb.ai/riaxchoi-heinrich-heine-university-d-sseldorf/LinearClassification%20no%20model-train%2C%202%20types%2C%20w%20dropout' target=\"_blank\">https://wandb.ai/riaxchoi-heinrich-heine-university-d-sseldorf/LinearClassification%20no%20model-train%2C%202%20types%2C%20w%20dropout</a><br/>Synced 6 W&B file(s), 0 media file(s), 0 artifact file(s) and 0 other file(s)"
      ],
      "text/plain": [
       "<IPython.core.display.HTML object>"
      ]
     },
     "metadata": {},
     "output_type": "display_data"
    },
    {
     "data": {
      "text/html": [
       "Find logs at: <code>./wandb/run-20241129_181549-drja2q9p/logs</code>"
      ],
      "text/plain": [
       "<IPython.core.display.HTML object>"
      ]
     },
     "metadata": {},
     "output_type": "display_data"
    },
    {
     "data": {
      "text/html": [
       "The new W&B backend becomes opt-out in version 0.18.0; try it out with `wandb.require(\"core\")`! See https://wandb.me/wandb-core for more information."
      ],
      "text/plain": [
       "<IPython.core.display.HTML object>"
      ]
     },
     "metadata": {},
     "output_type": "display_data"
    },
    {
     "name": "stdout",
     "output_type": "stream",
     "text": [
      "Running with model: TS, classification:ClassifierNN, batch size: 2048\n"
     ]
    },
    {
     "data": {
      "application/vnd.jupyter.widget-view+json": {
       "model_id": "4c7a4fd68f384bfbb7f901f439a0f12f",
       "version_major": 2,
       "version_minor": 0
      },
      "text/plain": [
       "VBox(children=(Label(value='Waiting for wandb.init()...\\r'), FloatProgress(value=0.01111355201056641, max=1.0)…"
      ]
     },
     "metadata": {},
     "output_type": "display_data"
    },
    {
     "data": {
      "text/html": [
       "wandb version 0.18.7 is available!  To upgrade, please run:\n",
       " $ pip install wandb --upgrade"
      ],
      "text/plain": [
       "<IPython.core.display.HTML object>"
      ]
     },
     "metadata": {},
     "output_type": "display_data"
    },
    {
     "data": {
      "text/html": [
       "Tracking run with wandb version 0.17.6"
      ],
      "text/plain": [
       "<IPython.core.display.HTML object>"
      ]
     },
     "metadata": {},
     "output_type": "display_data"
    },
    {
     "data": {
      "text/html": [
       "Run data is saved locally in <code>/home/ria/MMBSintern/bachelor/exercise/wandb/run-20241129_181559-ezkap4tf</code>"
      ],
      "text/plain": [
       "<IPython.core.display.HTML object>"
      ]
     },
     "metadata": {},
     "output_type": "display_data"
    },
    {
     "data": {
      "text/html": [
       "Syncing run <strong><a href='https://wandb.ai/riaxchoi-heinrich-heine-university-d-sseldorf/LinearClassification%20no%20model-train%2C%202%20types%2C%20w%20dropout/runs/ezkap4tf' target=\"_blank\">('TS', 'ClassifierNN', 2048)</a></strong> to <a href='https://wandb.ai/riaxchoi-heinrich-heine-university-d-sseldorf/LinearClassification%20no%20model-train%2C%202%20types%2C%20w%20dropout' target=\"_blank\">Weights & Biases</a> (<a href='https://wandb.me/run' target=\"_blank\">docs</a>)<br/>"
      ],
      "text/plain": [
       "<IPython.core.display.HTML object>"
      ]
     },
     "metadata": {},
     "output_type": "display_data"
    },
    {
     "data": {
      "text/html": [
       " View project at <a href='https://wandb.ai/riaxchoi-heinrich-heine-university-d-sseldorf/LinearClassification%20no%20model-train%2C%202%20types%2C%20w%20dropout' target=\"_blank\">https://wandb.ai/riaxchoi-heinrich-heine-university-d-sseldorf/LinearClassification%20no%20model-train%2C%202%20types%2C%20w%20dropout</a>"
      ],
      "text/plain": [
       "<IPython.core.display.HTML object>"
      ]
     },
     "metadata": {},
     "output_type": "display_data"
    },
    {
     "data": {
      "text/html": [
       " View run at <a href='https://wandb.ai/riaxchoi-heinrich-heine-university-d-sseldorf/LinearClassification%20no%20model-train%2C%202%20types%2C%20w%20dropout/runs/ezkap4tf' target=\"_blank\">https://wandb.ai/riaxchoi-heinrich-heine-university-d-sseldorf/LinearClassification%20no%20model-train%2C%202%20types%2C%20w%20dropout/runs/ezkap4tf</a>"
      ],
      "text/plain": [
       "<IPython.core.display.HTML object>"
      ]
     },
     "metadata": {},
     "output_type": "display_data"
    },
    {
     "name": "stdout",
     "output_type": "stream",
     "text": [
      "Initial Accuracy without Training: 70.69%\n"
     ]
    },
    {
     "data": {
      "application/vnd.jupyter.widget-view+json": {
       "model_id": "663af7a80b1541d18259dd66888ba6fb",
       "version_major": 2,
       "version_minor": 0
      },
      "text/plain": [
       "VBox(children=(Label(value='0.005 MB of 0.005 MB uploaded\\r'), FloatProgress(value=1.0, max=1.0)))"
      ]
     },
     "metadata": {},
     "output_type": "display_data"
    },
    {
     "data": {
      "text/html": [
       "<style>\n",
       "    table.wandb td:nth-child(1) { padding: 0 10px; text-align: left ; width: auto;} td:nth-child(2) {text-align: left ; width: 100%}\n",
       "    .wandb-row { display: flex; flex-direction: row; flex-wrap: wrap; justify-content: flex-start; width: 100% }\n",
       "    .wandb-col { display: flex; flex-direction: column; flex-basis: 100%; flex: 1; padding: 10px; }\n",
       "    </style>\n",
       "<div class=\"wandb-row\"><div class=\"wandb-col\"><h3>Run history:</h3><br/><table class=\"wandb\"><tr><td>ROC-AUC Score</td><td>▁</td></tr><tr><td>accuracy</td><td>▁</td></tr><tr><td>f1_AFib</td><td>▁</td></tr><tr><td>f1_non-AFib</td><td>▁</td></tr><tr><td>initial_accuracy</td><td>▁</td></tr><tr><td>precision_AFib</td><td>▁</td></tr><tr><td>precision_non-AFib</td><td>▁</td></tr><tr><td>recall_AFib</td><td>▁</td></tr><tr><td>recall_non-AFib</td><td>▁</td></tr></table><br/></div><div class=\"wandb-col\"><h3>Run summary:</h3><br/><table class=\"wandb\"><tr><td>ROC-AUC Score</td><td>0.79934</td></tr><tr><td>accuracy</td><td>0.70693</td></tr><tr><td>f1_AFib</td><td>0.47984</td></tr><tr><td>f1_non-AFib</td><td>0.79599</td></tr><tr><td>initial_accuracy</td><td>0.70693</td></tr><tr><td>precision_AFib</td><td>0.35414</td></tr><tr><td>precision_non-AFib</td><td>0.92473</td></tr><tr><td>recall_AFib</td><td>0.7439</td></tr><tr><td>recall_non-AFib</td><td>0.69871</td></tr></table><br/></div></div>"
      ],
      "text/plain": [
       "<IPython.core.display.HTML object>"
      ]
     },
     "metadata": {},
     "output_type": "display_data"
    },
    {
     "data": {
      "text/html": [
       " View run <strong style=\"color:#cdcd00\">('TS', 'ClassifierNN', 2048)</strong> at: <a href='https://wandb.ai/riaxchoi-heinrich-heine-university-d-sseldorf/LinearClassification%20no%20model-train%2C%202%20types%2C%20w%20dropout/runs/ezkap4tf' target=\"_blank\">https://wandb.ai/riaxchoi-heinrich-heine-university-d-sseldorf/LinearClassification%20no%20model-train%2C%202%20types%2C%20w%20dropout/runs/ezkap4tf</a><br/> View project at: <a href='https://wandb.ai/riaxchoi-heinrich-heine-university-d-sseldorf/LinearClassification%20no%20model-train%2C%202%20types%2C%20w%20dropout' target=\"_blank\">https://wandb.ai/riaxchoi-heinrich-heine-university-d-sseldorf/LinearClassification%20no%20model-train%2C%202%20types%2C%20w%20dropout</a><br/>Synced 6 W&B file(s), 0 media file(s), 0 artifact file(s) and 0 other file(s)"
      ],
      "text/plain": [
       "<IPython.core.display.HTML object>"
      ]
     },
     "metadata": {},
     "output_type": "display_data"
    },
    {
     "data": {
      "text/html": [
       "Find logs at: <code>./wandb/run-20241129_181559-ezkap4tf/logs</code>"
      ],
      "text/plain": [
       "<IPython.core.display.HTML object>"
      ]
     },
     "metadata": {},
     "output_type": "display_data"
    },
    {
     "data": {
      "text/html": [
       "The new W&B backend becomes opt-out in version 0.18.0; try it out with `wandb.require(\"core\")`! See https://wandb.me/wandb-core for more information."
      ],
      "text/plain": [
       "<IPython.core.display.HTML object>"
      ]
     },
     "metadata": {},
     "output_type": "display_data"
    },
    {
     "name": "stdout",
     "output_type": "stream",
     "text": [
      "Running with model: TS, classification:LogisticRegression, batch size: 256\n"
     ]
    },
    {
     "data": {
      "application/vnd.jupyter.widget-view+json": {
       "model_id": "fa1bb504f8d94dacb12cb028c90ecff7",
       "version_major": 2,
       "version_minor": 0
      },
      "text/plain": [
       "VBox(children=(Label(value='Waiting for wandb.init()...\\r'), FloatProgress(value=0.01111263856679822, max=1.0)…"
      ]
     },
     "metadata": {},
     "output_type": "display_data"
    },
    {
     "data": {
      "text/html": [
       "wandb version 0.18.7 is available!  To upgrade, please run:\n",
       " $ pip install wandb --upgrade"
      ],
      "text/plain": [
       "<IPython.core.display.HTML object>"
      ]
     },
     "metadata": {},
     "output_type": "display_data"
    },
    {
     "data": {
      "text/html": [
       "Tracking run with wandb version 0.17.6"
      ],
      "text/plain": [
       "<IPython.core.display.HTML object>"
      ]
     },
     "metadata": {},
     "output_type": "display_data"
    },
    {
     "data": {
      "text/html": [
       "Run data is saved locally in <code>/home/ria/MMBSintern/bachelor/exercise/wandb/run-20241129_181610-j0axyx7o</code>"
      ],
      "text/plain": [
       "<IPython.core.display.HTML object>"
      ]
     },
     "metadata": {},
     "output_type": "display_data"
    },
    {
     "data": {
      "text/html": [
       "Syncing run <strong><a href='https://wandb.ai/riaxchoi-heinrich-heine-university-d-sseldorf/LinearClassification%20no%20model-train%2C%202%20types%2C%20w%20dropout/runs/j0axyx7o' target=\"_blank\">('TS', 'LogisticRegression', 256)</a></strong> to <a href='https://wandb.ai/riaxchoi-heinrich-heine-university-d-sseldorf/LinearClassification%20no%20model-train%2C%202%20types%2C%20w%20dropout' target=\"_blank\">Weights & Biases</a> (<a href='https://wandb.me/run' target=\"_blank\">docs</a>)<br/>"
      ],
      "text/plain": [
       "<IPython.core.display.HTML object>"
      ]
     },
     "metadata": {},
     "output_type": "display_data"
    },
    {
     "data": {
      "text/html": [
       " View project at <a href='https://wandb.ai/riaxchoi-heinrich-heine-university-d-sseldorf/LinearClassification%20no%20model-train%2C%202%20types%2C%20w%20dropout' target=\"_blank\">https://wandb.ai/riaxchoi-heinrich-heine-university-d-sseldorf/LinearClassification%20no%20model-train%2C%202%20types%2C%20w%20dropout</a>"
      ],
      "text/plain": [
       "<IPython.core.display.HTML object>"
      ]
     },
     "metadata": {},
     "output_type": "display_data"
    },
    {
     "data": {
      "text/html": [
       " View run at <a href='https://wandb.ai/riaxchoi-heinrich-heine-university-d-sseldorf/LinearClassification%20no%20model-train%2C%202%20types%2C%20w%20dropout/runs/j0axyx7o' target=\"_blank\">https://wandb.ai/riaxchoi-heinrich-heine-university-d-sseldorf/LinearClassification%20no%20model-train%2C%202%20types%2C%20w%20dropout/runs/j0axyx7o</a>"
      ],
      "text/plain": [
       "<IPython.core.display.HTML object>"
      ]
     },
     "metadata": {},
     "output_type": "display_data"
    },
    {
     "name": "stdout",
     "output_type": "stream",
     "text": [
      "Initial Accuracy without Training: 71.30%\n"
     ]
    },
    {
     "data": {
      "application/vnd.jupyter.widget-view+json": {
       "model_id": "2d0bf851b2b244e484574c8703f76205",
       "version_major": 2,
       "version_minor": 0
      },
      "text/plain": [
       "VBox(children=(Label(value='0.005 MB of 0.005 MB uploaded\\r'), FloatProgress(value=1.0, max=1.0)))"
      ]
     },
     "metadata": {},
     "output_type": "display_data"
    },
    {
     "data": {
      "text/html": [
       "<style>\n",
       "    table.wandb td:nth-child(1) { padding: 0 10px; text-align: left ; width: auto;} td:nth-child(2) {text-align: left ; width: 100%}\n",
       "    .wandb-row { display: flex; flex-direction: row; flex-wrap: wrap; justify-content: flex-start; width: 100% }\n",
       "    .wandb-col { display: flex; flex-direction: column; flex-basis: 100%; flex: 1; padding: 10px; }\n",
       "    </style>\n",
       "<div class=\"wandb-row\"><div class=\"wandb-col\"><h3>Run history:</h3><br/><table class=\"wandb\"><tr><td>ROC-AUC Score</td><td>▁</td></tr><tr><td>accuracy</td><td>▁</td></tr><tr><td>f1_AFib</td><td>▁</td></tr><tr><td>f1_non-AFib</td><td>▁</td></tr><tr><td>initial_accuracy</td><td>▁</td></tr><tr><td>precision_AFib</td><td>▁</td></tr><tr><td>precision_non-AFib</td><td>▁</td></tr><tr><td>recall_AFib</td><td>▁</td></tr><tr><td>recall_non-AFib</td><td>▁</td></tr></table><br/></div><div class=\"wandb-col\"><h3>Run summary:</h3><br/><table class=\"wandb\"><tr><td>ROC-AUC Score</td><td>0.79594</td></tr><tr><td>accuracy</td><td>0.71302</td></tr><tr><td>f1_AFib</td><td>0.49513</td></tr><tr><td>f1_non-AFib</td><td>0.79954</td></tr><tr><td>initial_accuracy</td><td>0.71302</td></tr><tr><td>precision_AFib</td><td>0.3639</td></tr><tr><td>precision_non-AFib</td><td>0.93315</td></tr><tr><td>recall_AFib</td><td>0.77439</td></tr><tr><td>recall_non-AFib</td><td>0.69939</td></tr></table><br/></div></div>"
      ],
      "text/plain": [
       "<IPython.core.display.HTML object>"
      ]
     },
     "metadata": {},
     "output_type": "display_data"
    },
    {
     "data": {
      "text/html": [
       " View run <strong style=\"color:#cdcd00\">('TS', 'LogisticRegression', 256)</strong> at: <a href='https://wandb.ai/riaxchoi-heinrich-heine-university-d-sseldorf/LinearClassification%20no%20model-train%2C%202%20types%2C%20w%20dropout/runs/j0axyx7o' target=\"_blank\">https://wandb.ai/riaxchoi-heinrich-heine-university-d-sseldorf/LinearClassification%20no%20model-train%2C%202%20types%2C%20w%20dropout/runs/j0axyx7o</a><br/> View project at: <a href='https://wandb.ai/riaxchoi-heinrich-heine-university-d-sseldorf/LinearClassification%20no%20model-train%2C%202%20types%2C%20w%20dropout' target=\"_blank\">https://wandb.ai/riaxchoi-heinrich-heine-university-d-sseldorf/LinearClassification%20no%20model-train%2C%202%20types%2C%20w%20dropout</a><br/>Synced 6 W&B file(s), 0 media file(s), 0 artifact file(s) and 0 other file(s)"
      ],
      "text/plain": [
       "<IPython.core.display.HTML object>"
      ]
     },
     "metadata": {},
     "output_type": "display_data"
    },
    {
     "data": {
      "text/html": [
       "Find logs at: <code>./wandb/run-20241129_181610-j0axyx7o/logs</code>"
      ],
      "text/plain": [
       "<IPython.core.display.HTML object>"
      ]
     },
     "metadata": {},
     "output_type": "display_data"
    },
    {
     "data": {
      "text/html": [
       "The new W&B backend becomes opt-out in version 0.18.0; try it out with `wandb.require(\"core\")`! See https://wandb.me/wandb-core for more information."
      ],
      "text/plain": [
       "<IPython.core.display.HTML object>"
      ]
     },
     "metadata": {},
     "output_type": "display_data"
    },
    {
     "name": "stdout",
     "output_type": "stream",
     "text": [
      "Running with model: TS, classification:LogisticRegression, batch size: 512\n"
     ]
    },
    {
     "data": {
      "application/vnd.jupyter.widget-view+json": {
       "model_id": "1e61000111bf4173b2d687a6a886bd3e",
       "version_major": 2,
       "version_minor": 0
      },
      "text/plain": [
       "VBox(children=(Label(value='Waiting for wandb.init()...\\r'), FloatProgress(value=0.011112205021911197, max=1.0…"
      ]
     },
     "metadata": {},
     "output_type": "display_data"
    },
    {
     "data": {
      "text/html": [
       "wandb version 0.18.7 is available!  To upgrade, please run:\n",
       " $ pip install wandb --upgrade"
      ],
      "text/plain": [
       "<IPython.core.display.HTML object>"
      ]
     },
     "metadata": {},
     "output_type": "display_data"
    },
    {
     "data": {
      "text/html": [
       "Tracking run with wandb version 0.17.6"
      ],
      "text/plain": [
       "<IPython.core.display.HTML object>"
      ]
     },
     "metadata": {},
     "output_type": "display_data"
    },
    {
     "data": {
      "text/html": [
       "Run data is saved locally in <code>/home/ria/MMBSintern/bachelor/exercise/wandb/run-20241129_181625-mr1j0wnr</code>"
      ],
      "text/plain": [
       "<IPython.core.display.HTML object>"
      ]
     },
     "metadata": {},
     "output_type": "display_data"
    },
    {
     "data": {
      "text/html": [
       "Syncing run <strong><a href='https://wandb.ai/riaxchoi-heinrich-heine-university-d-sseldorf/LinearClassification%20no%20model-train%2C%202%20types%2C%20w%20dropout/runs/mr1j0wnr' target=\"_blank\">('TS', 'LogisticRegression', 512)</a></strong> to <a href='https://wandb.ai/riaxchoi-heinrich-heine-university-d-sseldorf/LinearClassification%20no%20model-train%2C%202%20types%2C%20w%20dropout' target=\"_blank\">Weights & Biases</a> (<a href='https://wandb.me/run' target=\"_blank\">docs</a>)<br/>"
      ],
      "text/plain": [
       "<IPython.core.display.HTML object>"
      ]
     },
     "metadata": {},
     "output_type": "display_data"
    },
    {
     "data": {
      "text/html": [
       " View project at <a href='https://wandb.ai/riaxchoi-heinrich-heine-university-d-sseldorf/LinearClassification%20no%20model-train%2C%202%20types%2C%20w%20dropout' target=\"_blank\">https://wandb.ai/riaxchoi-heinrich-heine-university-d-sseldorf/LinearClassification%20no%20model-train%2C%202%20types%2C%20w%20dropout</a>"
      ],
      "text/plain": [
       "<IPython.core.display.HTML object>"
      ]
     },
     "metadata": {},
     "output_type": "display_data"
    },
    {
     "data": {
      "text/html": [
       " View run at <a href='https://wandb.ai/riaxchoi-heinrich-heine-university-d-sseldorf/LinearClassification%20no%20model-train%2C%202%20types%2C%20w%20dropout/runs/mr1j0wnr' target=\"_blank\">https://wandb.ai/riaxchoi-heinrich-heine-university-d-sseldorf/LinearClassification%20no%20model-train%2C%202%20types%2C%20w%20dropout/runs/mr1j0wnr</a>"
      ],
      "text/plain": [
       "<IPython.core.display.HTML object>"
      ]
     },
     "metadata": {},
     "output_type": "display_data"
    },
    {
     "name": "stdout",
     "output_type": "stream",
     "text": [
      "Initial Accuracy without Training: 70.36%\n"
     ]
    },
    {
     "data": {
      "application/vnd.jupyter.widget-view+json": {
       "model_id": "2459dc71b31543668559a45c552b1e60",
       "version_major": 2,
       "version_minor": 0
      },
      "text/plain": [
       "VBox(children=(Label(value='0.005 MB of 0.005 MB uploaded\\r'), FloatProgress(value=1.0, max=1.0)))"
      ]
     },
     "metadata": {},
     "output_type": "display_data"
    },
    {
     "data": {
      "text/html": [
       "<style>\n",
       "    table.wandb td:nth-child(1) { padding: 0 10px; text-align: left ; width: auto;} td:nth-child(2) {text-align: left ; width: 100%}\n",
       "    .wandb-row { display: flex; flex-direction: row; flex-wrap: wrap; justify-content: flex-start; width: 100% }\n",
       "    .wandb-col { display: flex; flex-direction: column; flex-basis: 100%; flex: 1; padding: 10px; }\n",
       "    </style>\n",
       "<div class=\"wandb-row\"><div class=\"wandb-col\"><h3>Run history:</h3><br/><table class=\"wandb\"><tr><td>ROC-AUC Score</td><td>▁</td></tr><tr><td>accuracy</td><td>▁</td></tr><tr><td>f1_AFib</td><td>▁</td></tr><tr><td>f1_non-AFib</td><td>▁</td></tr><tr><td>initial_accuracy</td><td>▁</td></tr><tr><td>precision_AFib</td><td>▁</td></tr><tr><td>precision_non-AFib</td><td>▁</td></tr><tr><td>recall_AFib</td><td>▁</td></tr><tr><td>recall_non-AFib</td><td>▁</td></tr></table><br/></div><div class=\"wandb-col\"><h3>Run summary:</h3><br/><table class=\"wandb\"><tr><td>ROC-AUC Score</td><td>0.78862</td></tr><tr><td>accuracy</td><td>0.7036</td></tr><tr><td>f1_AFib</td><td>0.47498</td></tr><tr><td>f1_non-AFib</td><td>0.79352</td></tr><tr><td>initial_accuracy</td><td>0.7036</td></tr><tr><td>precision_AFib</td><td>0.35022</td></tr><tr><td>precision_non-AFib</td><td>0.9228</td></tr><tr><td>recall_AFib</td><td>0.7378</td></tr><tr><td>recall_non-AFib</td><td>0.69601</td></tr></table><br/></div></div>"
      ],
      "text/plain": [
       "<IPython.core.display.HTML object>"
      ]
     },
     "metadata": {},
     "output_type": "display_data"
    },
    {
     "data": {
      "text/html": [
       " View run <strong style=\"color:#cdcd00\">('TS', 'LogisticRegression', 512)</strong> at: <a href='https://wandb.ai/riaxchoi-heinrich-heine-university-d-sseldorf/LinearClassification%20no%20model-train%2C%202%20types%2C%20w%20dropout/runs/mr1j0wnr' target=\"_blank\">https://wandb.ai/riaxchoi-heinrich-heine-university-d-sseldorf/LinearClassification%20no%20model-train%2C%202%20types%2C%20w%20dropout/runs/mr1j0wnr</a><br/> View project at: <a href='https://wandb.ai/riaxchoi-heinrich-heine-university-d-sseldorf/LinearClassification%20no%20model-train%2C%202%20types%2C%20w%20dropout' target=\"_blank\">https://wandb.ai/riaxchoi-heinrich-heine-university-d-sseldorf/LinearClassification%20no%20model-train%2C%202%20types%2C%20w%20dropout</a><br/>Synced 6 W&B file(s), 0 media file(s), 0 artifact file(s) and 0 other file(s)"
      ],
      "text/plain": [
       "<IPython.core.display.HTML object>"
      ]
     },
     "metadata": {},
     "output_type": "display_data"
    },
    {
     "data": {
      "text/html": [
       "Find logs at: <code>./wandb/run-20241129_181625-mr1j0wnr/logs</code>"
      ],
      "text/plain": [
       "<IPython.core.display.HTML object>"
      ]
     },
     "metadata": {},
     "output_type": "display_data"
    },
    {
     "data": {
      "text/html": [
       "The new W&B backend becomes opt-out in version 0.18.0; try it out with `wandb.require(\"core\")`! See https://wandb.me/wandb-core for more information."
      ],
      "text/plain": [
       "<IPython.core.display.HTML object>"
      ]
     },
     "metadata": {},
     "output_type": "display_data"
    },
    {
     "name": "stdout",
     "output_type": "stream",
     "text": [
      "Running with model: TS, classification:LogisticRegression, batch size: 1024\n"
     ]
    },
    {
     "data": {
      "application/vnd.jupyter.widget-view+json": {
       "model_id": "93ca3f074bb14d99ab9359a019bbc9ee",
       "version_major": 2,
       "version_minor": 0
      },
      "text/plain": [
       "VBox(children=(Label(value='Waiting for wandb.init()...\\r'), FloatProgress(value=0.011113786932805346, max=1.0…"
      ]
     },
     "metadata": {},
     "output_type": "display_data"
    },
    {
     "data": {
      "text/html": [
       "wandb version 0.18.7 is available!  To upgrade, please run:\n",
       " $ pip install wandb --upgrade"
      ],
      "text/plain": [
       "<IPython.core.display.HTML object>"
      ]
     },
     "metadata": {},
     "output_type": "display_data"
    },
    {
     "data": {
      "text/html": [
       "Tracking run with wandb version 0.17.6"
      ],
      "text/plain": [
       "<IPython.core.display.HTML object>"
      ]
     },
     "metadata": {},
     "output_type": "display_data"
    },
    {
     "data": {
      "text/html": [
       "Run data is saved locally in <code>/home/ria/MMBSintern/bachelor/exercise/wandb/run-20241129_181647-e2uxlpsg</code>"
      ],
      "text/plain": [
       "<IPython.core.display.HTML object>"
      ]
     },
     "metadata": {},
     "output_type": "display_data"
    },
    {
     "data": {
      "text/html": [
       "Syncing run <strong><a href='https://wandb.ai/riaxchoi-heinrich-heine-university-d-sseldorf/LinearClassification%20no%20model-train%2C%202%20types%2C%20w%20dropout/runs/e2uxlpsg' target=\"_blank\">('TS', 'LogisticRegression', 1024)</a></strong> to <a href='https://wandb.ai/riaxchoi-heinrich-heine-university-d-sseldorf/LinearClassification%20no%20model-train%2C%202%20types%2C%20w%20dropout' target=\"_blank\">Weights & Biases</a> (<a href='https://wandb.me/run' target=\"_blank\">docs</a>)<br/>"
      ],
      "text/plain": [
       "<IPython.core.display.HTML object>"
      ]
     },
     "metadata": {},
     "output_type": "display_data"
    },
    {
     "data": {
      "text/html": [
       " View project at <a href='https://wandb.ai/riaxchoi-heinrich-heine-university-d-sseldorf/LinearClassification%20no%20model-train%2C%202%20types%2C%20w%20dropout' target=\"_blank\">https://wandb.ai/riaxchoi-heinrich-heine-university-d-sseldorf/LinearClassification%20no%20model-train%2C%202%20types%2C%20w%20dropout</a>"
      ],
      "text/plain": [
       "<IPython.core.display.HTML object>"
      ]
     },
     "metadata": {},
     "output_type": "display_data"
    },
    {
     "data": {
      "text/html": [
       " View run at <a href='https://wandb.ai/riaxchoi-heinrich-heine-university-d-sseldorf/LinearClassification%20no%20model-train%2C%202%20types%2C%20w%20dropout/runs/e2uxlpsg' target=\"_blank\">https://wandb.ai/riaxchoi-heinrich-heine-university-d-sseldorf/LinearClassification%20no%20model-train%2C%202%20types%2C%20w%20dropout/runs/e2uxlpsg</a>"
      ],
      "text/plain": [
       "<IPython.core.display.HTML object>"
      ]
     },
     "metadata": {},
     "output_type": "display_data"
    },
    {
     "name": "stdout",
     "output_type": "stream",
     "text": [
      "Initial Accuracy without Training: 67.81%\n"
     ]
    },
    {
     "data": {
      "application/vnd.jupyter.widget-view+json": {
       "model_id": "c1ffa3838a10495f93e8d04329d797b5",
       "version_major": 2,
       "version_minor": 0
      },
      "text/plain": [
       "VBox(children=(Label(value='0.005 MB of 0.005 MB uploaded\\r'), FloatProgress(value=1.0, max=1.0)))"
      ]
     },
     "metadata": {},
     "output_type": "display_data"
    },
    {
     "data": {
      "text/html": [
       "<style>\n",
       "    table.wandb td:nth-child(1) { padding: 0 10px; text-align: left ; width: auto;} td:nth-child(2) {text-align: left ; width: 100%}\n",
       "    .wandb-row { display: flex; flex-direction: row; flex-wrap: wrap; justify-content: flex-start; width: 100% }\n",
       "    .wandb-col { display: flex; flex-direction: column; flex-basis: 100%; flex: 1; padding: 10px; }\n",
       "    </style>\n",
       "<div class=\"wandb-row\"><div class=\"wandb-col\"><h3>Run history:</h3><br/><table class=\"wandb\"><tr><td>ROC-AUC Score</td><td>▁</td></tr><tr><td>accuracy</td><td>▁</td></tr><tr><td>f1_AFib</td><td>▁</td></tr><tr><td>f1_non-AFib</td><td>▁</td></tr><tr><td>initial_accuracy</td><td>▁</td></tr><tr><td>precision_AFib</td><td>▁</td></tr><tr><td>precision_non-AFib</td><td>▁</td></tr><tr><td>recall_AFib</td><td>▁</td></tr><tr><td>recall_non-AFib</td><td>▁</td></tr></table><br/></div><div class=\"wandb-col\"><h3>Run summary:</h3><br/><table class=\"wandb\"><tr><td>ROC-AUC Score</td><td>0.75771</td></tr><tr><td>accuracy</td><td>0.67812</td></tr><tr><td>f1_AFib</td><td>0.4524</td></tr><tr><td>f1_non-AFib</td><td>0.77207</td></tr><tr><td>initial_accuracy</td><td>0.67812</td></tr><tr><td>precision_AFib</td><td>0.32742</td></tr><tr><td>precision_non-AFib</td><td>0.91791</td></tr><tr><td>recall_AFib</td><td>0.73171</td></tr><tr><td>recall_non-AFib</td><td>0.66622</td></tr></table><br/></div></div>"
      ],
      "text/plain": [
       "<IPython.core.display.HTML object>"
      ]
     },
     "metadata": {},
     "output_type": "display_data"
    },
    {
     "data": {
      "text/html": [
       " View run <strong style=\"color:#cdcd00\">('TS', 'LogisticRegression', 1024)</strong> at: <a href='https://wandb.ai/riaxchoi-heinrich-heine-university-d-sseldorf/LinearClassification%20no%20model-train%2C%202%20types%2C%20w%20dropout/runs/e2uxlpsg' target=\"_blank\">https://wandb.ai/riaxchoi-heinrich-heine-university-d-sseldorf/LinearClassification%20no%20model-train%2C%202%20types%2C%20w%20dropout/runs/e2uxlpsg</a><br/> View project at: <a href='https://wandb.ai/riaxchoi-heinrich-heine-university-d-sseldorf/LinearClassification%20no%20model-train%2C%202%20types%2C%20w%20dropout' target=\"_blank\">https://wandb.ai/riaxchoi-heinrich-heine-university-d-sseldorf/LinearClassification%20no%20model-train%2C%202%20types%2C%20w%20dropout</a><br/>Synced 6 W&B file(s), 0 media file(s), 0 artifact file(s) and 0 other file(s)"
      ],
      "text/plain": [
       "<IPython.core.display.HTML object>"
      ]
     },
     "metadata": {},
     "output_type": "display_data"
    },
    {
     "data": {
      "text/html": [
       "Find logs at: <code>./wandb/run-20241129_181647-e2uxlpsg/logs</code>"
      ],
      "text/plain": [
       "<IPython.core.display.HTML object>"
      ]
     },
     "metadata": {},
     "output_type": "display_data"
    },
    {
     "data": {
      "text/html": [
       "The new W&B backend becomes opt-out in version 0.18.0; try it out with `wandb.require(\"core\")`! See https://wandb.me/wandb-core for more information."
      ],
      "text/plain": [
       "<IPython.core.display.HTML object>"
      ]
     },
     "metadata": {},
     "output_type": "display_data"
    },
    {
     "name": "stdout",
     "output_type": "stream",
     "text": [
      "Running with model: TS, classification:LogisticRegression, batch size: 2048\n"
     ]
    },
    {
     "data": {
      "application/vnd.jupyter.widget-view+json": {
       "model_id": "805df95503a74b2793f0ed9f9494b6e8",
       "version_major": 2,
       "version_minor": 0
      },
      "text/plain": [
       "VBox(children=(Label(value='Waiting for wandb.init()...\\r'), FloatProgress(value=0.011113488022238016, max=1.0…"
      ]
     },
     "metadata": {},
     "output_type": "display_data"
    },
    {
     "data": {
      "text/html": [
       "wandb version 0.18.7 is available!  To upgrade, please run:\n",
       " $ pip install wandb --upgrade"
      ],
      "text/plain": [
       "<IPython.core.display.HTML object>"
      ]
     },
     "metadata": {},
     "output_type": "display_data"
    },
    {
     "data": {
      "text/html": [
       "Tracking run with wandb version 0.17.6"
      ],
      "text/plain": [
       "<IPython.core.display.HTML object>"
      ]
     },
     "metadata": {},
     "output_type": "display_data"
    },
    {
     "data": {
      "text/html": [
       "Run data is saved locally in <code>/home/ria/MMBSintern/bachelor/exercise/wandb/run-20241129_181657-b1xzz8tb</code>"
      ],
      "text/plain": [
       "<IPython.core.display.HTML object>"
      ]
     },
     "metadata": {},
     "output_type": "display_data"
    },
    {
     "data": {
      "text/html": [
       "Syncing run <strong><a href='https://wandb.ai/riaxchoi-heinrich-heine-university-d-sseldorf/LinearClassification%20no%20model-train%2C%202%20types%2C%20w%20dropout/runs/b1xzz8tb' target=\"_blank\">('TS', 'LogisticRegression', 2048)</a></strong> to <a href='https://wandb.ai/riaxchoi-heinrich-heine-university-d-sseldorf/LinearClassification%20no%20model-train%2C%202%20types%2C%20w%20dropout' target=\"_blank\">Weights & Biases</a> (<a href='https://wandb.me/run' target=\"_blank\">docs</a>)<br/>"
      ],
      "text/plain": [
       "<IPython.core.display.HTML object>"
      ]
     },
     "metadata": {},
     "output_type": "display_data"
    },
    {
     "data": {
      "text/html": [
       " View project at <a href='https://wandb.ai/riaxchoi-heinrich-heine-university-d-sseldorf/LinearClassification%20no%20model-train%2C%202%20types%2C%20w%20dropout' target=\"_blank\">https://wandb.ai/riaxchoi-heinrich-heine-university-d-sseldorf/LinearClassification%20no%20model-train%2C%202%20types%2C%20w%20dropout</a>"
      ],
      "text/plain": [
       "<IPython.core.display.HTML object>"
      ]
     },
     "metadata": {},
     "output_type": "display_data"
    },
    {
     "data": {
      "text/html": [
       " View run at <a href='https://wandb.ai/riaxchoi-heinrich-heine-university-d-sseldorf/LinearClassification%20no%20model-train%2C%202%20types%2C%20w%20dropout/runs/b1xzz8tb' target=\"_blank\">https://wandb.ai/riaxchoi-heinrich-heine-university-d-sseldorf/LinearClassification%20no%20model-train%2C%202%20types%2C%20w%20dropout/runs/b1xzz8tb</a>"
      ],
      "text/plain": [
       "<IPython.core.display.HTML object>"
      ]
     },
     "metadata": {},
     "output_type": "display_data"
    },
    {
     "name": "stdout",
     "output_type": "stream",
     "text": [
      "Initial Accuracy without Training: 70.75%\n"
     ]
    },
    {
     "data": {
      "application/vnd.jupyter.widget-view+json": {
       "model_id": "43e141b5ceb046aaa235d0df3346519d",
       "version_major": 2,
       "version_minor": 0
      },
      "text/plain": [
       "VBox(children=(Label(value='0.005 MB of 0.005 MB uploaded\\r'), FloatProgress(value=1.0, max=1.0)))"
      ]
     },
     "metadata": {},
     "output_type": "display_data"
    },
    {
     "data": {
      "text/html": [
       "<style>\n",
       "    table.wandb td:nth-child(1) { padding: 0 10px; text-align: left ; width: auto;} td:nth-child(2) {text-align: left ; width: 100%}\n",
       "    .wandb-row { display: flex; flex-direction: row; flex-wrap: wrap; justify-content: flex-start; width: 100% }\n",
       "    .wandb-col { display: flex; flex-direction: column; flex-basis: 100%; flex: 1; padding: 10px; }\n",
       "    </style>\n",
       "<div class=\"wandb-row\"><div class=\"wandb-col\"><h3>Run history:</h3><br/><table class=\"wandb\"><tr><td>ROC-AUC Score</td><td>▁</td></tr><tr><td>accuracy</td><td>▁</td></tr><tr><td>f1_AFib</td><td>▁</td></tr><tr><td>f1_non-AFib</td><td>▁</td></tr><tr><td>initial_accuracy</td><td>▁</td></tr><tr><td>precision_AFib</td><td>▁</td></tr><tr><td>precision_non-AFib</td><td>▁</td></tr><tr><td>recall_AFib</td><td>▁</td></tr><tr><td>recall_non-AFib</td><td>▁</td></tr></table><br/></div><div class=\"wandb-col\"><h3>Run summary:</h3><br/><table class=\"wandb\"><tr><td>ROC-AUC Score</td><td>0.80201</td></tr><tr><td>accuracy</td><td>0.70748</td></tr><tr><td>f1_AFib</td><td>0.48538</td></tr><tr><td>f1_non-AFib</td><td>0.79567</td></tr><tr><td>initial_accuracy</td><td>0.70748</td></tr><tr><td>precision_AFib</td><td>0.35673</td></tr><tr><td>precision_non-AFib</td><td>0.92864</td></tr><tr><td>recall_AFib</td><td>0.75915</td></tr><tr><td>recall_non-AFib</td><td>0.69601</td></tr></table><br/></div></div>"
      ],
      "text/plain": [
       "<IPython.core.display.HTML object>"
      ]
     },
     "metadata": {},
     "output_type": "display_data"
    },
    {
     "data": {
      "text/html": [
       " View run <strong style=\"color:#cdcd00\">('TS', 'LogisticRegression', 2048)</strong> at: <a href='https://wandb.ai/riaxchoi-heinrich-heine-university-d-sseldorf/LinearClassification%20no%20model-train%2C%202%20types%2C%20w%20dropout/runs/b1xzz8tb' target=\"_blank\">https://wandb.ai/riaxchoi-heinrich-heine-university-d-sseldorf/LinearClassification%20no%20model-train%2C%202%20types%2C%20w%20dropout/runs/b1xzz8tb</a><br/> View project at: <a href='https://wandb.ai/riaxchoi-heinrich-heine-university-d-sseldorf/LinearClassification%20no%20model-train%2C%202%20types%2C%20w%20dropout' target=\"_blank\">https://wandb.ai/riaxchoi-heinrich-heine-university-d-sseldorf/LinearClassification%20no%20model-train%2C%202%20types%2C%20w%20dropout</a><br/>Synced 6 W&B file(s), 0 media file(s), 0 artifact file(s) and 0 other file(s)"
      ],
      "text/plain": [
       "<IPython.core.display.HTML object>"
      ]
     },
     "metadata": {},
     "output_type": "display_data"
    },
    {
     "data": {
      "text/html": [
       "Find logs at: <code>./wandb/run-20241129_181657-b1xzz8tb/logs</code>"
      ],
      "text/plain": [
       "<IPython.core.display.HTML object>"
      ]
     },
     "metadata": {},
     "output_type": "display_data"
    },
    {
     "data": {
      "text/html": [
       "The new W&B backend becomes opt-out in version 0.18.0; try it out with `wandb.require(\"core\")`! See https://wandb.me/wandb-core for more information."
      ],
      "text/plain": [
       "<IPython.core.display.HTML object>"
      ]
     },
     "metadata": {},
     "output_type": "display_data"
    }
   ],
   "source": [
    "modelname=['CPC', 'TS']\n",
    "type=['ClassifierNN', 'LogisticRegression']\n",
    "#\n",
    "\n",
    "device = torch.device(\"cuda\" if torch.cuda.is_available() else \"cpu\")\n",
    "\n",
    "batch_size = [256,512,1024,2048]\n",
    "\n",
    "path = '/home/ria/MMBSintern/bachelor/exercise/data' \n",
    "\n",
    "train_data = Wearable(path, True)\n",
    "test_data = Wearable(path, False)\n",
    "\n",
    "\n",
    "train_loader = DataLoader(train_data, batch_size=64, shuffle=True, num_workers=0)\n",
    "test_loader = DataLoader(test_data, batch_size=len(test_data), shuffle=False, num_workers=0) \n",
    "\n",
    "\n",
    "\n",
    "# Generate all combinations of modelname and batchsize\n",
    "combinations = list(itertools.product(modelname, type, batch_size))\n",
    "\n",
    "# Run each combination with each value of num_epochs\n",
    "\n",
    "for modelname, type, bs in combinations:\n",
    "        \n",
    "    print(f\"Running with model: {modelname}, classification:{type}, batch size: {bs}\")\n",
    "        \n",
    "    if modelname == 'CPC':\n",
    "        model = CPC(timestep=3, batch_size=bs, seq_len=200).to(device)\n",
    "\n",
    "    elif modelname == 'TS':\n",
    "        model = TS(timestep=3, batch_size=bs, seq_len=200).to(device)\n",
    "\n",
    "    else:\n",
    "        raise ValueError(f\"Unknown model name: {modelname}\")\n",
    "\n",
    "        \n",
    "    config = dict( model = modelname,\n",
    "                    classification = type,\n",
    "                    batch_size = bs\n",
    "                    )\n",
    "                \n",
    "            \n",
    "    wandb.init(project=\"LinearClassification no model-train, 2 types, w dropout\", \n",
    "                name=f\"{modelname,type,bs}\",\n",
    "                config=config,\n",
    "                reinit=True)\n",
    "\n",
    "\n",
    "    stats = no_train(model, config['classification'], train_loader, test_loader, device)\n",
    "            \n",
    "    wandb.finish() \n",
    "            "
   ]
  }
 ],
 "metadata": {
  "kernelspec": {
   "display_name": "AILS",
   "language": "python",
   "name": "python3"
  },
  "language_info": {
   "codemirror_mode": {
    "name": "ipython",
    "version": 3
   },
   "file_extension": ".py",
   "mimetype": "text/x-python",
   "name": "python",
   "nbconvert_exporter": "python",
   "pygments_lexer": "ipython3",
   "version": "3.10.0"
  }
 },
 "nbformat": 4,
 "nbformat_minor": 2
}
